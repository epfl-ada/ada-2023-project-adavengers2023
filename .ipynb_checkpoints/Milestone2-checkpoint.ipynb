{
 "cells": [
  {
   "cell_type": "markdown",
   "id": "def5b8a5-cad0-4921-a079-2449f7b241d5",
   "metadata": {},
   "source": [
    "# Milestone 2 - Adavengers 2023"
   ]
  },
  {
   "cell_type": "markdown",
   "id": "de19fc10-9426-498b-ba34-701823adee43",
   "metadata": {},
   "source": [
    "In this milestone, we will get acquainted with the data, preprocess it and do necessary descriptive statistics tasks. We will also plan our future analysis in detail and describe, as well as test, proposed methodologies."
   ]
  },
  {
   "cell_type": "code",
   "execution_count": 72,
   "id": "5e7a2852-5352-45b2-aa39-eadf6cf679da",
   "metadata": {
    "tags": []
   },
   "outputs": [],
   "source": [
    "#This can be deleted later:\n",
    "#Idea for structure of this Milestone 2 Notebook:\n",
    "#Step 1: Importing Data\n",
    "#Step 2: Cleaning Data - remove Nans, PAY ATTENTION TO DUPLICATES!\n",
    "#Step 3: Descriptive Statistics - how is data distributed, what are mean values,... \n",
    "#Step 4: Getting into details of adjectives topic (if we get that far): \n",
    "    #test how we can identify adjectives \n",
    "    #and who if a sentence is about male or female\n",
    "#Step 5: maybe start answering our other research questions, if we have time!"
   ]
  },
  {
   "cell_type": "code",
   "execution_count": 73,
   "id": "8dd57ae7-a597-446d-a612-8226d0218e32",
   "metadata": {
    "tags": []
   },
   "outputs": [],
   "source": [
    "#QUESTIONS general:\n",
    "#should we merge everything to one df? probably, right?"
   ]
  },
  {
   "cell_type": "code",
   "execution_count": 4,
   "id": "b2a76559-c612-4e10-8517-af31b4429c43",
   "metadata": {
    "tags": []
   },
   "outputs": [],
   "source": [
    "#Library Imports\n",
    "import pandas as pd\n",
    "import numpy as np\n",
    "from scipy.stats import ttest_ind\n",
    "from statsmodels.stats import diagnostic\n"
   ]
  },
  {
   "cell_type": "markdown",
   "id": "9c71507f-254f-489a-bef6-eaafcc03f41b",
   "metadata": {
    "tags": []
   },
   "source": [
    "## Step 1: Importing the Data"
   ]
  },
  {
   "cell_type": "code",
   "execution_count": 5,
   "id": "125c36ab-c101-486c-8ead-d352c41e8cd5",
   "metadata": {
    "tags": []
   },
   "outputs": [],
   "source": [
    "#metadata_headers = [\"Wikipedia_ID\", \"Freebase_ID\", \"Movie name\" , \"Movie release date\", \"box_office_revenue\", \"Movie runtime\", \"Movie languages\",\"Movie countries\", \"Movie genres\"]\n",
    "metadata_headers = [\"Wikipedia_ID\", \"Freebase_ID\", \"Movie_name\" , \"Release_date\", \"box_office_revenue\", \"runtime\", \"languages\",\"countries\", \"genres\"]\n",
    "dfmetadata = pd.read_csv('data/movie.metadata.tsv',sep='\\t',header =None, names =metadata_headers)\n",
    "#dfmetadata.head()\n",
    "\n",
    "#Reading in the Data\n",
    "#dfsummaries=pd.read_table('data/plot_summaries.txt',header=None,names=[\"Wikipedia_ID\",\"Summary\"])\n",
    "dfsummaries=pd.read_table('data/plot_summaries.txt',header=None,names=[\"Wikipedia_ID\",\"Summary\"])\n",
    "#dfsummaries.head()\n",
    "character_head = [\"Wikipedia_ID\",\"Freebase_ID\", \"Release_date\", \"Character_name\", \"Actor_date_of_birth\", \"Gender\", \"Height\", \"Ethnicity\", \"Actor_name\", \"Age\",\"Freebase_character/actor_map_ID\", \"Freebase_character_ID\", \"Freebase_actor_ID\"]\n",
    "dfcharacter =pd.read_csv('data/character.metadata.tsv',sep='\\t',header =None, names =character_head)"
   ]
  },
  {
   "cell_type": "markdown",
   "id": "e5e4484d-68d9-42da-b78f-9a56c68c6406",
   "metadata": {
    "tags": []
   },
   "source": [
    "## Step 2 A: Cleaning Summaries Data"
   ]
  },
  {
   "cell_type": "code",
   "execution_count": 6,
   "id": "4b33a4e1-4c93-4307-8922-e8dd4ed86ad1",
   "metadata": {
    "tags": []
   },
   "outputs": [
    {
     "name": "stdout",
     "output_type": "stream",
     "text": [
      "1    The nation of Panem consists of a wealthy Capi...\n",
      "Name: Summary, dtype: object\n",
      "78373    The Hunger Games\n",
      "Name: Movie_name, dtype: object\n"
     ]
    }
   ],
   "source": [
    "#Checking if the Wikipedia_IDs in summaries are the same as in Metadata by randomly checking an id (31186339)\n",
    "print(dfsummaries[dfsummaries[\"Wikipedia_ID\"]==31186339][\"Summary\"])\n",
    "print(dfmetadata[dfmetadata[\"Wikipedia_ID\"]==31186339][\"Movie_name\"]) "
   ]
  },
  {
   "cell_type": "code",
   "execution_count": 7,
   "id": "9c6ea51f-1a75-4d7a-a23f-4fb461781299",
   "metadata": {
    "tags": []
   },
   "outputs": [
    {
     "name": "stdout",
     "output_type": "stream",
     "text": [
      "False\n",
      "False\n"
     ]
    }
   ],
   "source": [
    "#Checking if there are NaNs\n",
    "print(dfsummaries[\"Wikipedia_ID\"].hasnans) #There are no NaNs.\n",
    "print(dfsummaries[\"Summary\"].hasnans) #There are no NaNs."
   ]
  },
  {
   "cell_type": "code",
   "execution_count": 8,
   "id": "502d61fe-bdcd-4442-a2c3-eed5bed4ec1e",
   "metadata": {
    "tags": []
   },
   "outputs": [
    {
     "name": "stdout",
     "output_type": "stream",
     "text": [
      "True\n",
      "False\n",
      "True\n"
     ]
    }
   ],
   "source": [
    "#Checking if there are double entries and removing them\n",
    "print(dfsummaries[\"Wikipedia_ID\"].is_unique) #This is true, nice!\n",
    "print(dfsummaries[\"Summary\"].is_unique) #This is false\n",
    "dfsummaries.drop_duplicates(['Summary'],inplace=True)\n",
    "print(dfsummaries[\"Summary\"].is_unique) \n",
    "#Now we can see there are no more duplicates (remember to do same for metadata!)"
   ]
  },
  {
   "cell_type": "code",
   "execution_count": 9,
   "id": "aec3ed59-cf44-43c2-804a-1a7ae92f0803",
   "metadata": {
    "tags": []
   },
   "outputs": [
    {
     "data": {
      "text/plain": [
       "Wikipedia_ID     int64\n",
       "Summary         object\n",
       "dtype: object"
      ]
     },
     "execution_count": 9,
     "metadata": {},
     "output_type": "execute_result"
    }
   ],
   "source": [
    "#Another thing we could do is look at the type of the data. \n",
    "#The IDs should all be positive integers, the summaries all str.\n",
    "dfsummaries.dtypes #We can see that this is the case"
   ]
  },
  {
   "cell_type": "code",
   "execution_count": 10,
   "id": "152a7f52-fe04-4274-a985-820d663457c5",
   "metadata": {
    "tags": []
   },
   "outputs": [
    {
     "data": {
      "text/plain": [
       "330"
      ]
     },
     "execution_count": 10,
     "metadata": {},
     "output_type": "execute_result"
    }
   ],
   "source": [
    "#Checking if we have negative values for ID\n",
    "dfsummaries[\"Wikipedia_ID\"].min() #Nice! They're all positive."
   ]
  },
  {
   "cell_type": "markdown",
   "id": "154b52a0-e670-4f75-8927-0eaa88e69c28",
   "metadata": {
    "tags": []
   },
   "source": [
    "## Step 2 B Describing Summaries Data"
   ]
  },
  {
   "cell_type": "code",
   "execution_count": 11,
   "id": "f7e618bc-88ab-4268-9c2f-fa76c307967e",
   "metadata": {
    "tags": []
   },
   "outputs": [
    {
     "name": "stdout",
     "output_type": "stream",
     "text": [
      "number of summary entries: 42295\n",
      "number of metadata entries: 81741\n"
     ]
    }
   ],
   "source": [
    "#Checking how many entries there are\n",
    "print(\"number of summary entries:\",len(dfsummaries))\n",
    "print(\"number of metadata entries:\",len(dfmetadata)) \n",
    "#We can see that there is not a summary for every movie but only about half."
   ]
  },
  {
   "cell_type": "code",
   "execution_count": 12,
   "id": "0639133b-daa0-4f27-9bc8-26ce6350e96d",
   "metadata": {
    "tags": []
   },
   "outputs": [
    {
     "name": "stdout",
     "output_type": "stream",
     "text": [
      "The length of summaries ranges from 99 to 28159 characters.\n"
     ]
    }
   ],
   "source": [
    "#Check the lengths of the summaries (we can see that there is a great spread.)\n",
    "dfsummaries[\"Summary_Length\"]=dfsummaries['Summary'].apply(lambda x: len(x))\n",
    "print(\"The length of summaries ranges from %d to %d characters.\" %(dfsummaries[\"Summary_Length\"].min(),dfsummaries[\"Summary_Length\"].max()))"
   ]
  },
  {
   "cell_type": "code",
   "execution_count": 13,
   "id": "408e8d78-2b4e-44ae-9197-c22e44f6e0c6",
   "metadata": {
    "tags": []
   },
   "outputs": [
    {
     "data": {
      "text/plain": [
       "<Axes: >"
      ]
     },
     "execution_count": 13,
     "metadata": {},
     "output_type": "execute_result"
    },
    {
     "data": {
      "image/png": "[encoded data removed]",
      "text/plain": [
       "<Figure size 640x480 with 1 Axes>"
      ]
     },
     "metadata": {},
     "output_type": "display_data"
    }
   ],
   "source": [
    "#Displayed in a logarithmic histogram, we can see that most movie summaries are short and a few are bigger.\n",
    "dfsummaries[\"Summary_Length\"].hist(log=True)"
   ]
  },
  {
   "cell_type": "code",
   "execution_count": 14,
   "id": "0949f02f-5f6a-4008-961d-2fe1f7bdf8ef",
   "metadata": {
    "tags": []
   },
   "outputs": [
    {
     "name": "stdout",
     "output_type": "stream",
     "text": [
      "(0.17600314066454867, 0.0009999999999998899)\n",
      "(0.0571594944628687, 0.0009999999999998899)\n"
     ]
    }
   ],
   "source": [
    "#So, how are the summary lengths actually distributed? Let's find out\n",
    "print(diagnostic.kstest_normal(dfsummaries['Summary_Length'].values, dist = 'norm'))\n",
    "print(diagnostic.kstest_normal(dfsummaries['Summary_Length'].values, dist = 'exp'))\n",
    "#P-avlue < 0.05. The summary lengths are neither normal nor exponentially dist"
   ]
  },
  {
   "cell_type": "markdown",
   "id": "1576c40c-3a7b-46d8-9cd8-38ad69d4333e",
   "metadata": {},
   "source": [
    "There are some summaries much longer than others. Though for now we do the learning on the whole summary dataset as if it was a huge text. This might lead to a bias that the word embedding will learn more from movies with a bigger summary length than those with a shorter. An hypothesis we have is that maybe the longest summaries are the most watched movies and thus the most representative of how the bias between men and women might be seen by the general public of people watching movies. To chech this let'sdo a scatter plot with box office thinking that movies with most data are the most watched movies."
   ]
  },
  {
   "cell_type": "markdown",
   "id": "250a4c10-ed73-4ecb-ac18-8eff9c311206",
   "metadata": {
    "tags": []
   },
   "source": [
    "## Step 3A Cleaning Metadata"
   ]
  },
  {
   "cell_type": "code",
   "execution_count": 15,
   "id": "7f48be97-0149-4a19-bb5c-a8f477dfd536",
   "metadata": {
    "tags": []
   },
   "outputs": [
    {
     "data": {
      "text/html": [
       "<div>\n",
       "<style scoped>\n",
       "    .dataframe tbody tr th:only-of-type {\n",
       "        vertical-align: middle;\n",
       "    }\n",
       "\n",
       "    .dataframe tbody tr th {\n",
       "        vertical-align: top;\n",
       "    }\n",
       "\n",
       "    .dataframe thead th {\n",
       "        text-align: right;\n",
       "    }\n",
       "</style>\n",
       "<table border=\"1\" class=\"dataframe\">\n",
       "  <thead>\n",
       "    <tr style=\"text-align: right;\">\n",
       "      <th></th>\n",
       "      <th>Wikipedia_ID</th>\n",
       "      <th>Freebase_ID</th>\n",
       "      <th>Movie_name</th>\n",
       "      <th>Release_date</th>\n",
       "      <th>box_office_revenue</th>\n",
       "      <th>runtime</th>\n",
       "      <th>languages</th>\n",
       "      <th>countries</th>\n",
       "      <th>genres</th>\n",
       "    </tr>\n",
       "  </thead>\n",
       "  <tbody>\n",
       "    <tr>\n",
       "      <th>0</th>\n",
       "      <td>975900</td>\n",
       "      <td>/m/03vyhn</td>\n",
       "      <td>Ghosts of Mars</td>\n",
       "      <td>2001-08-24</td>\n",
       "      <td>14010832.0</td>\n",
       "      <td>98.0</td>\n",
       "      <td>{\"/m/02h40lc\": \"English Language\"}</td>\n",
       "      <td>{\"/m/09c7w0\": \"United States of America\"}</td>\n",
       "      <td>{\"/m/01jfsb\": \"Thriller\", \"/m/06n90\": \"Science...</td>\n",
       "    </tr>\n",
       "    <tr>\n",
       "      <th>1</th>\n",
       "      <td>3196793</td>\n",
       "      <td>/m/08yl5d</td>\n",
       "      <td>Getting Away with Murder: The JonBenét Ramsey ...</td>\n",
       "      <td>2000-02-16</td>\n",
       "      <td>NaN</td>\n",
       "      <td>95.0</td>\n",
       "      <td>{\"/m/02h40lc\": \"English Language\"}</td>\n",
       "      <td>{\"/m/09c7w0\": \"United States of America\"}</td>\n",
       "      <td>{\"/m/02n4kr\": \"Mystery\", \"/m/03bxz7\": \"Biograp...</td>\n",
       "    </tr>\n",
       "    <tr>\n",
       "      <th>2</th>\n",
       "      <td>28463795</td>\n",
       "      <td>/m/0crgdbh</td>\n",
       "      <td>Brun bitter</td>\n",
       "      <td>1988</td>\n",
       "      <td>NaN</td>\n",
       "      <td>83.0</td>\n",
       "      <td>{\"/m/05f_3\": \"Norwegian Language\"}</td>\n",
       "      <td>{\"/m/05b4w\": \"Norway\"}</td>\n",
       "      <td>{\"/m/0lsxr\": \"Crime Fiction\", \"/m/07s9rl0\": \"D...</td>\n",
       "    </tr>\n",
       "    <tr>\n",
       "      <th>3</th>\n",
       "      <td>9363483</td>\n",
       "      <td>/m/0285_cd</td>\n",
       "      <td>White Of The Eye</td>\n",
       "      <td>1987</td>\n",
       "      <td>NaN</td>\n",
       "      <td>110.0</td>\n",
       "      <td>{\"/m/02h40lc\": \"English Language\"}</td>\n",
       "      <td>{\"/m/07ssc\": \"United Kingdom\"}</td>\n",
       "      <td>{\"/m/01jfsb\": \"Thriller\", \"/m/0glj9q\": \"Erotic...</td>\n",
       "    </tr>\n",
       "    <tr>\n",
       "      <th>4</th>\n",
       "      <td>261236</td>\n",
       "      <td>/m/01mrr1</td>\n",
       "      <td>A Woman in Flames</td>\n",
       "      <td>1983</td>\n",
       "      <td>NaN</td>\n",
       "      <td>106.0</td>\n",
       "      <td>{\"/m/04306rv\": \"German Language\"}</td>\n",
       "      <td>{\"/m/0345h\": \"Germany\"}</td>\n",
       "      <td>{\"/m/07s9rl0\": \"Drama\"}</td>\n",
       "    </tr>\n",
       "  </tbody>\n",
       "</table>\n",
       "</div>"
      ],
      "text/plain": [
       "   Wikipedia_ID Freebase_ID  \\\n",
       "0        975900   /m/03vyhn   \n",
       "1       3196793   /m/08yl5d   \n",
       "2      28463795  /m/0crgdbh   \n",
       "3       9363483  /m/0285_cd   \n",
       "4        261236   /m/01mrr1   \n",
       "\n",
       "                                          Movie_name Release_date  \\\n",
       "0                                     Ghosts of Mars   2001-08-24   \n",
       "1  Getting Away with Murder: The JonBenét Ramsey ...   2000-02-16   \n",
       "2                                        Brun bitter         1988   \n",
       "3                                   White Of The Eye         1987   \n",
       "4                                  A Woman in Flames         1983   \n",
       "\n",
       "   box_office_revenue  runtime                           languages  \\\n",
       "0          14010832.0     98.0  {\"/m/02h40lc\": \"English Language\"}   \n",
       "1                 NaN     95.0  {\"/m/02h40lc\": \"English Language\"}   \n",
       "2                 NaN     83.0  {\"/m/05f_3\": \"Norwegian Language\"}   \n",
       "3                 NaN    110.0  {\"/m/02h40lc\": \"English Language\"}   \n",
       "4                 NaN    106.0   {\"/m/04306rv\": \"German Language\"}   \n",
       "\n",
       "                                   countries  \\\n",
       "0  {\"/m/09c7w0\": \"United States of America\"}   \n",
       "1  {\"/m/09c7w0\": \"United States of America\"}   \n",
       "2                     {\"/m/05b4w\": \"Norway\"}   \n",
       "3             {\"/m/07ssc\": \"United Kingdom\"}   \n",
       "4                    {\"/m/0345h\": \"Germany\"}   \n",
       "\n",
       "                                              genres  \n",
       "0  {\"/m/01jfsb\": \"Thriller\", \"/m/06n90\": \"Science...  \n",
       "1  {\"/m/02n4kr\": \"Mystery\", \"/m/03bxz7\": \"Biograp...  \n",
       "2  {\"/m/0lsxr\": \"Crime Fiction\", \"/m/07s9rl0\": \"D...  \n",
       "3  {\"/m/01jfsb\": \"Thriller\", \"/m/0glj9q\": \"Erotic...  \n",
       "4                            {\"/m/07s9rl0\": \"Drama\"}  "
      ]
     },
     "execution_count": 15,
     "metadata": {},
     "output_type": "execute_result"
    }
   ],
   "source": [
    "dfmetadata.head()"
   ]
  },
  {
   "cell_type": "code",
   "execution_count": 16,
   "id": "e32f2847-5d59-44a4-a68f-93c25ab8bd7f",
   "metadata": {
    "tags": []
   },
   "outputs": [
    {
     "data": {
      "text/plain": [
       "Wikipedia_ID            int64\n",
       "Freebase_ID            object\n",
       "Movie_name             object\n",
       "Release_date           object\n",
       "box_office_revenue    float64\n",
       "runtime               float64\n",
       "languages              object\n",
       "countries              object\n",
       "genres                 object\n",
       "dtype: object"
      ]
     },
     "execution_count": 16,
     "metadata": {},
     "output_type": "execute_result"
    }
   ],
   "source": [
    "dfmetadata.dtypes"
   ]
  },
  {
   "cell_type": "code",
   "execution_count": 17,
   "id": "202a4bbf-71fc-4232-ae78-7df04855cfb1",
   "metadata": {
    "tags": []
   },
   "outputs": [
    {
     "name": "stdout",
     "output_type": "stream",
     "text": [
      "False\n"
     ]
    }
   ],
   "source": [
    "#Just from looking at the Data we can already see that there are some NaNs \n",
    "#in the office box revenue. Let's see how many\n",
    "print(dfmetadata[\"Wikipedia_ID\"].hasnans)"
   ]
  },
  {
   "cell_type": "code",
   "execution_count": 18,
   "id": "40b5626d-8c21-41dd-acc3-9c5e3eac6c67",
   "metadata": {
    "tags": []
   },
   "outputs": [
    {
     "name": "stdout",
     "output_type": "stream",
     "text": [
      "<class 'pandas.core.frame.DataFrame'>\n",
      "RangeIndex: 81741 entries, 0 to 81740\n",
      "Data columns (total 9 columns):\n",
      " #   Column              Non-Null Count  Dtype  \n",
      "---  ------              --------------  -----  \n",
      " 0   Wikipedia_ID        81741 non-null  int64  \n",
      " 1   Freebase_ID         81741 non-null  object \n",
      " 2   Movie_name          81741 non-null  object \n",
      " 3   Release_date        74839 non-null  object \n",
      " 4   box_office_revenue  8401 non-null   float64\n",
      " 5   runtime             61291 non-null  float64\n",
      " 6   languages           81741 non-null  object \n",
      " 7   countries           81741 non-null  object \n",
      " 8   genres              81741 non-null  object \n",
      "dtypes: float64(2), int64(1), object(6)\n",
      "memory usage: 5.6+ MB\n"
     ]
    }
   ],
   "source": [
    "dfmetadata.info() "
   ]
  },
  {
   "cell_type": "code",
   "execution_count": 19,
   "id": "fab961aa-c74e-479d-a65f-38f3b4ce0ca4",
   "metadata": {
    "tags": []
   },
   "outputs": [
    {
     "data": {
      "text/plain": [
       "0.1027758407653442"
      ]
     },
     "execution_count": 19,
     "metadata": {},
     "output_type": "execute_result"
    }
   ],
   "source": [
    "(len(dfmetadata)-dfmetadata[\"box_office_revenue\"].isna().sum()) /len(dfmetadata)\n",
    "#We can see that we only have box office revenue values for around 10% of the movie data!"
   ]
  },
  {
   "cell_type": "markdown",
   "id": "1556d4e0-7c77-4117-acd9-85467a6fd202",
   "metadata": {},
   "source": [
    "We can see that there are some NaNs for the release date and the runtime. Especially, there seem to be alot of NaNs for box office revenue!\n",
    "This is important as it might affect the feasibility of answering the question if the amount of women in a movie has an effect on box office revenue. We thus decided to not explore further this research question. "
   ]
  },
  {
   "cell_type": "markdown",
   "id": "bc7f1fc1-9802-430d-85c2-b10a862050f8",
   "metadata": {},
   "source": [
    "### Step 4A : cleaning character data"
   ]
  },
  {
   "cell_type": "markdown",
   "id": "783b5392-a44f-486e-b4d3-126e213f1092",
   "metadata": {},
   "source": [
    "First let's have a quick look at the data."
   ]
  },
  {
   "cell_type": "code",
   "execution_count": 20,
   "id": "ea344861-d705-4cc0-8f8b-fc38d275814a",
   "metadata": {
    "tags": []
   },
   "outputs": [
    {
     "data": {
      "text/html": [
       "<div>\n",
       "<style scoped>\n",
       "    .dataframe tbody tr th:only-of-type {\n",
       "        vertical-align: middle;\n",
       "    }\n",
       "\n",
       "    .dataframe tbody tr th {\n",
       "        vertical-align: top;\n",
       "    }\n",
       "\n",
       "    .dataframe thead th {\n",
       "        text-align: right;\n",
       "    }\n",
       "</style>\n",
       "<table border=\"1\" class=\"dataframe\">\n",
       "  <thead>\n",
       "    <tr style=\"text-align: right;\">\n",
       "      <th></th>\n",
       "      <th>Wikipedia_ID</th>\n",
       "      <th>Freebase_ID</th>\n",
       "      <th>Release_date</th>\n",
       "      <th>Character_name</th>\n",
       "      <th>Actor_date_of_birth</th>\n",
       "      <th>Gender</th>\n",
       "      <th>Height</th>\n",
       "      <th>Ethnicity</th>\n",
       "      <th>Actor_name</th>\n",
       "      <th>Age</th>\n",
       "      <th>Freebase_character/actor_map_ID</th>\n",
       "      <th>Freebase_character_ID</th>\n",
       "      <th>Freebase_actor_ID</th>\n",
       "    </tr>\n",
       "  </thead>\n",
       "  <tbody>\n",
       "    <tr>\n",
       "      <th>0</th>\n",
       "      <td>975900</td>\n",
       "      <td>/m/03vyhn</td>\n",
       "      <td>2001-08-24</td>\n",
       "      <td>Akooshay</td>\n",
       "      <td>1958-08-26</td>\n",
       "      <td>F</td>\n",
       "      <td>1.620</td>\n",
       "      <td>NaN</td>\n",
       "      <td>Wanda De Jesus</td>\n",
       "      <td>42.0</td>\n",
       "      <td>/m/0bgchxw</td>\n",
       "      <td>/m/0bgcj3x</td>\n",
       "      <td>/m/03wcfv7</td>\n",
       "    </tr>\n",
       "    <tr>\n",
       "      <th>1</th>\n",
       "      <td>975900</td>\n",
       "      <td>/m/03vyhn</td>\n",
       "      <td>2001-08-24</td>\n",
       "      <td>Lieutenant Melanie Ballard</td>\n",
       "      <td>1974-08-15</td>\n",
       "      <td>F</td>\n",
       "      <td>1.780</td>\n",
       "      <td>/m/044038p</td>\n",
       "      <td>Natasha Henstridge</td>\n",
       "      <td>27.0</td>\n",
       "      <td>/m/0jys3m</td>\n",
       "      <td>/m/0bgchn4</td>\n",
       "      <td>/m/0346l4</td>\n",
       "    </tr>\n",
       "    <tr>\n",
       "      <th>2</th>\n",
       "      <td>975900</td>\n",
       "      <td>/m/03vyhn</td>\n",
       "      <td>2001-08-24</td>\n",
       "      <td>Desolation Williams</td>\n",
       "      <td>1969-06-15</td>\n",
       "      <td>M</td>\n",
       "      <td>1.727</td>\n",
       "      <td>/m/0x67</td>\n",
       "      <td>Ice Cube</td>\n",
       "      <td>32.0</td>\n",
       "      <td>/m/0jys3g</td>\n",
       "      <td>/m/0bgchn_</td>\n",
       "      <td>/m/01vw26l</td>\n",
       "    </tr>\n",
       "    <tr>\n",
       "      <th>3</th>\n",
       "      <td>975900</td>\n",
       "      <td>/m/03vyhn</td>\n",
       "      <td>2001-08-24</td>\n",
       "      <td>Sgt Jericho Butler</td>\n",
       "      <td>1967-09-12</td>\n",
       "      <td>M</td>\n",
       "      <td>1.750</td>\n",
       "      <td>NaN</td>\n",
       "      <td>Jason Statham</td>\n",
       "      <td>33.0</td>\n",
       "      <td>/m/02vchl6</td>\n",
       "      <td>/m/0bgchnq</td>\n",
       "      <td>/m/034hyc</td>\n",
       "    </tr>\n",
       "    <tr>\n",
       "      <th>4</th>\n",
       "      <td>975900</td>\n",
       "      <td>/m/03vyhn</td>\n",
       "      <td>2001-08-24</td>\n",
       "      <td>Bashira Kincaid</td>\n",
       "      <td>1977-09-25</td>\n",
       "      <td>F</td>\n",
       "      <td>1.650</td>\n",
       "      <td>NaN</td>\n",
       "      <td>Clea DuVall</td>\n",
       "      <td>23.0</td>\n",
       "      <td>/m/02vbb3r</td>\n",
       "      <td>/m/0bgchp9</td>\n",
       "      <td>/m/01y9xg</td>\n",
       "    </tr>\n",
       "  </tbody>\n",
       "</table>\n",
       "</div>"
      ],
      "text/plain": [
       "   Wikipedia_ID Freebase_ID Release_date              Character_name  \\\n",
       "0        975900   /m/03vyhn   2001-08-24                    Akooshay   \n",
       "1        975900   /m/03vyhn   2001-08-24  Lieutenant Melanie Ballard   \n",
       "2        975900   /m/03vyhn   2001-08-24         Desolation Williams   \n",
       "3        975900   /m/03vyhn   2001-08-24          Sgt Jericho Butler   \n",
       "4        975900   /m/03vyhn   2001-08-24             Bashira Kincaid   \n",
       "\n",
       "  Actor_date_of_birth Gender  Height   Ethnicity          Actor_name   Age  \\\n",
       "0          1958-08-26      F   1.620         NaN      Wanda De Jesus  42.0   \n",
       "1          1974-08-15      F   1.780  /m/044038p  Natasha Henstridge  27.0   \n",
       "2          1969-06-15      M   1.727     /m/0x67            Ice Cube  32.0   \n",
       "3          1967-09-12      M   1.750         NaN       Jason Statham  33.0   \n",
       "4          1977-09-25      F   1.650         NaN         Clea DuVall  23.0   \n",
       "\n",
       "  Freebase_character/actor_map_ID Freebase_character_ID Freebase_actor_ID  \n",
       "0                      /m/0bgchxw            /m/0bgcj3x        /m/03wcfv7  \n",
       "1                       /m/0jys3m            /m/0bgchn4         /m/0346l4  \n",
       "2                       /m/0jys3g            /m/0bgchn_        /m/01vw26l  \n",
       "3                      /m/02vchl6            /m/0bgchnq         /m/034hyc  \n",
       "4                      /m/02vbb3r            /m/0bgchp9         /m/01y9xg  "
      ]
     },
     "execution_count": 20,
     "metadata": {},
     "output_type": "execute_result"
    }
   ],
   "source": [
    "dfcharacter.head()"
   ]
  },
  {
   "cell_type": "code",
   "execution_count": 21,
   "id": "b474cd0a-88e6-4803-978f-5aff87470761",
   "metadata": {
    "tags": []
   },
   "outputs": [
    {
     "data": {
      "text/html": [
       "<div>\n",
       "<style scoped>\n",
       "    .dataframe tbody tr th:only-of-type {\n",
       "        vertical-align: middle;\n",
       "    }\n",
       "\n",
       "    .dataframe tbody tr th {\n",
       "        vertical-align: top;\n",
       "    }\n",
       "\n",
       "    .dataframe thead th {\n",
       "        text-align: right;\n",
       "    }\n",
       "</style>\n",
       "<table border=\"1\" class=\"dataframe\">\n",
       "  <thead>\n",
       "    <tr style=\"text-align: right;\">\n",
       "      <th></th>\n",
       "      <th>Wikipedia_ID</th>\n",
       "      <th>Height</th>\n",
       "      <th>Age</th>\n",
       "    </tr>\n",
       "  </thead>\n",
       "  <tbody>\n",
       "    <tr>\n",
       "      <th>count</th>\n",
       "      <td>4.506690e+05</td>\n",
       "      <td>154824.000000</td>\n",
       "      <td>292556.000000</td>\n",
       "    </tr>\n",
       "    <tr>\n",
       "      <th>mean</th>\n",
       "      <td>1.396975e+07</td>\n",
       "      <td>1.788893</td>\n",
       "      <td>37.788523</td>\n",
       "    </tr>\n",
       "    <tr>\n",
       "      <th>std</th>\n",
       "      <td>1.079662e+07</td>\n",
       "      <td>4.379940</td>\n",
       "      <td>20.587870</td>\n",
       "    </tr>\n",
       "    <tr>\n",
       "      <th>min</th>\n",
       "      <td>3.300000e+02</td>\n",
       "      <td>0.610000</td>\n",
       "      <td>-7896.000000</td>\n",
       "    </tr>\n",
       "    <tr>\n",
       "      <th>25%</th>\n",
       "      <td>3.759292e+06</td>\n",
       "      <td>1.676400</td>\n",
       "      <td>28.000000</td>\n",
       "    </tr>\n",
       "    <tr>\n",
       "      <th>50%</th>\n",
       "      <td>1.189065e+07</td>\n",
       "      <td>1.750000</td>\n",
       "      <td>36.000000</td>\n",
       "    </tr>\n",
       "    <tr>\n",
       "      <th>75%</th>\n",
       "      <td>2.366501e+07</td>\n",
       "      <td>1.830000</td>\n",
       "      <td>47.000000</td>\n",
       "    </tr>\n",
       "    <tr>\n",
       "      <th>max</th>\n",
       "      <td>3.750192e+07</td>\n",
       "      <td>510.000000</td>\n",
       "      <td>103.000000</td>\n",
       "    </tr>\n",
       "  </tbody>\n",
       "</table>\n",
       "</div>"
      ],
      "text/plain": [
       "       Wikipedia_ID         Height            Age\n",
       "count  4.506690e+05  154824.000000  292556.000000\n",
       "mean   1.396975e+07       1.788893      37.788523\n",
       "std    1.079662e+07       4.379940      20.587870\n",
       "min    3.300000e+02       0.610000   -7896.000000\n",
       "25%    3.759292e+06       1.676400      28.000000\n",
       "50%    1.189065e+07       1.750000      36.000000\n",
       "75%    2.366501e+07       1.830000      47.000000\n",
       "max    3.750192e+07     510.000000     103.000000"
      ]
     },
     "execution_count": 21,
     "metadata": {},
     "output_type": "execute_result"
    }
   ],
   "source": [
    "dfcharacter.describe()"
   ]
  },
  {
   "cell_type": "code",
   "execution_count": 22,
   "id": "add8b0e3-9bd3-4329-bf3d-f7293b8ef8e3",
   "metadata": {
    "tags": []
   },
   "outputs": [
    {
     "data": {
      "text/plain": [
       "Index(['Wikipedia_ID', 'Freebase_ID', 'Release_date', 'Character_name',\n",
       "       'Actor_date_of_birth', 'Gender', 'Height', 'Ethnicity', 'Actor_name',\n",
       "       'Age', 'Freebase_character/actor_map_ID', 'Freebase_character_ID',\n",
       "       'Freebase_actor_ID'],\n",
       "      dtype='object')"
      ]
     },
     "execution_count": 22,
     "metadata": {},
     "output_type": "execute_result"
    }
   ],
   "source": [
    "dfcharacter.columns"
   ]
  },
  {
   "cell_type": "markdown",
   "id": "b102041c-a1b7-4157-9a94-87a94b4b347e",
   "metadata": {},
   "source": [
    "#### Height\n",
    "We see that the maximum height is 510 which doesn't make sense. We look at the characters with a height above 2m75 as it is the height of the tallest person registered on the guinness world records."
   ]
  },
  {
   "cell_type": "code",
   "execution_count": 23,
   "id": "7546f5d9-99ff-4853-bc38-34dd3db81430",
   "metadata": {
    "tags": []
   },
   "outputs": [
    {
     "data": {
      "text/html": [
       "<div>\n",
       "<style scoped>\n",
       "    .dataframe tbody tr th:only-of-type {\n",
       "        vertical-align: middle;\n",
       "    }\n",
       "\n",
       "    .dataframe tbody tr th {\n",
       "        vertical-align: top;\n",
       "    }\n",
       "\n",
       "    .dataframe thead th {\n",
       "        text-align: right;\n",
       "    }\n",
       "</style>\n",
       "<table border=\"1\" class=\"dataframe\">\n",
       "  <thead>\n",
       "    <tr style=\"text-align: right;\">\n",
       "      <th></th>\n",
       "      <th>Wikipedia_ID</th>\n",
       "      <th>Freebase_ID</th>\n",
       "      <th>Release_date</th>\n",
       "      <th>Character_name</th>\n",
       "      <th>Actor_date_of_birth</th>\n",
       "      <th>Gender</th>\n",
       "      <th>Height</th>\n",
       "      <th>Ethnicity</th>\n",
       "      <th>Actor_name</th>\n",
       "      <th>Age</th>\n",
       "      <th>Freebase_character/actor_map_ID</th>\n",
       "      <th>Freebase_character_ID</th>\n",
       "      <th>Freebase_actor_ID</th>\n",
       "    </tr>\n",
       "  </thead>\n",
       "  <tbody>\n",
       "    <tr>\n",
       "      <th>21619</th>\n",
       "      <td>1291587</td>\n",
       "      <td>/m/04qk12</td>\n",
       "      <td>2004-09-01</td>\n",
       "      <td>young Georgie</td>\n",
       "      <td>1986-03-13</td>\n",
       "      <td>M</td>\n",
       "      <td>180.0</td>\n",
       "      <td>/m/0dc58y8</td>\n",
       "      <td>Zohren Weiss</td>\n",
       "      <td>18.0</td>\n",
       "      <td>/m/0k276dx</td>\n",
       "      <td>/m/0k276dz</td>\n",
       "      <td>/m/0bggwvl</td>\n",
       "    </tr>\n",
       "    <tr>\n",
       "      <th>49659</th>\n",
       "      <td>30865068</td>\n",
       "      <td>/m/02ml14</td>\n",
       "      <td>1998-10-15</td>\n",
       "      <td>NaN</td>\n",
       "      <td>1972-12-06</td>\n",
       "      <td>M</td>\n",
       "      <td>510.0</td>\n",
       "      <td>NaN</td>\n",
       "      <td>Vince Corazza</td>\n",
       "      <td>25.0</td>\n",
       "      <td>/m/0n9ld0y</td>\n",
       "      <td>NaN</td>\n",
       "      <td>/m/08hqh0</td>\n",
       "    </tr>\n",
       "    <tr>\n",
       "      <th>59719</th>\n",
       "      <td>12206655</td>\n",
       "      <td>/m/02vvw24</td>\n",
       "      <td>NaN</td>\n",
       "      <td>Dominic</td>\n",
       "      <td>1986-03-13</td>\n",
       "      <td>M</td>\n",
       "      <td>180.0</td>\n",
       "      <td>/m/0dc58y8</td>\n",
       "      <td>Zohren Weiss</td>\n",
       "      <td>NaN</td>\n",
       "      <td>/m/0k276dq</td>\n",
       "      <td>/m/0h8hcr1</td>\n",
       "      <td>/m/0bggwvl</td>\n",
       "    </tr>\n",
       "    <tr>\n",
       "      <th>104140</th>\n",
       "      <td>17999628</td>\n",
       "      <td>/m/047n_2q</td>\n",
       "      <td>1998</td>\n",
       "      <td>NaN</td>\n",
       "      <td>1972-12-06</td>\n",
       "      <td>M</td>\n",
       "      <td>510.0</td>\n",
       "      <td>NaN</td>\n",
       "      <td>Vince Corazza</td>\n",
       "      <td>25.0</td>\n",
       "      <td>/m/0cg31bd</td>\n",
       "      <td>NaN</td>\n",
       "      <td>/m/08hqh0</td>\n",
       "    </tr>\n",
       "    <tr>\n",
       "      <th>205679</th>\n",
       "      <td>1373475</td>\n",
       "      <td>/m/04xmx8</td>\n",
       "      <td>2003-08-15</td>\n",
       "      <td>Jackal Johnson</td>\n",
       "      <td>1972-12-06</td>\n",
       "      <td>M</td>\n",
       "      <td>510.0</td>\n",
       "      <td>NaN</td>\n",
       "      <td>Vince Corazza</td>\n",
       "      <td>30.0</td>\n",
       "      <td>/m/02vbm0k</td>\n",
       "      <td>/m/0h60xk7</td>\n",
       "      <td>/m/08hqh0</td>\n",
       "    </tr>\n",
       "    <tr>\n",
       "      <th>219383</th>\n",
       "      <td>179326</td>\n",
       "      <td>/m/018gq3</td>\n",
       "      <td>1996-11-18</td>\n",
       "      <td>Herbert</td>\n",
       "      <td>1986-03-13</td>\n",
       "      <td>M</td>\n",
       "      <td>180.0</td>\n",
       "      <td>/m/0dc58y8</td>\n",
       "      <td>Zohren Weiss</td>\n",
       "      <td>10.0</td>\n",
       "      <td>/m/0bggwv8</td>\n",
       "      <td>/m/0bggwvc</td>\n",
       "      <td>/m/0bggwvl</td>\n",
       "    </tr>\n",
       "    <tr>\n",
       "      <th>301653</th>\n",
       "      <td>4667507</td>\n",
       "      <td>/m/0cg9n6</td>\n",
       "      <td>2001-11-29</td>\n",
       "      <td>NaN</td>\n",
       "      <td>1972-12-06</td>\n",
       "      <td>M</td>\n",
       "      <td>510.0</td>\n",
       "      <td>NaN</td>\n",
       "      <td>Vince Corazza</td>\n",
       "      <td>28.0</td>\n",
       "      <td>/m/0cg0zwp</td>\n",
       "      <td>NaN</td>\n",
       "      <td>/m/08hqh0</td>\n",
       "    </tr>\n",
       "    <tr>\n",
       "      <th>316621</th>\n",
       "      <td>3915041</td>\n",
       "      <td>/m/0b6lyp</td>\n",
       "      <td>2002</td>\n",
       "      <td>NaN</td>\n",
       "      <td>1972-12-06</td>\n",
       "      <td>M</td>\n",
       "      <td>510.0</td>\n",
       "      <td>NaN</td>\n",
       "      <td>Vince Corazza</td>\n",
       "      <td>29.0</td>\n",
       "      <td>/m/02vc5p5</td>\n",
       "      <td>NaN</td>\n",
       "      <td>/m/08hqh0</td>\n",
       "    </tr>\n",
       "    <tr>\n",
       "      <th>341890</th>\n",
       "      <td>29290087</td>\n",
       "      <td>/m/0b3w9mr</td>\n",
       "      <td>1997-04-07</td>\n",
       "      <td>NaN</td>\n",
       "      <td>1972-12-06</td>\n",
       "      <td>M</td>\n",
       "      <td>510.0</td>\n",
       "      <td>NaN</td>\n",
       "      <td>Vince Corazza</td>\n",
       "      <td>24.0</td>\n",
       "      <td>/m/0gvwy8x</td>\n",
       "      <td>NaN</td>\n",
       "      <td>/m/08hqh0</td>\n",
       "    </tr>\n",
       "    <tr>\n",
       "      <th>360967</th>\n",
       "      <td>14413223</td>\n",
       "      <td>/m/03d2rnl</td>\n",
       "      <td>2012-04-20</td>\n",
       "      <td>Young Punk Guy</td>\n",
       "      <td>1986-03-13</td>\n",
       "      <td>M</td>\n",
       "      <td>180.0</td>\n",
       "      <td>/m/0dc58y8</td>\n",
       "      <td>Zohren Weiss</td>\n",
       "      <td>26.0</td>\n",
       "      <td>/m/0m4q87d</td>\n",
       "      <td>/m/0k9tfs8</td>\n",
       "      <td>/m/0bggwvl</td>\n",
       "    </tr>\n",
       "    <tr>\n",
       "      <th>369731</th>\n",
       "      <td>33945838</td>\n",
       "      <td>/m/0hn8wrq</td>\n",
       "      <td>2012-09-29</td>\n",
       "      <td>Max Loflin</td>\n",
       "      <td>NaN</td>\n",
       "      <td>M</td>\n",
       "      <td>510.0</td>\n",
       "      <td>NaN</td>\n",
       "      <td>Benedict Smith</td>\n",
       "      <td>NaN</td>\n",
       "      <td>/m/0n3kptl</td>\n",
       "      <td>/m/0n3kptp</td>\n",
       "      <td>/m/0n3kptx</td>\n",
       "    </tr>\n",
       "    <tr>\n",
       "      <th>380739</th>\n",
       "      <td>4738411</td>\n",
       "      <td>/m/0ckr7s</td>\n",
       "      <td>1993-12-05</td>\n",
       "      <td>Darien - Tuxedo Mask</td>\n",
       "      <td>1972-12-06</td>\n",
       "      <td>M</td>\n",
       "      <td>510.0</td>\n",
       "      <td>NaN</td>\n",
       "      <td>Vince Corazza</td>\n",
       "      <td>20.0</td>\n",
       "      <td>/m/0bmz820</td>\n",
       "      <td>/m/0lyzygr</td>\n",
       "      <td>/m/08hqh0</td>\n",
       "    </tr>\n",
       "    <tr>\n",
       "      <th>393292</th>\n",
       "      <td>1244822</td>\n",
       "      <td>/m/04lq2l</td>\n",
       "      <td>2003-01-23</td>\n",
       "      <td>NaN</td>\n",
       "      <td>1972-12-06</td>\n",
       "      <td>M</td>\n",
       "      <td>510.0</td>\n",
       "      <td>NaN</td>\n",
       "      <td>Vince Corazza</td>\n",
       "      <td>30.0</td>\n",
       "      <td>/m/0bfm1b6</td>\n",
       "      <td>NaN</td>\n",
       "      <td>/m/08hqh0</td>\n",
       "    </tr>\n",
       "    <tr>\n",
       "      <th>406151</th>\n",
       "      <td>4578386</td>\n",
       "      <td>/m/0c9sj8</td>\n",
       "      <td>2004-04-06</td>\n",
       "      <td>NaN</td>\n",
       "      <td>1972-12-06</td>\n",
       "      <td>M</td>\n",
       "      <td>510.0</td>\n",
       "      <td>NaN</td>\n",
       "      <td>Vince Corazza</td>\n",
       "      <td>31.0</td>\n",
       "      <td>/m/03lj_70</td>\n",
       "      <td>NaN</td>\n",
       "      <td>/m/08hqh0</td>\n",
       "    </tr>\n",
       "    <tr>\n",
       "      <th>427957</th>\n",
       "      <td>4738587</td>\n",
       "      <td>/m/0ckrgs</td>\n",
       "      <td>1994-12-04</td>\n",
       "      <td>Tuxedo Mask</td>\n",
       "      <td>1972-12-06</td>\n",
       "      <td>M</td>\n",
       "      <td>510.0</td>\n",
       "      <td>NaN</td>\n",
       "      <td>Vince Corazza</td>\n",
       "      <td>21.0</td>\n",
       "      <td>/m/0lyz8r1</td>\n",
       "      <td>/m/01_7kc</td>\n",
       "      <td>/m/08hqh0</td>\n",
       "    </tr>\n",
       "  </tbody>\n",
       "</table>\n",
       "</div>"
      ],
      "text/plain": [
       "        Wikipedia_ID Freebase_ID Release_date        Character_name  \\\n",
       "21619        1291587   /m/04qk12   2004-09-01         young Georgie   \n",
       "49659       30865068   /m/02ml14   1998-10-15                   NaN   \n",
       "59719       12206655  /m/02vvw24          NaN               Dominic   \n",
       "104140      17999628  /m/047n_2q         1998                   NaN   \n",
       "205679       1373475   /m/04xmx8   2003-08-15        Jackal Johnson   \n",
       "219383        179326   /m/018gq3   1996-11-18               Herbert   \n",
       "301653       4667507   /m/0cg9n6   2001-11-29                   NaN   \n",
       "316621       3915041   /m/0b6lyp         2002                   NaN   \n",
       "341890      29290087  /m/0b3w9mr   1997-04-07                   NaN   \n",
       "360967      14413223  /m/03d2rnl   2012-04-20        Young Punk Guy   \n",
       "369731      33945838  /m/0hn8wrq   2012-09-29            Max Loflin   \n",
       "380739       4738411   /m/0ckr7s   1993-12-05  Darien - Tuxedo Mask   \n",
       "393292       1244822   /m/04lq2l   2003-01-23                   NaN   \n",
       "406151       4578386   /m/0c9sj8   2004-04-06                   NaN   \n",
       "427957       4738587   /m/0ckrgs   1994-12-04           Tuxedo Mask   \n",
       "\n",
       "       Actor_date_of_birth Gender  Height   Ethnicity      Actor_name   Age  \\\n",
       "21619           1986-03-13      M   180.0  /m/0dc58y8    Zohren Weiss  18.0   \n",
       "49659           1972-12-06      M   510.0         NaN   Vince Corazza  25.0   \n",
       "59719           1986-03-13      M   180.0  /m/0dc58y8    Zohren Weiss   NaN   \n",
       "104140          1972-12-06      M   510.0         NaN   Vince Corazza  25.0   \n",
       "205679          1972-12-06      M   510.0         NaN   Vince Corazza  30.0   \n",
       "219383          1986-03-13      M   180.0  /m/0dc58y8    Zohren Weiss  10.0   \n",
       "301653          1972-12-06      M   510.0         NaN   Vince Corazza  28.0   \n",
       "316621          1972-12-06      M   510.0         NaN   Vince Corazza  29.0   \n",
       "341890          1972-12-06      M   510.0         NaN   Vince Corazza  24.0   \n",
       "360967          1986-03-13      M   180.0  /m/0dc58y8    Zohren Weiss  26.0   \n",
       "369731                 NaN      M   510.0         NaN  Benedict Smith   NaN   \n",
       "380739          1972-12-06      M   510.0         NaN   Vince Corazza  20.0   \n",
       "393292          1972-12-06      M   510.0         NaN   Vince Corazza  30.0   \n",
       "406151          1972-12-06      M   510.0         NaN   Vince Corazza  31.0   \n",
       "427957          1972-12-06      M   510.0         NaN   Vince Corazza  21.0   \n",
       "\n",
       "       Freebase_character/actor_map_ID Freebase_character_ID Freebase_actor_ID  \n",
       "21619                       /m/0k276dx            /m/0k276dz        /m/0bggwvl  \n",
       "49659                       /m/0n9ld0y                   NaN         /m/08hqh0  \n",
       "59719                       /m/0k276dq            /m/0h8hcr1        /m/0bggwvl  \n",
       "104140                      /m/0cg31bd                   NaN         /m/08hqh0  \n",
       "205679                      /m/02vbm0k            /m/0h60xk7         /m/08hqh0  \n",
       "219383                      /m/0bggwv8            /m/0bggwvc        /m/0bggwvl  \n",
       "301653                      /m/0cg0zwp                   NaN         /m/08hqh0  \n",
       "316621                      /m/02vc5p5                   NaN         /m/08hqh0  \n",
       "341890                      /m/0gvwy8x                   NaN         /m/08hqh0  \n",
       "360967                      /m/0m4q87d            /m/0k9tfs8        /m/0bggwvl  \n",
       "369731                      /m/0n3kptl            /m/0n3kptp        /m/0n3kptx  \n",
       "380739                      /m/0bmz820            /m/0lyzygr         /m/08hqh0  \n",
       "393292                      /m/0bfm1b6                   NaN         /m/08hqh0  \n",
       "406151                      /m/03lj_70                   NaN         /m/08hqh0  \n",
       "427957                      /m/0lyz8r1             /m/01_7kc         /m/08hqh0  "
      ]
     },
     "metadata": {},
     "output_type": "display_data"
    }
   ],
   "source": [
    "display(dfcharacter[dfcharacter.Height>2.75])"
   ]
  },
  {
   "cell_type": "markdown",
   "id": "fed7a265-6ed1-45c3-960d-7c986cd6bcb8",
   "metadata": {},
   "source": [
    "We notice that most values for height are in meters and somes are in centimeters and some are of 510. However there are only 15 outliers above 2.75 which are mostly the same actors. We considered changing Zohren Weiss height to 1m80 but as we don't find on internet there true height to check if it was this we are just going to remove it. Moreover we probably won't use Height so we just change the values to Nan."
   ]
  },
  {
   "cell_type": "code",
   "execution_count": 24,
   "id": "ab491f1f-2ec3-486c-913e-0b7396338a5e",
   "metadata": {
    "tags": []
   },
   "outputs": [
    {
     "data": {
      "text/plain": [
       "count    154809.000000\n",
       "mean          1.748177\n",
       "std           0.106249\n",
       "min           0.610000\n",
       "25%           1.676400\n",
       "50%           1.750000\n",
       "75%           1.830000\n",
       "max           2.356000\n",
       "Name: Height, dtype: float64"
      ]
     },
     "execution_count": 24,
     "metadata": {},
     "output_type": "execute_result"
    }
   ],
   "source": [
    "dfcharacter.loc[:,[\"Height\"]] = dfcharacter.loc[:,[\"Height\"]].mask(dfcharacter[\"Height\"] >2.75)\n",
    "dfcharacter.Height.describe()"
   ]
  },
  {
   "cell_type": "markdown",
   "id": "63d2d60d-4b1a-4311-9d90-01acc8adef70",
   "metadata": {},
   "source": [
    "#### Age "
   ]
  },
  {
   "cell_type": "markdown",
   "id": "0930ac9e-8943-4a84-9217-813fdeebcae6",
   "metadata": {},
   "source": [
    "We notice negative age which doesn't make sense. When we check on the imbd it correspond to error in the birth date entry thus we transform the age and the birth date to Nan when negative values are found."
   ]
  },
  {
   "cell_type": "code",
   "execution_count": 25,
   "id": "296a9d9f-c1d1-49d2-a55a-115f46375b87",
   "metadata": {
    "tags": []
   },
   "outputs": [
    {
     "data": {
      "text/plain": [
       "count    292175.000000\n",
       "mean         37.890901\n",
       "std          14.085909\n",
       "min           0.000000\n",
       "25%          28.000000\n",
       "50%          36.000000\n",
       "75%          47.000000\n",
       "max         103.000000\n",
       "Name: Age, dtype: float64"
      ]
     },
     "execution_count": 25,
     "metadata": {},
     "output_type": "execute_result"
    }
   ],
   "source": [
    "dfcharacter.loc[:,[\"Age\",\"Actor_date_of_birth\"]] = dfcharacter.loc[:,[\"Age\",\"Actor_date_of_birth\"]].mask(dfcharacter[\"Age\"] <0)\n",
    "dfcharacter.Age.describe()"
   ]
  },
  {
   "cell_type": "markdown",
   "id": "9aef2a0d-4f81-49af-8812-84eb5b869f71",
   "metadata": {},
   "source": [
    "The minimum age is now at 0 which corresponds to baby born this year so we are happy. Let's now groupby gender to check whether there are differences between the genders in the data that can be cofounders in our analysis."
   ]
  },
  {
   "cell_type": "markdown",
   "id": "9c7d8cd6-89de-4a6a-a049-326ea74b6bf0",
   "metadata": {},
   "source": [
    "#### Difference between genders"
   ]
  },
  {
   "cell_type": "code",
   "execution_count": 26,
   "id": "d3228f34-28d9-4f69-89cc-87315143a241",
   "metadata": {
    "tags": []
   },
   "outputs": [
    {
     "data": {
      "text/html": [
       "<div>\n",
       "<style scoped>\n",
       "    .dataframe tbody tr th:only-of-type {\n",
       "        vertical-align: middle;\n",
       "    }\n",
       "\n",
       "    .dataframe tbody tr th {\n",
       "        vertical-align: top;\n",
       "    }\n",
       "\n",
       "    .dataframe thead th {\n",
       "        text-align: right;\n",
       "    }\n",
       "</style>\n",
       "<table border=\"1\" class=\"dataframe\">\n",
       "  <thead>\n",
       "    <tr style=\"text-align: right;\">\n",
       "      <th></th>\n",
       "      <th>count</th>\n",
       "      <th>mean</th>\n",
       "      <th>std</th>\n",
       "      <th>min</th>\n",
       "      <th>25%</th>\n",
       "      <th>50%</th>\n",
       "      <th>75%</th>\n",
       "      <th>max</th>\n",
       "    </tr>\n",
       "    <tr>\n",
       "      <th>Gender</th>\n",
       "      <th></th>\n",
       "      <th></th>\n",
       "      <th></th>\n",
       "      <th></th>\n",
       "      <th></th>\n",
       "      <th></th>\n",
       "      <th></th>\n",
       "      <th></th>\n",
       "    </tr>\n",
       "  </thead>\n",
       "  <tbody>\n",
       "    <tr>\n",
       "      <th>F</th>\n",
       "      <td>99124.0</td>\n",
       "      <td>32.956055</td>\n",
       "      <td>13.376106</td>\n",
       "      <td>0.0</td>\n",
       "      <td>24.0</td>\n",
       "      <td>30.0</td>\n",
       "      <td>40.0</td>\n",
       "      <td>99.0</td>\n",
       "    </tr>\n",
       "    <tr>\n",
       "      <th>M</th>\n",
       "      <td>191277.0</td>\n",
       "      <td>40.469717</td>\n",
       "      <td>13.749781</td>\n",
       "      <td>0.0</td>\n",
       "      <td>31.0</td>\n",
       "      <td>39.0</td>\n",
       "      <td>49.0</td>\n",
       "      <td>103.0</td>\n",
       "    </tr>\n",
       "  </tbody>\n",
       "</table>\n",
       "</div>"
      ],
      "text/plain": [
       "           count       mean        std  min   25%   50%   75%    max\n",
       "Gender                                                              \n",
       "F        99124.0  32.956055  13.376106  0.0  24.0  30.0  40.0   99.0\n",
       "M       191277.0  40.469717  13.749781  0.0  31.0  39.0  49.0  103.0"
      ]
     },
     "execution_count": 26,
     "metadata": {},
     "output_type": "execute_result"
    }
   ],
   "source": [
    "Grouped_gender = dfcharacter.groupby(\"Gender\")\n",
    "Grouped_gender.Age.describe()"
   ]
  },
  {
   "cell_type": "code",
   "execution_count": 27,
   "id": "91b3ed57-1de3-42fe-8c37-d07085291c7d",
   "metadata": {
    "tags": []
   },
   "outputs": [
    {
     "data": {
      "text/plain": [
       "F         Axes(0.1,0.15;0.363636x0.75)\n",
       "M    Axes(0.536364,0.15;0.363636x0.75)\n",
       "dtype: object"
      ]
     },
     "execution_count": 27,
     "metadata": {},
     "output_type": "execute_result"
    },
    {
     "data": {
      "image/png": "[encoded data removed]",
      "text/plain": [
       "<Figure size 640x480 with 2 Axes>"
      ]
     },
     "metadata": {},
     "output_type": "display_data"
    }
   ],
   "source": [
    "Grouped_gender.boxplot(column = [\"Age\"])"
   ]
  },
  {
   "cell_type": "markdown",
   "id": "7195717d-42e5-4766-b23e-e66f8d139ae0",
   "metadata": {},
   "source": [
    "We observe a difference between male and female age let's see if it's statistically significant."
   ]
  },
  {
   "cell_type": "code",
   "execution_count": 29,
   "id": "27075ffd-c16b-40e8-a5a9-6b709bd0d5bc",
   "metadata": {
    "tags": []
   },
   "outputs": [
    {
     "data": {
      "text/plain": [
       "Ttest_indResult(statistic=140.92509242040052, pvalue=0.0)"
      ]
     },
     "execution_count": 29,
     "metadata": {},
     "output_type": "execute_result"
    }
   ],
   "source": [
    "ttest_ind( dfcharacter.loc[dfcharacter['Gender'] == \"M\", 'Age'].dropna(),dfcharacter.loc[dfcharacter['Gender'] == \"F\", 'Age'].dropna())"
   ]
  },
  {
   "cell_type": "markdown",
   "id": "4a8d3238-cb58-4e3e-8c8e-c96802c4a7b8",
   "metadata": {},
   "source": [
    "The p-value is lower than 0.05 thus we can reject the null hypothesis that the two distributions have the same mean. The statistics is positive thus we can say than in average man actors are older than women. We need to keep this information in mind when we analyze the adjectives as women are younger than men in average because younger people can be described with different adjectives than older people."
   ]
  },
  {
   "cell_type": "markdown",
   "id": "df2e1819-bc0f-4722-8b5f-fb6e16cc6181",
   "metadata": {
    "tags": []
   },
   "source": [
    "### Merging summaries and movie datasets"
   ]
  },
  {
   "cell_type": "code",
   "execution_count": 30,
   "id": "d6a0e96d-bd7f-4c51-9f0b-de2b69847281",
   "metadata": {
    "tags": []
   },
   "outputs": [],
   "source": [
    "movie_merged = dfmetadata.merge(dfsummaries,how ='outer')\n",
    "movie_merged[\"summary_presence\"] = (~movie_merged[\"Summary\"].isna()).astype(int)"
   ]
  },
  {
   "cell_type": "markdown",
   "id": "e6bac11f-b715-420a-adee-49d1fdd41ce1",
   "metadata": {},
   "source": [
    "Let's see if the dataset with summaries is representative of the actual movie dataset."
   ]
  },
  {
   "cell_type": "code",
   "execution_count": 31,
   "id": "120bf151-9ea1-4f25-ae18-df40c5faa56c",
   "metadata": {
    "tags": []
   },
   "outputs": [],
   "source": [
    "summary_and_movie = movie_merged.groupby(\"summary_presence\")"
   ]
  },
  {
   "cell_type": "code",
   "execution_count": 32,
   "id": "7ccbfc37-97d6-4e6e-8ed7-4f771cbd68e0",
   "metadata": {
    "tags": []
   },
   "outputs": [
    {
     "data": {
      "text/html": [
       "<div>\n",
       "<style scoped>\n",
       "    .dataframe tbody tr th:only-of-type {\n",
       "        vertical-align: middle;\n",
       "    }\n",
       "\n",
       "    .dataframe tbody tr th {\n",
       "        vertical-align: top;\n",
       "    }\n",
       "\n",
       "    .dataframe thead th {\n",
       "        text-align: right;\n",
       "    }\n",
       "</style>\n",
       "<table border=\"1\" class=\"dataframe\">\n",
       "  <thead>\n",
       "    <tr style=\"text-align: right;\">\n",
       "      <th></th>\n",
       "      <th>count</th>\n",
       "      <th>mean</th>\n",
       "      <th>std</th>\n",
       "      <th>min</th>\n",
       "      <th>25%</th>\n",
       "      <th>50%</th>\n",
       "      <th>75%</th>\n",
       "      <th>max</th>\n",
       "    </tr>\n",
       "    <tr>\n",
       "      <th>summary_presence</th>\n",
       "      <th></th>\n",
       "      <th></th>\n",
       "      <th></th>\n",
       "      <th></th>\n",
       "      <th></th>\n",
       "      <th></th>\n",
       "      <th></th>\n",
       "      <th></th>\n",
       "    </tr>\n",
       "  </thead>\n",
       "  <tbody>\n",
       "    <tr>\n",
       "      <th>0</th>\n",
       "      <td>25715.0</td>\n",
       "      <td>88.681832</td>\n",
       "      <td>129.330496</td>\n",
       "      <td>0.0</td>\n",
       "      <td>71.0</td>\n",
       "      <td>90.0</td>\n",
       "      <td>101.0</td>\n",
       "      <td>14400.0</td>\n",
       "    </tr>\n",
       "    <tr>\n",
       "      <th>1</th>\n",
       "      <td>35576.0</td>\n",
       "      <td>128.543294</td>\n",
       "      <td>5721.781337</td>\n",
       "      <td>0.3</td>\n",
       "      <td>86.0</td>\n",
       "      <td>96.0</td>\n",
       "      <td>110.0</td>\n",
       "      <td>1079281.0</td>\n",
       "    </tr>\n",
       "  </tbody>\n",
       "</table>\n",
       "</div>"
      ],
      "text/plain": [
       "                    count        mean          std  min   25%   50%    75%  \\\n",
       "summary_presence                                                             \n",
       "0                 25715.0   88.681832   129.330496  0.0  71.0  90.0  101.0   \n",
       "1                 35576.0  128.543294  5721.781337  0.3  86.0  96.0  110.0   \n",
       "\n",
       "                        max  \n",
       "summary_presence             \n",
       "0                   14400.0  \n",
       "1                 1079281.0  "
      ]
     },
     "execution_count": 32,
     "metadata": {},
     "output_type": "execute_result"
    }
   ],
   "source": [
    "summary_and_movie.runtime.describe()"
   ]
  },
  {
   "cell_type": "markdown",
   "id": "f1b19d9d-cd72-4976-b4cc-1c8374a85800",
   "metadata": {},
   "source": [
    "We notice that there are very short movies. What do we do with this movie are "
   ]
  },
  {
   "cell_type": "code",
   "execution_count": 34,
   "id": "aff8047d-b063-494b-be33-26b70b707f80",
   "metadata": {
    "tags": []
   },
   "outputs": [
    {
     "data": {
      "text/plain": [
       "Ttest_indResult(statistic=1.1169508863229334, pvalue=0.2640197039395456)"
      ]
     },
     "execution_count": 34,
     "metadata": {},
     "output_type": "execute_result"
    }
   ],
   "source": [
    "ttest_ind(movie_merged.loc[movie_merged['summary_presence'] == 1, 'runtime'].dropna(),movie_merged.loc[movie_merged['summary_presence'] == 0, 'runtime'].dropna())"
   ]
  },
  {
   "cell_type": "markdown",
   "id": "b092df88-2296-49fa-b59f-2f6833459753",
   "metadata": {},
   "source": [
    "The runtime however is not statistically different between the two populations. Anyway do we say they don't have an impact on populations as long movies that are more main streams. Probably shorter movies are more representative of old movies."
   ]
  },
  {
   "cell_type": "markdown",
   "id": "b89c0dd4-ab51-47ba-87c5-d180e6fb0425",
   "metadata": {},
   "source": [
    "Let's look if the movies with summary are representative of the movies the most watched. By looking at the box office revenue."
   ]
  },
  {
   "cell_type": "code",
   "execution_count": 35,
   "id": "b15d6792-422b-4a9c-b65d-9373a4e818af",
   "metadata": {
    "tags": []
   },
   "outputs": [
    {
     "data": {
      "text/html": [
       "<div>\n",
       "<style scoped>\n",
       "    .dataframe tbody tr th:only-of-type {\n",
       "        vertical-align: middle;\n",
       "    }\n",
       "\n",
       "    .dataframe tbody tr th {\n",
       "        vertical-align: top;\n",
       "    }\n",
       "\n",
       "    .dataframe thead th {\n",
       "        text-align: right;\n",
       "    }\n",
       "</style>\n",
       "<table border=\"1\" class=\"dataframe\">\n",
       "  <thead>\n",
       "    <tr style=\"text-align: right;\">\n",
       "      <th></th>\n",
       "      <th>count</th>\n",
       "      <th>mean</th>\n",
       "      <th>std</th>\n",
       "      <th>min</th>\n",
       "      <th>25%</th>\n",
       "      <th>50%</th>\n",
       "      <th>75%</th>\n",
       "      <th>max</th>\n",
       "    </tr>\n",
       "    <tr>\n",
       "      <th>summary_presence</th>\n",
       "      <th></th>\n",
       "      <th></th>\n",
       "      <th></th>\n",
       "      <th></th>\n",
       "      <th></th>\n",
       "      <th></th>\n",
       "      <th></th>\n",
       "      <th></th>\n",
       "    </tr>\n",
       "  </thead>\n",
       "  <tbody>\n",
       "    <tr>\n",
       "      <th>0</th>\n",
       "      <td>814.0</td>\n",
       "      <td>1.289109e+07</td>\n",
       "      <td>3.912451e+07</td>\n",
       "      <td>10000.0</td>\n",
       "      <td>776601.75</td>\n",
       "      <td>2000000.0</td>\n",
       "      <td>7704827.0</td>\n",
       "      <td>5.525261e+08</td>\n",
       "    </tr>\n",
       "    <tr>\n",
       "      <th>1</th>\n",
       "      <td>7587.0</td>\n",
       "      <td>5.175973e+07</td>\n",
       "      <td>1.167179e+08</td>\n",
       "      <td>10200.0</td>\n",
       "      <td>2500000.00</td>\n",
       "      <td>12421181.0</td>\n",
       "      <td>45597223.0</td>\n",
       "      <td>2.782275e+09</td>\n",
       "    </tr>\n",
       "  </tbody>\n",
       "</table>\n",
       "</div>"
      ],
      "text/plain": [
       "                   count          mean           std      min         25%  \\\n",
       "summary_presence                                                            \n",
       "0                  814.0  1.289109e+07  3.912451e+07  10000.0   776601.75   \n",
       "1                 7587.0  5.175973e+07  1.167179e+08  10200.0  2500000.00   \n",
       "\n",
       "                         50%         75%           max  \n",
       "summary_presence                                        \n",
       "0                  2000000.0   7704827.0  5.525261e+08  \n",
       "1                 12421181.0  45597223.0  2.782275e+09  "
      ]
     },
     "execution_count": 35,
     "metadata": {},
     "output_type": "execute_result"
    }
   ],
   "source": [
    "summary_and_movie.box_office_revenue.describe()"
   ]
  },
  {
   "cell_type": "markdown",
   "id": "31b66c3d-c5e0-47ee-a74a-40996aa8e5cd",
   "metadata": {},
   "source": [
    "We notice that there are much more movies when summaries are in the dataset. Furthermore the the box office revenue is mainly higher for movies with a summary. Let's see if it's statistically significant."
   ]
  },
  {
   "cell_type": "code",
   "execution_count": 39,
   "id": "0de49fea-ef65-4099-9cbc-b3b81ccaf638",
   "metadata": {
    "tags": []
   },
   "outputs": [
    {
     "data": {
      "text/plain": [
       "Ttest_indResult(statistic=9.443907873081669, pvalue=4.5670654197868206e-21)"
      ]
     },
     "execution_count": 39,
     "metadata": {},
     "output_type": "execute_result"
    }
   ],
   "source": [
    "ttest_ind(movie_merged.loc[movie_merged['summary_presence'] == 1, 'box_office_revenue'].dropna(),movie_merged.loc[movie_merged['summary_presence'] == 0, 'box_office_revenue'].dropna())"
   ]
  },
  {
   "cell_type": "markdown",
   "id": "0111f7e0-0936-4471-ae8d-1a1397b882fc",
   "metadata": {},
   "source": [
    "The p-value is lower than 0.5 thus we can exclude the null hypothesis that the movie with a summary and the movies without follow the same distribution for box-office revenue. "
   ]
  },
  {
   "cell_type": "markdown",
   "id": "10a7634a-0603-4f9b-92ae-0ed4294811b4",
   "metadata": {},
   "source": [
    "#### Cleaning cluster data"
   ]
  },
  {
   "cell_type": "markdown",
   "id": "95b40d27-e7de-49bf-a1bd-2949cc31b5ce",
   "metadata": {},
   "source": [
    "We were thinking of using this to look at a possible link between female character rate and box office performance? And which types of female characters historically correlate with higher box office success?\n",
    "However we said earlier that we don't have lots of data on box office. For the personas clusters the dataset is quite small as well thus we probably continue on this research question because of the lack of data. However we cleaned it in case we still decide to use the cluster data for small analysis."
   ]
  },
  {
   "cell_type": "code",
   "execution_count": 41,
   "id": "78bd56a3-6fa5-4847-98e7-e58250cbdc97",
   "metadata": {
    "tags": []
   },
   "outputs": [
    {
     "data": {
      "text/html": [
       "<div>\n",
       "<style scoped>\n",
       "    .dataframe tbody tr th:only-of-type {\n",
       "        vertical-align: middle;\n",
       "    }\n",
       "\n",
       "    .dataframe tbody tr th {\n",
       "        vertical-align: top;\n",
       "    }\n",
       "\n",
       "    .dataframe thead th {\n",
       "        text-align: right;\n",
       "    }\n",
       "</style>\n",
       "<table border=\"1\" class=\"dataframe\">\n",
       "  <thead>\n",
       "    <tr style=\"text-align: right;\">\n",
       "      <th></th>\n",
       "      <th>0</th>\n",
       "      <th>1</th>\n",
       "    </tr>\n",
       "  </thead>\n",
       "  <tbody>\n",
       "    <tr>\n",
       "      <th>0</th>\n",
       "      <td>absent_minded_professor</td>\n",
       "      <td>{\"char\": \"Professor Philip Brainard\", \"movie\":...</td>\n",
       "    </tr>\n",
       "    <tr>\n",
       "      <th>1</th>\n",
       "      <td>absent_minded_professor</td>\n",
       "      <td>{\"char\": \"Professor Keenbean\", \"movie\": \"Richi...</td>\n",
       "    </tr>\n",
       "    <tr>\n",
       "      <th>2</th>\n",
       "      <td>absent_minded_professor</td>\n",
       "      <td>{\"char\": \"Dr. Reinhardt Lane\", \"movie\": \"The S...</td>\n",
       "    </tr>\n",
       "    <tr>\n",
       "      <th>3</th>\n",
       "      <td>absent_minded_professor</td>\n",
       "      <td>{\"char\": \"Dr. Harold Medford\", \"movie\": \"Them!...</td>\n",
       "    </tr>\n",
       "    <tr>\n",
       "      <th>4</th>\n",
       "      <td>absent_minded_professor</td>\n",
       "      <td>{\"char\": \"Daniel Jackson\", \"movie\": \"Stargate\"...</td>\n",
       "    </tr>\n",
       "    <tr>\n",
       "      <th>...</th>\n",
       "      <td>...</td>\n",
       "      <td>...</td>\n",
       "    </tr>\n",
       "    <tr>\n",
       "      <th>496</th>\n",
       "      <td>young_gun</td>\n",
       "      <td>{\"char\": \"Morgan Earp\", \"movie\": \"Tombstone\", ...</td>\n",
       "    </tr>\n",
       "    <tr>\n",
       "      <th>497</th>\n",
       "      <td>young_gun</td>\n",
       "      <td>{\"char\": \"Colorado Ryan\", \"movie\": \"Rio Bravo\"...</td>\n",
       "    </tr>\n",
       "    <tr>\n",
       "      <th>498</th>\n",
       "      <td>young_gun</td>\n",
       "      <td>{\"char\": \"Tom Sawyer\", \"movie\": \"The League of...</td>\n",
       "    </tr>\n",
       "    <tr>\n",
       "      <th>499</th>\n",
       "      <td>young_gun</td>\n",
       "      <td>{\"char\": \"William H. 'Billy the Kid' Bonney\", ...</td>\n",
       "    </tr>\n",
       "    <tr>\n",
       "      <th>500</th>\n",
       "      <td>young_gun</td>\n",
       "      <td>{\"char\": \"Jake\", \"movie\": \"Silverado\", \"id\": \"...</td>\n",
       "    </tr>\n",
       "  </tbody>\n",
       "</table>\n",
       "<p>501 rows × 2 columns</p>\n",
       "</div>"
      ],
      "text/plain": [
       "                           0  \\\n",
       "0    absent_minded_professor   \n",
       "1    absent_minded_professor   \n",
       "2    absent_minded_professor   \n",
       "3    absent_minded_professor   \n",
       "4    absent_minded_professor   \n",
       "..                       ...   \n",
       "496                young_gun   \n",
       "497                young_gun   \n",
       "498                young_gun   \n",
       "499                young_gun   \n",
       "500                young_gun   \n",
       "\n",
       "                                                     1  \n",
       "0    {\"char\": \"Professor Philip Brainard\", \"movie\":...  \n",
       "1    {\"char\": \"Professor Keenbean\", \"movie\": \"Richi...  \n",
       "2    {\"char\": \"Dr. Reinhardt Lane\", \"movie\": \"The S...  \n",
       "3    {\"char\": \"Dr. Harold Medford\", \"movie\": \"Them!...  \n",
       "4    {\"char\": \"Daniel Jackson\", \"movie\": \"Stargate\"...  \n",
       "..                                                 ...  \n",
       "496  {\"char\": \"Morgan Earp\", \"movie\": \"Tombstone\", ...  \n",
       "497  {\"char\": \"Colorado Ryan\", \"movie\": \"Rio Bravo\"...  \n",
       "498  {\"char\": \"Tom Sawyer\", \"movie\": \"The League of...  \n",
       "499  {\"char\": \"William H. 'Billy the Kid' Bonney\", ...  \n",
       "500  {\"char\": \"Jake\", \"movie\": \"Silverado\", \"id\": \"...  \n",
       "\n",
       "[501 rows x 2 columns]"
      ]
     },
     "execution_count": 41,
     "metadata": {},
     "output_type": "execute_result"
    }
   ],
   "source": [
    "#We can see that the infos about character, movie, id and actor are all in one column.\n",
    "df_clusters_initial=pd.read_table('data/tvtropes.clusters.txt',header=None)\n",
    "df_clusters_initial"
   ]
  },
  {
   "cell_type": "code",
   "execution_count": 42,
   "id": "bf51a0eb-c9b2-4d36-852a-a24a1ff57f0b",
   "metadata": {
    "tags": []
   },
   "outputs": [
    {
     "name": "stdout",
     "output_type": "stream",
     "text": [
      "<class 'str'>\n"
     ]
    }
   ],
   "source": [
    "#The infos are stored in string representations of dictionaries\n",
    "example_entry = df_clusters_initial[1][1]\n",
    "print(type(example_entry))"
   ]
  },
  {
   "cell_type": "code",
   "execution_count": 43,
   "id": "3b12ac13-db1f-449b-b2a7-1ea211c83411",
   "metadata": {
    "tags": []
   },
   "outputs": [],
   "source": [
    "#We need to turn the string representations of dictionaries into actual dictionaries\n",
    "#(The if statement is just so the cell can be run without having run the previous cells, to avoid confusion)\n",
    "import ast\n",
    "if type(example_entry)==str: \n",
    "    df_clusters_initial[1]=df_clusters_initial[1].apply(lambda x: ast.literal_eval(x))"
   ]
  },
  {
   "cell_type": "code",
   "execution_count": 45,
   "id": "b1fa1ecc-5ce8-4c59-a47e-da68482b8973",
   "metadata": {
    "tags": []
   },
   "outputs": [],
   "source": [
    "#Now, we can separate the values in the dictionaries to different columns\n",
    "df_dict = pd.json_normalize(df_clusters_initial[1])"
   ]
  },
  {
   "cell_type": "code",
   "execution_count": 46,
   "id": "7054fc01-3802-4fc0-ae5b-065eadfa4dcf",
   "metadata": {
    "tags": []
   },
   "outputs": [],
   "source": [
    "#Adding the separated dictionary values to the initial df\n",
    "dfclusters = pd.concat([df_clusters_initial.drop(1,axis=1), df_dict], axis=1)"
   ]
  },
  {
   "cell_type": "code",
   "execution_count": 47,
   "id": "44bf1940-6e46-4550-8819-aeb1e7df6158",
   "metadata": {
    "tags": []
   },
   "outputs": [
    {
     "data": {
      "text/html": [
       "<div>\n",
       "<style scoped>\n",
       "    .dataframe tbody tr th:only-of-type {\n",
       "        vertical-align: middle;\n",
       "    }\n",
       "\n",
       "    .dataframe tbody tr th {\n",
       "        vertical-align: top;\n",
       "    }\n",
       "\n",
       "    .dataframe thead th {\n",
       "        text-align: right;\n",
       "    }\n",
       "</style>\n",
       "<table border=\"1\" class=\"dataframe\">\n",
       "  <thead>\n",
       "    <tr style=\"text-align: right;\">\n",
       "      <th></th>\n",
       "      <th>type</th>\n",
       "      <th>char</th>\n",
       "      <th>movie</th>\n",
       "      <th>Freebase_character/actor_map_ID</th>\n",
       "      <th>Actor_name</th>\n",
       "    </tr>\n",
       "  </thead>\n",
       "  <tbody>\n",
       "    <tr>\n",
       "      <th>0</th>\n",
       "      <td>absent_minded_professor</td>\n",
       "      <td>Professor Philip Brainard</td>\n",
       "      <td>Flubber</td>\n",
       "      <td>/m/0jy9q0</td>\n",
       "      <td>Robin Williams</td>\n",
       "    </tr>\n",
       "    <tr>\n",
       "      <th>1</th>\n",
       "      <td>absent_minded_professor</td>\n",
       "      <td>Professor Keenbean</td>\n",
       "      <td>Richie Rich</td>\n",
       "      <td>/m/02vchl3</td>\n",
       "      <td>Michael McShane</td>\n",
       "    </tr>\n",
       "    <tr>\n",
       "      <th>2</th>\n",
       "      <td>absent_minded_professor</td>\n",
       "      <td>Dr. Reinhardt Lane</td>\n",
       "      <td>The Shadow</td>\n",
       "      <td>/m/0k6fkc</td>\n",
       "      <td>Ian McKellen</td>\n",
       "    </tr>\n",
       "    <tr>\n",
       "      <th>3</th>\n",
       "      <td>absent_minded_professor</td>\n",
       "      <td>Dr. Harold Medford</td>\n",
       "      <td>Them!</td>\n",
       "      <td>/m/0k6_br</td>\n",
       "      <td>Edmund Gwenn</td>\n",
       "    </tr>\n",
       "    <tr>\n",
       "      <th>4</th>\n",
       "      <td>absent_minded_professor</td>\n",
       "      <td>Daniel Jackson</td>\n",
       "      <td>Stargate</td>\n",
       "      <td>/m/0k3rhh</td>\n",
       "      <td>James Spader</td>\n",
       "    </tr>\n",
       "    <tr>\n",
       "      <th>...</th>\n",
       "      <td>...</td>\n",
       "      <td>...</td>\n",
       "      <td>...</td>\n",
       "      <td>...</td>\n",
       "      <td>...</td>\n",
       "    </tr>\n",
       "    <tr>\n",
       "      <th>496</th>\n",
       "      <td>young_gun</td>\n",
       "      <td>Morgan Earp</td>\n",
       "      <td>Tombstone</td>\n",
       "      <td>/m/0k776f</td>\n",
       "      <td>Bill Paxton</td>\n",
       "    </tr>\n",
       "    <tr>\n",
       "      <th>497</th>\n",
       "      <td>young_gun</td>\n",
       "      <td>Colorado Ryan</td>\n",
       "      <td>Rio Bravo</td>\n",
       "      <td>/m/0k2kqg</td>\n",
       "      <td>Ricky Nelson</td>\n",
       "    </tr>\n",
       "    <tr>\n",
       "      <th>498</th>\n",
       "      <td>young_gun</td>\n",
       "      <td>Tom Sawyer</td>\n",
       "      <td>The League of Extraordinary Gentlemen</td>\n",
       "      <td>/m/0k5nsh</td>\n",
       "      <td>Shane West</td>\n",
       "    </tr>\n",
       "    <tr>\n",
       "      <th>499</th>\n",
       "      <td>young_gun</td>\n",
       "      <td>William H. 'Billy the Kid' Bonney</td>\n",
       "      <td>Young Guns II</td>\n",
       "      <td>/m/03lrjk0</td>\n",
       "      <td>Emilio Estevez</td>\n",
       "    </tr>\n",
       "    <tr>\n",
       "      <th>500</th>\n",
       "      <td>young_gun</td>\n",
       "      <td>Jake</td>\n",
       "      <td>Silverado</td>\n",
       "      <td>/m/0k39jj</td>\n",
       "      <td>Kevin Costner</td>\n",
       "    </tr>\n",
       "  </tbody>\n",
       "</table>\n",
       "<p>501 rows × 5 columns</p>\n",
       "</div>"
      ],
      "text/plain": [
       "                        type                               char  \\\n",
       "0    absent_minded_professor          Professor Philip Brainard   \n",
       "1    absent_minded_professor                 Professor Keenbean   \n",
       "2    absent_minded_professor                 Dr. Reinhardt Lane   \n",
       "3    absent_minded_professor                 Dr. Harold Medford   \n",
       "4    absent_minded_professor                     Daniel Jackson   \n",
       "..                       ...                                ...   \n",
       "496                young_gun                        Morgan Earp   \n",
       "497                young_gun                      Colorado Ryan   \n",
       "498                young_gun                         Tom Sawyer   \n",
       "499                young_gun  William H. 'Billy the Kid' Bonney   \n",
       "500                young_gun                               Jake   \n",
       "\n",
       "                                     movie Freebase_character/actor_map_ID  \\\n",
       "0                                  Flubber                       /m/0jy9q0   \n",
       "1                              Richie Rich                      /m/02vchl3   \n",
       "2                               The Shadow                       /m/0k6fkc   \n",
       "3                                    Them!                       /m/0k6_br   \n",
       "4                                 Stargate                       /m/0k3rhh   \n",
       "..                                     ...                             ...   \n",
       "496                              Tombstone                       /m/0k776f   \n",
       "497                              Rio Bravo                       /m/0k2kqg   \n",
       "498  The League of Extraordinary Gentlemen                       /m/0k5nsh   \n",
       "499                          Young Guns II                      /m/03lrjk0   \n",
       "500                              Silverado                       /m/0k39jj   \n",
       "\n",
       "          Actor_name  \n",
       "0     Robin Williams  \n",
       "1    Michael McShane  \n",
       "2       Ian McKellen  \n",
       "3       Edmund Gwenn  \n",
       "4       James Spader  \n",
       "..               ...  \n",
       "496      Bill Paxton  \n",
       "497     Ricky Nelson  \n",
       "498       Shane West  \n",
       "499   Emilio Estevez  \n",
       "500    Kevin Costner  \n",
       "\n",
       "[501 rows x 5 columns]"
      ]
     },
     "execution_count": 47,
     "metadata": {},
     "output_type": "execute_result"
    }
   ],
   "source": [
    "dfclusters=dfclusters.rename(columns={0:\"type\",'actor':'Actor_name','id':'Freebase_character/actor_map_ID'})\n",
    "dfclusters"
   ]
  },
  {
   "cell_type": "markdown",
   "id": "38471828-54ea-4bac-b6b5-eb836e2a2640",
   "metadata": {},
   "source": [
    "In order to see which character types are more commonly females and which males we have to merge this with the character metadata dataframe"
   ]
  },
  {
   "cell_type": "code",
   "execution_count": 49,
   "id": "9941ee49-34ca-4f5a-b7f2-236a0640e266",
   "metadata": {
    "tags": []
   },
   "outputs": [],
   "source": [
    "#We only need the info on genders from the character df so I do this to avoid having to drop many columns later\n",
    "dfcharacter_genders = dfcharacter[['Freebase_character/actor_map_ID', 'Gender']]\n",
    "\n",
    "#Adding gender info to clusters data\n",
    "clusters_merged = dfclusters.merge(dfcharacter_genders,on=\"Freebase_character/actor_map_ID\")"
   ]
  }
 ],
 "metadata": {
  "kernelspec": {
   "display_name": "Python 3 (ipykernel)",
   "language": "python",
   "name": "python3"
  },
  "language_info": {
   "codemirror_mode": {
    "name": "ipython",
    "version": 3
   },
   "file_extension": ".py",
   "mimetype": "text/x-python",
   "name": "python",
   "nbconvert_exporter": "python",
   "pygments_lexer": "ipython3",
   "version": "3.11.4"
  }
 },
 "nbformat": 4,
 "nbformat_minor": 5
}
