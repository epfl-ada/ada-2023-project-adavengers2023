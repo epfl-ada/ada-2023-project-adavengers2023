{
 "cells": [
  {
   "cell_type": "markdown",
   "id": "def5b8a5-cad0-4921-a079-2449f7b241d5",
   "metadata": {},
   "source": [
    "# Milestone 2 - Adavengers 2023"
   ]
  },
  {
   "cell_type": "markdown",
   "id": "de19fc10-9426-498b-ba34-701823adee43",
   "metadata": {},
   "source": [
    "In this milestone, we will get acquainted with the data, preprocess it and do necessary descriptive statistics tasks. We will also plan our future analysis in detail and describe, as well as test, proposed methodologies."
   ]
  },
  {
   "cell_type": "code",
   "execution_count": 5,
   "id": "5e7a2852-5352-45b2-aa39-eadf6cf679da",
   "metadata": {
    "tags": []
   },
   "outputs": [],
   "source": [
    "#This can be deleted later:\n",
    "#Idea for structure of this Milestone 2 Notebook:\n",
    "#Step 1: Importing Data\n",
    "#Step 2: Cleaning Data - remove Nans, ...\n",
    "#Step 3: Descriptive Statistics - how is data distributed, what are mean values,... \n",
    "#Step 4: Getting into details of adjectives topic (if we get that far): \n",
    "    #test how we can identify adjectives \n",
    "    #and who if a sentence is about male or female\n",
    "#Step 5: maybe start answering our other research questions, if we have time!"
   ]
  },
  {
   "cell_type": "markdown",
   "id": "9c71507f-254f-489a-bef6-eaafcc03f41b",
   "metadata": {},
   "source": [
    "## Step 1: Importing the Data"
   ]
  },
  {
   "cell_type": "code",
   "execution_count": null,
   "id": "125c36ab-c101-486c-8ead-d352c41e8cd5",
   "metadata": {},
   "outputs": [],
   "source": []
  }
 ],
 "metadata": {
  "kernelspec": {
   "display_name": "Python 3 (ipykernel)",
   "language": "python",
   "name": "python3"
  },
  "language_info": {
   "codemirror_mode": {
    "name": "ipython",
    "version": 3
   },
   "file_extension": ".py",
   "mimetype": "text/x-python",
   "name": "python",
   "nbconvert_exporter": "python",
   "pygments_lexer": "ipython3",
   "version": "3.9.18"
  }
 },
 "nbformat": 4,
 "nbformat_minor": 5
}
