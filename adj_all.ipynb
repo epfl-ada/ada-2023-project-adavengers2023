{
 "cells": [
  {
   "cell_type": "code",
   "execution_count": 1,
   "id": "50fc4dbf-a322-41a6-8145-3bf369453bf9",
   "metadata": {
    "tags": []
   },
   "outputs": [],
   "source": [
    "import re\n",
    "from nltk.corpus import stopwords\n",
    "from gensim.models import Word2Vec\n",
    "import gensim\n",
    "from sklearn.metrics.pairwise import cosine_similarity\n",
    "import numpy as np\n",
    "import pandas as pd\n",
    "import nltk\n",
    "from nltk import pos_tag\n",
    "from nltk.tokenize import word_tokenize\n",
    "import spacy"
   ]
  },
  {
   "cell_type": "code",
   "execution_count": 2,
   "id": "a6940c89-ab44-4b2c-a352-6f5496aa3cf5",
   "metadata": {
    "tags": []
   },
   "outputs": [
    {
     "name": "stdout",
     "output_type": "stream",
     "text": [
      "                         Name Gender\n",
      "0                    Akooshay      F\n",
      "1  Lieutenant Melanie Ballard      F\n",
      "2         Desolation Williams      M\n",
      "3          Sgt Jericho Butler      M\n",
      "4             Bashira Kincaid      F\n"
     ]
    }
   ],
   "source": [
    "# character name\n",
    "# data of character name & gender\n",
    "df = pd.read_csv('data/character.metadata.tsv', sep='\\t', header=None)\n",
    "df_name_gender = df.iloc[:, [3, 5]].dropna()\n",
    "df_name_gender.columns = ['Name','Gender']\n",
    "print(df_name_gender.head(5))"
   ]
  },
  {
   "cell_type": "code",
   "execution_count": 3,
   "id": "dd2050a9-bc4e-4295-9a26-7672f6ae6134",
   "metadata": {
    "tags": []
   },
   "outputs": [],
   "source": [
    "# build a name dict\n",
    "name_list = df.iloc[:, [3]].dropna()\n",
    "name_list=name_list.squeeze().tolist()\n",
    "name_dict = set()\n",
    "for item in list(name_list):\n",
    "    names = item.split()\n",
    "    for name in names:\n",
    "            name_dict.add(name.lower())"
   ]
  },
  {
   "cell_type": "code",
   "execution_count": 4,
   "id": "89c328ca-f263-4b2b-8d80-702f69fbe517",
   "metadata": {
    "tags": []
   },
   "outputs": [],
   "source": [
    "# English vocabulary specific to a certain gender\n",
    "# female_nouns.txt contains common words that are only used to refer to females, like 'mother'\n",
    "female_words=set()\n",
    "with open('data/female_nouns.txt', 'r') as file:\n",
    "    for line in file:\n",
    "        words = re.split('[^a-zA-Z]', line)\n",
    "        for word in words:\n",
    "            if word:\n",
    "                female_words.add(word.lower())                \n",
    "                \n",
    "# male_nouns.txt contains common words that are only used to refer to males, like 'uncle'     \n",
    "male_words=set()\n",
    "with open('data/male_nouns.txt', 'r') as file:\n",
    "    for line in file:\n",
    "        words = re.split('[^a-zA-Z]', line)\n",
    "        for word in words:\n",
    "            if word:\n",
    "                male_words.add(word.lower())"
   ]
  },
  {
   "cell_type": "code",
   "execution_count": 5,
   "id": "aaa5094b-28ae-485f-8064-1bc74cd0444c",
   "metadata": {
    "tags": []
   },
   "outputs": [],
   "source": [
    "# Define a list of words representing females/males\n",
    "# females\n",
    "df_female_name = df_name_gender[df_name_gender['Gender']=='F']['Name']\n",
    "female_name_dict = set()\n",
    "for item in df_female_name:\n",
    "    names = item.split()\n",
    "    for name in names:\n",
    "        # remove the names like 'Alice's father' that can have a negative impact on the result\n",
    "        if not name.lower() in female_words | male_words:\n",
    "            if not name.lower().endswith(\"'s\"):\n",
    "                female_name_dict.add(name.lower())\n",
    "female_cleaned_list = [re.sub('[^a-zA-Z]', '', s) for s in female_name_dict]\n",
    "\n",
    "\n",
    "# males\n",
    "df_male_name = df_name_gender[df_name_gender['Gender']=='M']['Name']\n",
    "male_name_dict = set()\n",
    "for item in df_male_name:\n",
    "    names = item.split()\n",
    "    for name in names:\n",
    "        if not name.lower() in female_words | male_words:\n",
    "            if not name.lower().endswith(\"'s\"):\n",
    "                male_name_dict.add(name.lower())\n",
    "male_cleaned_list = [re.sub('[^a-zA-Z]', '', s) for s in male_name_dict]"
   ]
  },
  {
   "cell_type": "code",
   "execution_count": 6,
   "id": "e7cae873-46eb-4b01-8bb5-980c0a12dd6d",
   "metadata": {
    "tags": []
   },
   "outputs": [
    {
     "name": "stdout",
     "output_type": "stream",
     "text": [
      "68422\n",
      "53838\n"
     ]
    }
   ],
   "source": [
    "#some characters have the same family name but different gender,remove the family names\n",
    "female_name_dict_cleaned = set(female_cleaned_list)\n",
    "male_name_dict_cleaned = set(male_cleaned_list)\n",
    "\n",
    "intersection_set = male_name_dict_cleaned & female_name_dict_cleaned\n",
    "male_name_dict = male_name_dict_cleaned - intersection_set\n",
    "female_name_dict = female_name_dict_cleaned - intersection_set\n",
    "cleaned_list = [re.sub('[^a-zA-Z]', '', s) for s in name_dict]\n",
    "print(len(cleaned_list))\n",
    "cleaned_list = set(cleaned_list) - intersection_set\n",
    "print(len(cleaned_list))"
   ]
  },
  {
   "cell_type": "code",
   "execution_count": 7,
   "id": "9283377b-2eea-46df-8ede-a91b640df862",
   "metadata": {
    "tags": []
   },
   "outputs": [
    {
     "data": {
      "text/plain": [
       "\"with open('data/names from movies.txt', 'w', encoding='utf-8') as file:\\n    for item in cleaned_list:\\n        file.write(item + '\\n')\\nwith open('data/female_name_dict1.txt', 'w', encoding='utf-8') as file:\\n    for name in female_name_dict:\\n        file.write(name + '\\n')\\nwith open('data/male_name_dict1.txt', 'w', encoding='utf-8') as file:\\n    for name in male_name_dict:\\n        file.write(name + '\\n')\""
      ]
     },
     "execution_count": 7,
     "metadata": {},
     "output_type": "execute_result"
    }
   ],
   "source": [
    "# code for storing the names\n",
    "'''with open('data/names from movies.txt', 'w', encoding='utf-8') as file:\n",
    "    for item in cleaned_list:\n",
    "        file.write(item + '\\n')\n",
    "with open('data/female_name_dict1.txt', 'w', encoding='utf-8') as file:\n",
    "    for name in female_name_dict:\n",
    "        file.write(name + '\\n')\n",
    "with open('data/male_name_dict1.txt', 'w', encoding='utf-8') as file:\n",
    "    for name in male_name_dict:\n",
    "        file.write(name + '\\n')'''"
   ]
  },
  {
   "cell_type": "code",
   "execution_count": 8,
   "id": "301def20-ecc7-4c4f-a031-3724b0b42570",
   "metadata": {
    "tags": []
   },
   "outputs": [],
   "source": [
    "# data preprocessing\n",
    "# Set the stopwords\n",
    "stop_words = set(stopwords.words('english'))\n",
    "\n",
    "# a list of words representing females/males\n",
    "female_names_words = female_words | female_name_dict\n",
    "male_names_words = male_words | male_name_dict\n",
    "\n",
    "# remove adjs in the name list\n",
    "adjs_set = set()\n",
    "with open('data/common_adjs.txt', 'r') as file:\n",
    "    for line in file:\n",
    "        word = line.strip().lower()\n",
    "        adjs_set.add(word)\n",
    "female_names_words = female_names_words - adjs_set\n",
    "male_names_words = male_names_words - adjs_set\n",
    "\n",
    "# function used to tokenize, replace words representing females with 'she' and males with 'he', and remove stopwords\n",
    "def preprocess_text(text):\n",
    "    text = text.lower()\n",
    "    text = re.sub(r'[^\\w\\s]', '', text)\n",
    "    return ['she' if word in female_names_words else 'he' if word in male_names_words else word for word in text.split() if word not in stop_words]\n",
    "\n",
    "# apply the fuction to the summaries\n",
    "documents = []\n",
    "with open('data/plot_summaries.txt', 'r', encoding='utf-8') as file:\n",
    "    for line in file:\n",
    "        _, text = line.split('\\t', 1)\n",
    "        processed_text = preprocess_text(text)\n",
    "        documents.append(processed_text)"
   ]
  },
  {
   "cell_type": "code",
   "execution_count": 13,
   "id": "a57c61cc-c5dc-4837-a673-2a2549446102",
   "metadata": {},
   "outputs": [],
   "source": [
    "# code to extract adjs(the outcome is stored in data/adjectives.txt, so you can skip this)\n",
    "# \n",
    "female_name_dict = []\n",
    "with open('data/female_name_dict1.txt', 'r', encoding='utf-8') as file:\n",
    "    for line in file:\n",
    "        female_name_dict.append(line.strip())\n",
    "female_name_dict=set(female_name_dict)\n",
    "male_name_dict = []\n",
    "with open('data/male_name_dict1.txt', 'r', encoding='utf-8') as file:\n",
    "    for line in file:\n",
    "        male_name_dict.append(line.strip())\n",
    "male_name_dict=set(male_name_dict)\n",
    "\n",
    "#\n",
    "# data preprocessing, very time-consuming\n",
    "\n",
    "# Define a list of words representing females/males\n",
    "female_names_words = female_words | female_name_dict\n",
    "male_names_words = male_words | male_name_dict\n",
    "remove_dict=(stop_words | female_names_words | male_names_words)\n",
    "#from https://www.merriam-webster.com/thesaurus/\n",
    "\n",
    "def preprocess_text_adj(text):\n",
    "    # lower the words and remove punctuation\n",
    "    text_token = word_tokenize(text)\n",
    "    tagged = pos_tag(text_token)\n",
    "    adjectives = [word for word, pos in tagged if (pos.startswith('JJ'))]\n",
    "    text = [word.lower() for word in adjectives if word.isalpha()]\n",
    "    # tokenize, replace words representing females with 'she' and males with 'he', and remove stopwords.\n",
    "    return [word for word in text if word not in remove_dict]\n",
    "\n",
    "\n",
    "documents_adj=[]\n",
    "with open('data/plot_summaries.txt', 'r', encoding='utf-8') as file:\n",
    "    for line in file:\n",
    "        text = line\n",
    "        documents_adj.append(preprocess_text_adj(text))\n",
    "documents_adj = [word for sublist in documents_adj for word in sublist]\n",
    "\n",
    "vocabulary=list(set(documents_adj))\n",
    "word_counts = {word: documents_adj.count(word) for word in vocabulary}\n",
    "word_count_df = pd.DataFrame(list(word_counts.items()), columns=['Word', 'Count'])\n",
    "# only use the words appear at least twice\n",
    "documents_adj=list(word_count_df[word_count_df['Count']>1]['Word'])"
   ]
  },
  {
   "cell_type": "code",
   "execution_count": 14,
   "id": "a3e38415-e4df-4382-a857-8c66ff4a698e",
   "metadata": {
    "tags": []
   },
   "outputs": [
    {
     "name": "stdout",
     "output_type": "stream",
     "text": [
      "8671\n"
     ]
    }
   ],
   "source": [
    "# remove some words in case of incorrect classification\n",
    "lines = []\n",
    "\n",
    "# file from https://www.cs.cmu.edu/afs/cs/project/ai-repository/ai/areas/nlp/corpora/names/\n",
    "with open('data/female name.txt', 'r', encoding='utf-8') as file:\n",
    "    for line in file:\n",
    "        line=line.lower()\n",
    "        lines.append(line.strip())\n",
    "documents_adj = set(documents_adj)-set(lines)\n",
    "\n",
    "lines = []\n",
    "with open('data/male name.txt', 'r', encoding='utf-8') as file:\n",
    "    for line in file:\n",
    "        line=line.lower()\n",
    "        lines.append(line.strip())\n",
    "documents_adj = set(documents_adj)-set(lines)\n",
    "\n",
    "\n",
    "lines = []\n",
    "'''with open('data/names from movies.txt', 'r', encoding='utf-8') as file:\n",
    "    for line in file:\n",
    "        line=line.lower()\n",
    "        lines.append(line.strip())\n",
    "documents = set(documents)-(set(lines) & set(documents))'''\n",
    "\n",
    "print(len(documents_adj))\n",
    "other_common_words = set(['child', 'orphan', 'baby', 'girls', 'lover', 'mute','child', 'orphan', 'bride', \n",
    "                          'baby', 'girls', 'lover', 'mute', 'housekeeper', 'cousin', 'neighbour', 'parent', \n",
    "                          'sibling', 'pregnant', 'housewife', 'relative', 'servant', 'waif', 'grandson', \n",
    "                          'stranger', 'courtesan', 'servant','cousin', 'neighbour', 'parent', 'sibling', \n",
    "                          'housewife','nurse', 'stepsister', 'housekeeper','grandson','servant','grandchildren',\n",
    "                          'relatives', 'uncles', 'orphans', 'childbirth', 'scoundrel', 'foreigner', 'stepfamily', \n",
    "                          'tuberculosis', 'mallaya', 'triplet', 'grandchildren', 'outcast', 'neighbours', 'huanhuan', \n",
    "                          'lakshmiammal', 'jaipal', 'himal', 'pasarian', 'leukemia'])\n",
    "documents_adj = set(documents_adj)-set(other_common_words)"
   ]
  },
  {
   "cell_type": "code",
   "execution_count": 15,
   "id": "6c856828-5185-4990-bf02-6780c90ca6c2",
   "metadata": {
    "tags": []
   },
   "outputs": [],
   "source": [
    "# save data\n",
    "with open('data/adjectives.txt', 'w', encoding='utf-8') as file:\n",
    "    for item in documents_adj:\n",
    "        file.write(item + '\\n')"
   ]
  },
  {
   "cell_type": "code",
   "execution_count": 16,
   "id": "5a9cfd0e-ef6e-410e-a05c-0e733767cd1f",
   "metadata": {
    "tags": []
   },
   "outputs": [],
   "source": [
    "# load the data adjectives.txt (extracted from the text)\n",
    "adjectives = []\n",
    "with open('data/adjectives.txt', 'r', encoding='utf-8') as file:\n",
    "    for line in file:\n",
    "        adjectives.append(line.strip())"
   ]
  },
  {
   "cell_type": "code",
   "execution_count": 17,
   "id": "cbe0feab-2e5f-4800-be79-a1c262307afa",
   "metadata": {
    "tags": []
   },
   "outputs": [],
   "source": [
    "# train the word2vec model\n",
    "model = Word2Vec(documents, vector_size=100, window=5, min_count=1, workers=4)\n",
    "\n",
    "# save the model\n",
    "model.save(\"word2vec.model\")"
   ]
  },
  {
   "cell_type": "code",
   "execution_count": 18,
   "id": "69c5d238-b091-4c4d-900f-ca924e18b87a",
   "metadata": {
    "tags": []
   },
   "outputs": [],
   "source": [
    "# apply the model\n",
    "model = Word2Vec.load(\"word2vec.model\")\n",
    "adjectives = [word for word in adjectives if word in model.wv.key_to_index]\n",
    "adj_vectors = [model.wv[word] for word in adjectives]\n",
    "vector_she = model.wv['she']\n",
    "vector_he = model.wv['he']"
   ]
  },
  {
   "cell_type": "code",
   "execution_count": 21,
   "id": "197ea98e-864e-40e4-bef9-c61df0f59526",
   "metadata": {
    "tags": []
   },
   "outputs": [
    {
     "name": "stdout",
     "output_type": "stream",
     "text": [
      "similarity between female and lovely: [[0.42599806]]\n",
      "similarity between male and lovely: [[0.15806998]]\n"
     ]
    }
   ],
   "source": [
    "# example: lovely\n",
    "similarity = cosine_similarity(vector_she.reshape(1,-1), model.wv['lovely'].reshape(1,-1))\n",
    "print(f'similarity between female and lovely: {similarity}')\n",
    "similarity = cosine_similarity(vector_he.reshape(1,-1), model.wv['lovely'].reshape(1,-1))\n",
    "print(f'similarity between male and lovely: {similarity}')"
   ]
  },
  {
   "cell_type": "code",
   "execution_count": 20,
   "id": "a9510ec4-1124-4906-bb91-15aed15e53d4",
   "metadata": {
    "tags": []
   },
   "outputs": [],
   "source": [
    "female_reference_vector = vector_she.reshape(1, -1)\n",
    "female_similarities = [cosine_similarity(female_reference_vector, vec.reshape(1, -1))[0][0] for vec in adj_vectors]\n",
    "male_reference_vector = vector_he.reshape(1, -1)\n",
    "male_similarities = [cosine_similarity(male_reference_vector, vec.reshape(1, -1))[0][0] for vec in adj_vectors]"
   ]
  },
  {
   "cell_type": "code",
   "execution_count": 22,
   "id": "0815e45a-8f12-4e57-9889-24f5c8f0b935",
   "metadata": {
    "tags": []
   },
   "outputs": [
    {
     "name": "stdout",
     "output_type": "stream",
     "text": [
      "                Female      Male\n",
      "botched       0.115474  0.226528\n",
      "labyrinthine  0.115607  0.125282\n",
      "cruellest     0.184536  0.224918\n",
      "sisterly      0.181152  0.139859\n",
      "returning     0.310180  0.337617\n",
      "...                ...       ...\n",
      "impersonal    0.026452 -0.018584\n",
      "cybertronian  0.123443  0.196504\n",
      "turncoat      0.057478  0.170331\n",
      "mumble        0.117950  0.115268\n",
      "misfit        0.116231  0.064116\n",
      "\n",
      "[8646 rows x 2 columns]\n"
     ]
    }
   ],
   "source": [
    "similaritie = pd.DataFrame({'Female':female_similarities,'Male':male_similarities})\n",
    "similaritie.index=adjectives\n",
    "print(similaritie)"
   ]
  },
  {
   "cell_type": "code",
   "execution_count": 23,
   "id": "258f01d6-135d-4756-bcc3-9186d36fc1de",
   "metadata": {
    "tags": []
   },
   "outputs": [
    {
     "name": "stdout",
     "output_type": "stream",
     "text": [
      "Index(['beautiful', 'loving', 'lovely', 'shy', 'somewhat', 'unhappy',\n",
      "       'charming', 'intimate', 'passionate', 'fiancé', 'older', 'disturbed',\n",
      "       'behaviour', 'fond', 'fiancée', 'neighbor', 'worrisome', 'shared',\n",
      "       'lonely', 'neglected', 'affair', 'deeply', 'promiscuous', 'smitten',\n",
      "       'emotional', 'younger', 'émilie', 'attracted', 'caring', 'sweetheart',\n",
      "       'twin', 'divorced', 'jealousy', 'sexual', 'rude', 'precocious',\n",
      "       'uncomfortable', 'grown', 'seduced', 'paternal', 'genuinely',\n",
      "       'flirtatious', 'uterine', 'overbearing', 'loved', 'intrigued',\n",
      "       'reserved', 'introverted', 'cared', 'socialite', 'extramarital',\n",
      "       'domineering', 'infatuated', 'outgoing', 'cheerful', 'distressed',\n",
      "       'agreeable', 'lifestyle', 'unmarried', 'overprotective', 'delighted',\n",
      "       'engaged', 'insecure', 'possessive', 'thirtyish', 'neglectful',\n",
      "       'teenage', 'imbalanced', 'spoiled', 'courtship', 'unfaithful',\n",
      "       'incestous', 'desire', 'deaf', 'joyless', 'aloof', 'repressed',\n",
      "       'depressed', 'embarrassed', 'therapist', 'widower', 'reconciled',\n",
      "       'roommate', 'tormented', 'flighty', 'curious', 'quite', 'ambivalent',\n",
      "       'casual', 'illegitimate', 'bisexual', 'birthday', 'wedding',\n",
      "       'affectionate', 'homosexual', 'slept', 'invalid', 'excitement',\n",
      "       'carefree', 'eloped'],\n",
      "      dtype='object')\n",
      "Index(['armed', 'artillery', 'cannon', 'tank', 'bombs', 'loaded', 'iron',\n",
      "       'blow', 'branch', 'squad', 'automatic', 'bounty', 'stopping', 'grenade',\n",
      "       'ambush', 'transport', 'rigged', 'turret', 'shipment', 'patrol',\n",
      "       'federal', 'blown', 'unarmed', 'siege', 'cavalry', 'armament',\n",
      "       'mounted', 'explosive', 'bust', 'seize', 'commandos', 'capture',\n",
      "       'tracking', 'submachine', 'alert', 'reserve', 'warhead', 'troop',\n",
      "       'scout', 'teams', 'hotchkiss', 'cable', 'firefight', 'atomic',\n",
      "       'chopper', 'airborne', 'flare', 'base', 'fastest', 'surround', 'army',\n",
      "       'bin', 'smuggled', 'pinned', 'rogue', 'tiger', 'barbed', 'allied',\n",
      "       'torpedo', 'triad', 'tactical', 'showdown', 'armoured', 'bomb', 'heavy',\n",
      "       'canyon', 'patrolling', 'exploding', 'downed', 'trigger', 'makeshift',\n",
      "       'aerial', 'arena', 'guard', 'septic', 'incoming', 'confiscated',\n",
      "       'destroys', 'trooper', 'eagle', 'hung', 'ghillie', 'unloaded',\n",
      "       'shotgun', 'recon', 'flush', 'explode', 'mob', 'undefeated', 'outlaws',\n",
      "       'evade', 'stratosphere', 'overpower', 'destroy', 'disable', 'cargo',\n",
      "       'general', 'renegade', 'shakedown', 'smuggling'],\n",
      "      dtype='object')\n"
     ]
    }
   ],
   "source": [
    "similarity_diff=similaritie['Female']-similaritie['Male']\n",
    "top_20_female_adj = similarity_diff.sort_values(ascending=False).head(100).index\n",
    "print(top_20_female_adj)\n",
    "top_20_male_adj = similarity_diff.sort_values(ascending=True).head(100).index\n",
    "print(top_20_male_adj)"
   ]
  }
 ],
 "metadata": {
  "kernelspec": {
   "display_name": "Python 3 (ipykernel)",
   "language": "python",
   "name": "python3"
  },
  "language_info": {
   "codemirror_mode": {
    "name": "ipython",
    "version": 3
   },
   "file_extension": ".py",
   "mimetype": "text/x-python",
   "name": "python",
   "nbconvert_exporter": "python",
   "pygments_lexer": "ipython3",
   "version": "3.11.5"
  }
 },
 "nbformat": 4,
 "nbformat_minor": 5
}
