{
 "cells": [
  {
   "cell_type": "markdown",
   "metadata": {},
   "source": [
    "# Milestone 3 - ADAVENGERS 2023"
   ]
  },
  {
   "cell_type": "markdown",
   "metadata": {},
   "source": [
    "# Importing data"
   ]
  },
  {
   "cell_type": "code",
   "execution_count": 2,
   "metadata": {},
   "outputs": [],
   "source": [
    "#Library Imports\n",
    "import pandas as pd\n",
    "import numpy as np\n",
    "import seaborn as sns\n",
    "import matplotlib.pyplot as plt \n",
    "from scipy import stats\n",
    "from scipy.stats import ttest_ind\n",
    "from statsmodels.stats import diagnostic\n",
    "import re\n",
    "import gensim\n",
    "from gensim.models import Word2Vec\n",
    "from sklearn.metrics.pairwise import cosine_similarity\n",
    "import nltk\n",
    "from nltk import pos_tag\n",
    "from nltk.corpus import stopwords\n",
    "from nltk.tokenize import word_tokenize\n",
    "import plotly.express as px"
   ]
  },
  {
   "cell_type": "markdown",
   "metadata": {},
   "source": [
    "Here we import the csv that were cleaned in milestones 2. For more information you can check them out"
   ]
  },
  {
   "cell_type": "code",
   "execution_count": 5,
   "metadata": {},
   "outputs": [],
   "source": [
    "dfcharacter = pd.read_csv(\"data/dfcharacter_cleaned.csv\",index_col=0)"
   ]
  },
  {
   "cell_type": "code",
   "execution_count": 13,
   "metadata": {},
   "outputs": [],
   "source": [
    "women_prop = len(dfcharacter[dfcharacter[\"Gender\"]== \"F\"])\n",
    "men_prop = len(dfcharacter[dfcharacter[\"Gender\"]== \"M\"])"
   ]
  },
  {
   "cell_type": "code",
   "execution_count": 17,
   "metadata": {},
   "outputs": [],
   "source": [
    "fig = px.pie( values=[women_prop,men_prop], names=[\"Women\",\"Men\"], title='Gender proportion in movies')\n",
    "fig.write_html(\"figures/Gender_proportion.html\")"
   ]
  },
  {
   "cell_type": "code",
   "execution_count": 18,
   "metadata": {},
   "outputs": [
    {
     "data": {
      "text/plain": [
       "([<matplotlib.patches.Wedge at 0x1ea8d5ce760>,\n",
       "  <matplotlib.patches.Wedge at 0x1ea8d5ce670>],\n",
       " [Text(0.5516024963520182, 0.9517009435837616, 'Women'),\n",
       "  Text(-0.5516024072473424, -0.9517009952285105, 'Men')])"
      ]
     },
     "execution_count": 18,
     "metadata": {},
     "output_type": "execute_result"
    },
    {
     "data": {
      "image/png": "[encoded data removed]",
      "text/plain": [
       "<Figure size 640x480 with 1 Axes>"
      ]
     },
     "metadata": {},
     "output_type": "display_data"
    }
   ],
   "source": [
    "plt.pie(x = [women_prop,men_prop],labels = [\"Women\",\"Men\"])"
   ]
  },
  {
   "cell_type": "markdown",
   "metadata": {},
   "source": [
    "We observe that there are 2 thirds of actors."
   ]
  },
  {
   "cell_type": "markdown",
   "metadata": {},
   "source": [
    "# Word analysis"
   ]
  },
  {
   "cell_type": "code",
   "execution_count": null,
   "metadata": {},
   "outputs": [],
   "source": [
    "df = pd.read_csv('data/dfcharacter_cleaned.csv')\n",
    "df_name_gender = df.loc[:, [\"Character_name\", \"Gender\"]].dropna()\n",
    "df_name_gender.columns = ['Name','Gender']\n",
    "print(df_name_gender.head(5))\n"
   ]
  },
  {
   "cell_type": "markdown",
   "metadata": {},
   "source": [
    "### Extract word defining women and men"
   ]
  },
  {
   "cell_type": "markdown",
   "metadata": {},
   "source": [
    "Build a name dict with the character csv name dataset"
   ]
  },
  {
   "cell_type": "code",
   "execution_count": null,
   "metadata": {},
   "outputs": [],
   "source": [
    "# build a name dict \n",
    "name_list = df.loc[:, [\"Character_name\"]].dropna()\n",
    "name_list=name_list.squeeze().tolist()\n",
    "name_dict = set()\n",
    "for item in list(name_list):\n",
    "    names = item.split()\n",
    "    for name in names:\n",
    "            name_dict.add(name.lower())"
   ]
  },
  {
   "cell_type": "markdown",
   "metadata": {},
   "source": [
    "Extract list of common words used only to refer to men and another to refer to women"
   ]
  },
  {
   "cell_type": "code",
   "execution_count": null,
   "metadata": {},
   "outputs": [],
   "source": [
    "# English vocabulary specific to a certain gender\n",
    "# female_nouns.txt contains common words that are only used to refer to females, like 'mother'\n",
    "female_words=set()\n",
    "with open('data/female_nouns.txt', 'r') as file:\n",
    "    for line in file:\n",
    "        words = re.split('[^a-zA-Z]', line)\n",
    "        for word in words:\n",
    "            if word:\n",
    "                female_words.add(word.lower())                \n",
    "                \n",
    "# male_nouns.txt contains common words that are only used to refer to males, like 'uncle'     \n",
    "male_words=set()\n",
    "with open('data/male_nouns.txt', 'r') as file:\n",
    "    for line in file:\n",
    "        words = re.split('[^a-zA-Z]', line)\n",
    "        for word in words:\n",
    "            if word:\n",
    "                male_words.add(word.lower())"
   ]
  },
  {
   "cell_type": "markdown",
   "metadata": {},
   "source": [
    "Exctract character names and the gender associated"
   ]
  },
  {
   "cell_type": "code",
   "execution_count": null,
   "metadata": {},
   "outputs": [],
   "source": [
    "# Define a list of words representing females/males\n",
    "# females\n",
    "df_female_name = df_name_gender[df_name_gender['Gender']=='F']['Name']\n",
    "female_name_dict = set()\n",
    "for item in df_female_name:\n",
    "    names = item.split()\n",
    "    for name in names:\n",
    "        # remove the names like 'Alice's father' that can have a negative impact on the result\n",
    "        if not name.lower() in female_words | male_words:\n",
    "            if not name.lower().endswith(\"'s\"):\n",
    "                female_name_dict.add(name.lower())\n",
    "female_cleaned_list = [re.sub('[^a-zA-Z]', '', s) for s in female_name_dict]\n",
    "\n",
    "\n",
    "# males\n",
    "df_male_name = df_name_gender[df_name_gender['Gender']=='M']['Name']\n",
    "male_name_dict = set()\n",
    "for item in df_male_name:\n",
    "    names = item.split()\n",
    "    for name in names:\n",
    "        if not name.lower() in female_words | male_words:\n",
    "            if not name.lower().endswith(\"'s\"):\n",
    "                male_name_dict.add(name.lower())\n",
    "male_cleaned_list = [re.sub('[^a-zA-Z]', '', s) for s in male_name_dict]"
   ]
  },
  {
   "cell_type": "markdown",
   "metadata": {},
   "source": [
    "Only keep names which are associated to a specific gender and remove mixt names."
   ]
  },
  {
   "cell_type": "code",
   "execution_count": null,
   "metadata": {},
   "outputs": [],
   "source": [
    "#some characters have the same family name but different gender,remove the family names\n",
    "female_name_dict_cleaned = set(female_cleaned_list)\n",
    "male_name_dict_cleaned = set(male_cleaned_list)\n",
    "\n",
    "intersection_set = male_name_dict_cleaned & female_name_dict_cleaned\n",
    "male_name_dict = male_name_dict_cleaned - intersection_set\n",
    "female_name_dict = female_name_dict_cleaned - intersection_set\n",
    "cleaned_list = [re.sub('[^a-zA-Z]', '', s) for s in name_dict]\n",
    "print(len(cleaned_list))\n",
    "cleaned_list = set(cleaned_list) - intersection_set\n",
    "print(len(cleaned_list))"
   ]
  },
  {
   "cell_type": "markdown",
   "metadata": {},
   "source": [
    "Merged words used only to describe women and the name list"
   ]
  },
  {
   "cell_type": "code",
   "execution_count": null,
   "metadata": {},
   "outputs": [],
   "source": [
    "# a list of words representing females/males\n",
    "female_names_words = female_words | female_name_dict\n",
    "male_names_words = male_words | male_name_dict"
   ]
  },
  {
   "cell_type": "markdown",
   "metadata": {},
   "source": [
    "Remove words that are also common adjectives from the list"
   ]
  },
  {
   "cell_type": "code",
   "execution_count": null,
   "metadata": {},
   "outputs": [],
   "source": [
    "# remove adjs in the name list\n",
    "adjs_set = set()\n",
    "with open('data/common_adjs.txt', 'r') as file:\n",
    "    for line in file:\n",
    "        word = line.strip().lower()\n",
    "        adjs_set.add(word)\n",
    "female_names_words = female_names_words - adjs_set\n",
    "male_names_words = male_names_words - adjs_set"
   ]
  },
  {
   "cell_type": "markdown",
   "metadata": {},
   "source": [
    "Preprocess the text by removing stopwords "
   ]
  },
  {
   "cell_type": "code",
   "execution_count": null,
   "metadata": {},
   "outputs": [],
   "source": [
    "# data preprocessing\n",
    "# Set the stopwords\n",
    "stop_words = set(stopwords.words('english'))\n",
    "\n",
    "# remove adjs in the name list\n",
    "adjs_set = set()\n",
    "with open('data/common_adjs.txt', 'r') as file:\n",
    "    for line in file:\n",
    "        word = line.strip().lower()\n",
    "        adjs_set.add(word)\n",
    "female_names_words = female_names_words - adjs_set\n",
    "male_names_words = male_names_words - adjs_set\n",
    "\n",
    "# function used to tokenize, replace words representing females with 'she' and males with 'he', and remove stopwords\n",
    "def preprocess_text(text):\n",
    "    text = text.lower()\n",
    "    text = re.sub(r'[^\\w\\s]', '', text)\n",
    "    return ['she' if word in female_names_words else 'he' if word in male_names_words else word for word in text.split() if word not in stop_words]\n"
   ]
  },
  {
   "cell_type": "markdown",
   "metadata": {},
   "source": []
  }
 ],
 "metadata": {
  "kernelspec": {
   "display_name": "ADA",
   "language": "python",
   "name": "python3"
  },
  "language_info": {
   "codemirror_mode": {
    "name": "ipython",
    "version": 3
   },
   "file_extension": ".py",
   "mimetype": "text/x-python",
   "name": "python",
   "nbconvert_exporter": "python",
   "pygments_lexer": "ipython3",
   "version": "3.9.18"
  }
 },
 "nbformat": 4,
 "nbformat_minor": 2
}
