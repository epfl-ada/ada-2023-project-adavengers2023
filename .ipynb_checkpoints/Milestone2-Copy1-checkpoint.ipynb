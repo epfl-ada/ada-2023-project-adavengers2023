{
 "cells": [
  {
   "cell_type": "markdown",
   "id": "def5b8a5-cad0-4921-a079-2449f7b241d5",
   "metadata": {},
   "source": [
    "# Milestone 2 - Adavengers 2023"
   ]
  },
  {
   "cell_type": "markdown",
   "id": "9c71507f-254f-489a-bef6-eaafcc03f41b",
   "metadata": {
    "tags": []
   },
   "source": [
    "# Importing data"
   ]
  },
  {
   "cell_type": "code",
   "execution_count": 1,
   "id": "b2a76559-c612-4e10-8517-af31b4429c43",
   "metadata": {
    "tags": []
   },
   "outputs": [],
   "source": [
    "#Library Imports\n",
    "import pandas as pd\n",
    "import numpy as np\n",
    "import seaborn as sns\n",
    "import matplotlib.pyplot as plt \n",
    "from scipy import stats\n",
    "from scipy.stats import ttest_ind\n",
    "from statsmodels.stats import diagnostic\n",
    "import re\n",
    "import gensim\n",
    "from gensim.models import Word2Vec\n",
    "from sklearn.metrics.pairwise import cosine_similarity\n",
    "import nltk\n",
    "from nltk import pos_tag\n",
    "from nltk.corpus import stopwords\n",
    "from nltk.tokenize import word_tokenize"
   ]
  },
  {
   "cell_type": "code",
   "execution_count": 2,
   "id": "125c36ab-c101-486c-8ead-d352c41e8cd5",
   "metadata": {
    "tags": []
   },
   "outputs": [],
   "source": [
    "metadata_headers = [\"Wikipedia_ID\", \"Freebase_ID\", \"Movie_name\" , \"Release_date\", \"box_office_revenue\", \"runtime\", \"languages\",\"countries\", \"genres\"]\n",
    "dfmetadata = pd.read_csv('data/movie.metadata.tsv',sep='\\t',header =None, names =metadata_headers)\n",
    "#dfmetadata.head()\n",
    "\n",
    "#Reading in the Data\n",
    "dfsummaries=pd.read_table('data/plot_summaries.txt',header=None,names=[\"Wikipedia_ID\",\"Summary\"])\n",
    "#dfsummaries.head()\n",
    "character_head = [\"Wikipedia_ID\",\"Freebase_ID\", \"Release_date\", \"Character_name\", \"Actor_date_of_birth\", \"Gender\", \"Height\", \"Ethnicity\", \"Actor_name\", \"Age\",\"Freebase_character/actor_map_ID\", \"Freebase_character_ID\", \"Freebase_actor_ID\"]\n",
    "dfcharacter =pd.read_csv('data/character.metadata.tsv',sep='\\t',header =None, names =character_head)"
   ]
  },
  {
   "cell_type": "markdown",
   "id": "de19fc10-9426-498b-ba34-701823adee43",
   "metadata": {},
   "source": [
    "In this milestone, we will get acquainted with the data, preprocess it and do necessary descriptive statistics tasks. We will also plan our future analysis in detail and describe, as well as test, proposed methodologies."
   ]
  },
  {
   "cell_type": "markdown",
   "id": "84184bb5-a502-456c-b670-8a92a1c785dc",
   "metadata": {},
   "source": [
    "# Cleaning Data"
   ]
  },
  {
   "cell_type": "markdown",
   "id": "e5e4484d-68d9-42da-b78f-9a56c68c6406",
   "metadata": {
    "tags": []
   },
   "source": [
    "## 1) Cleaning Summaries Data"
   ]
  },
  {
   "cell_type": "code",
   "execution_count": 3,
   "id": "4b33a4e1-4c93-4307-8922-e8dd4ed86ad1",
   "metadata": {
    "tags": []
   },
   "outputs": [
    {
     "name": "stdout",
     "output_type": "stream",
     "text": [
      "1    The nation of Panem consists of a wealthy Capi...\n",
      "Name: Summary, dtype: object\n",
      "78373    The Hunger Games\n",
      "Name: Movie_name, dtype: object\n"
     ]
    }
   ],
   "source": [
    "#Checking if the Wikipedia_IDs in summaries are the same as in Metadata by randomly checking an id (31186339)\n",
    "print(dfsummaries[dfsummaries[\"Wikipedia_ID\"]==31186339][\"Summary\"])\n",
    "print(dfmetadata[dfmetadata[\"Wikipedia_ID\"]==31186339][\"Movie_name\"]) "
   ]
  },
  {
   "cell_type": "code",
   "execution_count": 4,
   "id": "9c6ea51f-1a75-4d7a-a23f-4fb461781299",
   "metadata": {
    "tags": []
   },
   "outputs": [
    {
     "name": "stdout",
     "output_type": "stream",
     "text": [
      "False\n",
      "False\n"
     ]
    }
   ],
   "source": [
    "#Checking if there are NaNs\n",
    "print(dfsummaries[\"Wikipedia_ID\"].hasnans) #There are no NaNs.\n",
    "print(dfsummaries[\"Summary\"].hasnans) #There are no NaNs."
   ]
  },
  {
   "cell_type": "code",
   "execution_count": 5,
   "id": "502d61fe-bdcd-4442-a2c3-eed5bed4ec1e",
   "metadata": {
    "tags": []
   },
   "outputs": [
    {
     "name": "stdout",
     "output_type": "stream",
     "text": [
      "True\n",
      "False\n",
      "True\n"
     ]
    }
   ],
   "source": [
    "#Checking if there are double entries and removing them\n",
    "print(dfsummaries[\"Wikipedia_ID\"].is_unique) #This is true, nice!\n",
    "print(dfsummaries[\"Summary\"].is_unique) #This is false\n",
    "dfsummaries.drop_duplicates(['Summary'],inplace=True)\n",
    "print(dfsummaries[\"Summary\"].is_unique) \n",
    "#Now we can see there are no more duplicates (remember to do same for metadata!)"
   ]
  },
  {
   "cell_type": "code",
   "execution_count": 6,
   "id": "aec3ed59-cf44-43c2-804a-1a7ae92f0803",
   "metadata": {
    "tags": []
   },
   "outputs": [
    {
     "data": {
      "text/plain": [
       "Wikipedia_ID     int64\n",
       "Summary         object\n",
       "dtype: object"
      ]
     },
     "execution_count": 6,
     "metadata": {},
     "output_type": "execute_result"
    }
   ],
   "source": [
    "#Another thing we could do is look at the type of the data. \n",
    "#The IDs should all be positive integers, the summaries all str.\n",
    "dfsummaries.dtypes #We can see that this is the case"
   ]
  },
  {
   "cell_type": "code",
   "execution_count": 7,
   "id": "152a7f52-fe04-4274-a985-820d663457c5",
   "metadata": {
    "tags": []
   },
   "outputs": [
    {
     "data": {
      "text/plain": [
       "330"
      ]
     },
     "execution_count": 7,
     "metadata": {},
     "output_type": "execute_result"
    }
   ],
   "source": [
    "#Checking if we have negative values for ID\n",
    "dfsummaries[\"Wikipedia_ID\"].min() #Nice! They're all positive."
   ]
  },
  {
   "cell_type": "code",
   "execution_count": 8,
   "id": "f7e618bc-88ab-4268-9c2f-fa76c307967e",
   "metadata": {
    "tags": []
   },
   "outputs": [
    {
     "name": "stdout",
     "output_type": "stream",
     "text": [
      "number of summary entries: 42295\n",
      "number of metadata entries: 81741\n"
     ]
    }
   ],
   "source": [
    "#Checking how many entries there are\n",
    "print(\"number of summary entries:\",len(dfsummaries))\n",
    "print(\"number of metadata entries:\",len(dfmetadata)) \n",
    "#We can see that there is not a summary for every movie but only about half."
   ]
  },
  {
   "cell_type": "code",
   "execution_count": 9,
   "id": "0639133b-daa0-4f27-9bc8-26ce6350e96d",
   "metadata": {
    "tags": []
   },
   "outputs": [
    {
     "name": "stdout",
     "output_type": "stream",
     "text": [
      "The length of summaries ranges from 99 to 28159 characters.\n"
     ]
    }
   ],
   "source": [
    "#Check the lengths of the summaries (we can see that there is a great spread.)\n",
    "dfsummaries[\"Summary_Length\"]=dfsummaries['Summary'].apply(lambda x: len(x))\n",
    "print(\"The length of summaries ranges from %d to %d characters.\" %(dfsummaries[\"Summary_Length\"].min(),dfsummaries[\"Summary_Length\"].max()))"
   ]
  },
  {
   "cell_type": "code",
   "execution_count": 10,
   "id": "408e8d78-2b4e-44ae-9197-c22e44f6e0c6",
   "metadata": {
    "tags": []
   },
   "outputs": [
    {
     "data": {
      "text/plain": [
       "Text(0.5, 0, 'Summary length in characters')"
      ]
     },
     "execution_count": 10,
     "metadata": {},
     "output_type": "execute_result"
    },
    {
     "data": {
      "image/png": "[encoded data removed]",
      "text/plain": [
       "<Figure size 640x480 with 1 Axes>"
      ]
     },
     "metadata": {},
     "output_type": "display_data"
    }
   ],
   "source": [
    "#Displayed in a logarithmic histogram, we can see that most movie summaries are short and a few are bigger.\n",
    "dfsummaries[\"Summary_Length\"].hist(log=True)\n",
    "plt.title(\"Frequency of Summary length\")\n",
    "plt.ylabel(\"Number of summaries (log scale)\")\n",
    "plt.xlabel(\"Summary length in characters\")"
   ]
  },
  {
   "cell_type": "code",
   "execution_count": 11,
   "id": "0949f02f-5f6a-4008-961d-2fe1f7bdf8ef",
   "metadata": {
    "tags": []
   },
   "outputs": [
    {
     "name": "stdout",
     "output_type": "stream",
     "text": [
      "(0.17600314066454867, 0.0009999999999998899)\n",
      "(0.0571594944628687, 0.0009999999999998899)\n"
     ]
    }
   ],
   "source": [
    "#So, how are the summary lengths actually distributed? Let's find out\n",
    "print(diagnostic.kstest_normal(dfsummaries['Summary_Length'].values, dist = 'norm'))\n",
    "print(diagnostic.kstest_normal(dfsummaries['Summary_Length'].values, dist = 'exp'))\n",
    "#P-avlue < 0.05. The summary lengths are neither normal nor exponentially dist"
   ]
  },
  {
   "cell_type": "markdown",
   "id": "1576c40c-3a7b-46d8-9cd8-38ad69d4333e",
   "metadata": {},
   "source": [
    "There are some summaries much longer than others. Though for now we do the learning on the whole summary dataset as if it was a huge text. This might lead to a bias that the word embedding will learn more from movies with a bigger summary length than those with a shorter. An hypothesis we have is that maybe the longest summaries are the most watched movies and thus the most representative of how the bias between men and women might be seen by the general public of people watching movies. To check this let's do a scatter plot with box office thinking that movies with most data are the most watched movies."
   ]
  },
  {
   "cell_type": "markdown",
   "id": "250a4c10-ed73-4ecb-ac18-8eff9c311206",
   "metadata": {
    "tags": []
   },
   "source": [
    "## 2) Cleaning Metadata"
   ]
  },
  {
   "cell_type": "code",
   "execution_count": 12,
   "id": "7f48be97-0149-4a19-bb5c-a8f477dfd536",
   "metadata": {
    "tags": []
   },
   "outputs": [
    {
     "data": {
      "text/html": [
       "<div>\n",
       "<style scoped>\n",
       "    .dataframe tbody tr th:only-of-type {\n",
       "        vertical-align: middle;\n",
       "    }\n",
       "\n",
       "    .dataframe tbody tr th {\n",
       "        vertical-align: top;\n",
       "    }\n",
       "\n",
       "    .dataframe thead th {\n",
       "        text-align: right;\n",
       "    }\n",
       "</style>\n",
       "<table border=\"1\" class=\"dataframe\">\n",
       "  <thead>\n",
       "    <tr style=\"text-align: right;\">\n",
       "      <th></th>\n",
       "      <th>Wikipedia_ID</th>\n",
       "      <th>Freebase_ID</th>\n",
       "      <th>Movie_name</th>\n",
       "      <th>Release_date</th>\n",
       "      <th>box_office_revenue</th>\n",
       "      <th>runtime</th>\n",
       "      <th>languages</th>\n",
       "      <th>countries</th>\n",
       "      <th>genres</th>\n",
       "    </tr>\n",
       "  </thead>\n",
       "  <tbody>\n",
       "    <tr>\n",
       "      <th>0</th>\n",
       "      <td>975900</td>\n",
       "      <td>/m/03vyhn</td>\n",
       "      <td>Ghosts of Mars</td>\n",
       "      <td>2001-08-24</td>\n",
       "      <td>14010832.0</td>\n",
       "      <td>98.0</td>\n",
       "      <td>{\"/m/02h40lc\": \"English Language\"}</td>\n",
       "      <td>{\"/m/09c7w0\": \"United States of America\"}</td>\n",
       "      <td>{\"/m/01jfsb\": \"Thriller\", \"/m/06n90\": \"Science...</td>\n",
       "    </tr>\n",
       "    <tr>\n",
       "      <th>1</th>\n",
       "      <td>3196793</td>\n",
       "      <td>/m/08yl5d</td>\n",
       "      <td>Getting Away with Murder: The JonBenét Ramsey ...</td>\n",
       "      <td>2000-02-16</td>\n",
       "      <td>NaN</td>\n",
       "      <td>95.0</td>\n",
       "      <td>{\"/m/02h40lc\": \"English Language\"}</td>\n",
       "      <td>{\"/m/09c7w0\": \"United States of America\"}</td>\n",
       "      <td>{\"/m/02n4kr\": \"Mystery\", \"/m/03bxz7\": \"Biograp...</td>\n",
       "    </tr>\n",
       "    <tr>\n",
       "      <th>2</th>\n",
       "      <td>28463795</td>\n",
       "      <td>/m/0crgdbh</td>\n",
       "      <td>Brun bitter</td>\n",
       "      <td>1988</td>\n",
       "      <td>NaN</td>\n",
       "      <td>83.0</td>\n",
       "      <td>{\"/m/05f_3\": \"Norwegian Language\"}</td>\n",
       "      <td>{\"/m/05b4w\": \"Norway\"}</td>\n",
       "      <td>{\"/m/0lsxr\": \"Crime Fiction\", \"/m/07s9rl0\": \"D...</td>\n",
       "    </tr>\n",
       "    <tr>\n",
       "      <th>3</th>\n",
       "      <td>9363483</td>\n",
       "      <td>/m/0285_cd</td>\n",
       "      <td>White Of The Eye</td>\n",
       "      <td>1987</td>\n",
       "      <td>NaN</td>\n",
       "      <td>110.0</td>\n",
       "      <td>{\"/m/02h40lc\": \"English Language\"}</td>\n",
       "      <td>{\"/m/07ssc\": \"United Kingdom\"}</td>\n",
       "      <td>{\"/m/01jfsb\": \"Thriller\", \"/m/0glj9q\": \"Erotic...</td>\n",
       "    </tr>\n",
       "    <tr>\n",
       "      <th>4</th>\n",
       "      <td>261236</td>\n",
       "      <td>/m/01mrr1</td>\n",
       "      <td>A Woman in Flames</td>\n",
       "      <td>1983</td>\n",
       "      <td>NaN</td>\n",
       "      <td>106.0</td>\n",
       "      <td>{\"/m/04306rv\": \"German Language\"}</td>\n",
       "      <td>{\"/m/0345h\": \"Germany\"}</td>\n",
       "      <td>{\"/m/07s9rl0\": \"Drama\"}</td>\n",
       "    </tr>\n",
       "  </tbody>\n",
       "</table>\n",
       "</div>"
      ],
      "text/plain": [
       "   Wikipedia_ID Freebase_ID  \\\n",
       "0        975900   /m/03vyhn   \n",
       "1       3196793   /m/08yl5d   \n",
       "2      28463795  /m/0crgdbh   \n",
       "3       9363483  /m/0285_cd   \n",
       "4        261236   /m/01mrr1   \n",
       "\n",
       "                                          Movie_name Release_date  \\\n",
       "0                                     Ghosts of Mars   2001-08-24   \n",
       "1  Getting Away with Murder: The JonBenét Ramsey ...   2000-02-16   \n",
       "2                                        Brun bitter         1988   \n",
       "3                                   White Of The Eye         1987   \n",
       "4                                  A Woman in Flames         1983   \n",
       "\n",
       "   box_office_revenue  runtime                           languages  \\\n",
       "0          14010832.0     98.0  {\"/m/02h40lc\": \"English Language\"}   \n",
       "1                 NaN     95.0  {\"/m/02h40lc\": \"English Language\"}   \n",
       "2                 NaN     83.0  {\"/m/05f_3\": \"Norwegian Language\"}   \n",
       "3                 NaN    110.0  {\"/m/02h40lc\": \"English Language\"}   \n",
       "4                 NaN    106.0   {\"/m/04306rv\": \"German Language\"}   \n",
       "\n",
       "                                   countries  \\\n",
       "0  {\"/m/09c7w0\": \"United States of America\"}   \n",
       "1  {\"/m/09c7w0\": \"United States of America\"}   \n",
       "2                     {\"/m/05b4w\": \"Norway\"}   \n",
       "3             {\"/m/07ssc\": \"United Kingdom\"}   \n",
       "4                    {\"/m/0345h\": \"Germany\"}   \n",
       "\n",
       "                                              genres  \n",
       "0  {\"/m/01jfsb\": \"Thriller\", \"/m/06n90\": \"Science...  \n",
       "1  {\"/m/02n4kr\": \"Mystery\", \"/m/03bxz7\": \"Biograp...  \n",
       "2  {\"/m/0lsxr\": \"Crime Fiction\", \"/m/07s9rl0\": \"D...  \n",
       "3  {\"/m/01jfsb\": \"Thriller\", \"/m/0glj9q\": \"Erotic...  \n",
       "4                            {\"/m/07s9rl0\": \"Drama\"}  "
      ]
     },
     "execution_count": 12,
     "metadata": {},
     "output_type": "execute_result"
    }
   ],
   "source": [
    "dfmetadata.head()"
   ]
  },
  {
   "cell_type": "markdown",
   "id": "417e48e1-0021-4ea9-b998-be800fc55785",
   "metadata": {
    "tags": []
   },
   "source": [
    "#### Duplicates and NaNs"
   ]
  },
  {
   "cell_type": "code",
   "execution_count": 13,
   "id": "271e7d23-7c9c-4e37-9e74-57e26191e605",
   "metadata": {
    "tags": []
   },
   "outputs": [
    {
     "data": {
      "text/plain": [
       "True"
      ]
     },
     "execution_count": 13,
     "metadata": {},
     "output_type": "execute_result"
    }
   ],
   "source": [
    "#Checking for duplicates\n",
    "dfmetadata[\"Wikipedia_ID\"].is_unique\n",
    "dfmetadata[\"Freebase_ID\"].is_unique"
   ]
  },
  {
   "cell_type": "code",
   "execution_count": 14,
   "id": "40b5626d-8c21-41dd-acc3-9c5e3eac6c67",
   "metadata": {
    "tags": []
   },
   "outputs": [
    {
     "name": "stdout",
     "output_type": "stream",
     "text": [
      "<class 'pandas.core.frame.DataFrame'>\n",
      "RangeIndex: 81741 entries, 0 to 81740\n",
      "Data columns (total 9 columns):\n",
      " #   Column              Non-Null Count  Dtype  \n",
      "---  ------              --------------  -----  \n",
      " 0   Wikipedia_ID        81741 non-null  int64  \n",
      " 1   Freebase_ID         81741 non-null  object \n",
      " 2   Movie_name          81741 non-null  object \n",
      " 3   Release_date        74839 non-null  object \n",
      " 4   box_office_revenue  8401 non-null   float64\n",
      " 5   runtime             61291 non-null  float64\n",
      " 6   languages           81741 non-null  object \n",
      " 7   countries           81741 non-null  object \n",
      " 8   genres              81741 non-null  object \n",
      "dtypes: float64(2), int64(1), object(6)\n",
      "memory usage: 5.6+ MB\n"
     ]
    }
   ],
   "source": [
    "#Checking for NaNs using the Non-Null Count\n",
    "dfmetadata.info() "
   ]
  },
  {
   "cell_type": "code",
   "execution_count": 15,
   "id": "fab961aa-c74e-479d-a65f-38f3b4ce0ca4",
   "metadata": {
    "tags": []
   },
   "outputs": [
    {
     "data": {
      "text/plain": [
       "0.1027758407653442"
      ]
     },
     "execution_count": 15,
     "metadata": {},
     "output_type": "execute_result"
    }
   ],
   "source": [
    "(len(dfmetadata)-dfmetadata[\"box_office_revenue\"].isna().sum()) /len(dfmetadata)\n",
    "#We can see that we only have box office revenue values for around 10% of the movie data!"
   ]
  },
  {
   "cell_type": "markdown",
   "id": "1556d4e0-7c77-4117-acd9-85467a6fd202",
   "metadata": {},
   "source": [
    "We can see that there are some NaNs for the release date and the runtime. Especially, there seem to be alot of NaNs for box office revenue!\n",
    "This is important as it might affect the feasibility of answering the question if the amount of women in a movie has an effect on box office revenue. We kept the research question in our proposal as an additional question to maybe explore in the end if we have the time. In that case we would also consider incorporating additional data."
   ]
  },
  {
   "cell_type": "markdown",
   "id": "dc64d815-0fc6-4d1c-8b5f-42ae0eb06cc3",
   "metadata": {},
   "source": [
    "#### Release Dates"
   ]
  },
  {
   "cell_type": "markdown",
   "id": "c6a8dc41-458e-46ea-a58c-055a50bb582d",
   "metadata": {},
   "source": [
    "We can see that the release Dates are sometimes written in a date format 2000-02-16 and sometimes it is just the year. In order to have uniform dates, we choose only the year. Since we are looking at longer timespans, we think the year is more important than the date"
   ]
  },
  {
   "cell_type": "code",
   "execution_count": 16,
   "id": "68685e6c-bcfc-437b-8349-fec2936d3ff3",
   "metadata": {
    "tags": []
   },
   "outputs": [
    {
     "data": {
      "text/html": [
       "<div>\n",
       "<style scoped>\n",
       "    .dataframe tbody tr th:only-of-type {\n",
       "        vertical-align: middle;\n",
       "    }\n",
       "\n",
       "    .dataframe tbody tr th {\n",
       "        vertical-align: top;\n",
       "    }\n",
       "\n",
       "    .dataframe thead th {\n",
       "        text-align: right;\n",
       "    }\n",
       "</style>\n",
       "<table border=\"1\" class=\"dataframe\">\n",
       "  <thead>\n",
       "    <tr style=\"text-align: right;\">\n",
       "      <th></th>\n",
       "      <th>Wikipedia_ID</th>\n",
       "      <th>Freebase_ID</th>\n",
       "      <th>Movie_name</th>\n",
       "      <th>Release_date</th>\n",
       "      <th>box_office_revenue</th>\n",
       "      <th>runtime</th>\n",
       "      <th>languages</th>\n",
       "      <th>countries</th>\n",
       "      <th>genres</th>\n",
       "      <th>test</th>\n",
       "    </tr>\n",
       "  </thead>\n",
       "  <tbody>\n",
       "    <tr>\n",
       "      <th>0</th>\n",
       "      <td>975900</td>\n",
       "      <td>/m/03vyhn</td>\n",
       "      <td>Ghosts of Mars</td>\n",
       "      <td>2001-08-24</td>\n",
       "      <td>14010832.0</td>\n",
       "      <td>98.0</td>\n",
       "      <td>{\"/m/02h40lc\": \"English Language\"}</td>\n",
       "      <td>{\"/m/09c7w0\": \"United States of America\"}</td>\n",
       "      <td>{\"/m/01jfsb\": \"Thriller\", \"/m/06n90\": \"Science...</td>\n",
       "      <td>2001</td>\n",
       "    </tr>\n",
       "    <tr>\n",
       "      <th>1</th>\n",
       "      <td>3196793</td>\n",
       "      <td>/m/08yl5d</td>\n",
       "      <td>Getting Away with Murder: The JonBenét Ramsey ...</td>\n",
       "      <td>2000-02-16</td>\n",
       "      <td>NaN</td>\n",
       "      <td>95.0</td>\n",
       "      <td>{\"/m/02h40lc\": \"English Language\"}</td>\n",
       "      <td>{\"/m/09c7w0\": \"United States of America\"}</td>\n",
       "      <td>{\"/m/02n4kr\": \"Mystery\", \"/m/03bxz7\": \"Biograp...</td>\n",
       "      <td>2000</td>\n",
       "    </tr>\n",
       "    <tr>\n",
       "      <th>2</th>\n",
       "      <td>28463795</td>\n",
       "      <td>/m/0crgdbh</td>\n",
       "      <td>Brun bitter</td>\n",
       "      <td>1988</td>\n",
       "      <td>NaN</td>\n",
       "      <td>83.0</td>\n",
       "      <td>{\"/m/05f_3\": \"Norwegian Language\"}</td>\n",
       "      <td>{\"/m/05b4w\": \"Norway\"}</td>\n",
       "      <td>{\"/m/0lsxr\": \"Crime Fiction\", \"/m/07s9rl0\": \"D...</td>\n",
       "      <td>1988</td>\n",
       "    </tr>\n",
       "    <tr>\n",
       "      <th>3</th>\n",
       "      <td>9363483</td>\n",
       "      <td>/m/0285_cd</td>\n",
       "      <td>White Of The Eye</td>\n",
       "      <td>1987</td>\n",
       "      <td>NaN</td>\n",
       "      <td>110.0</td>\n",
       "      <td>{\"/m/02h40lc\": \"English Language\"}</td>\n",
       "      <td>{\"/m/07ssc\": \"United Kingdom\"}</td>\n",
       "      <td>{\"/m/01jfsb\": \"Thriller\", \"/m/0glj9q\": \"Erotic...</td>\n",
       "      <td>1987</td>\n",
       "    </tr>\n",
       "    <tr>\n",
       "      <th>4</th>\n",
       "      <td>261236</td>\n",
       "      <td>/m/01mrr1</td>\n",
       "      <td>A Woman in Flames</td>\n",
       "      <td>1983</td>\n",
       "      <td>NaN</td>\n",
       "      <td>106.0</td>\n",
       "      <td>{\"/m/04306rv\": \"German Language\"}</td>\n",
       "      <td>{\"/m/0345h\": \"Germany\"}</td>\n",
       "      <td>{\"/m/07s9rl0\": \"Drama\"}</td>\n",
       "      <td>1983</td>\n",
       "    </tr>\n",
       "    <tr>\n",
       "      <th>...</th>\n",
       "      <td>...</td>\n",
       "      <td>...</td>\n",
       "      <td>...</td>\n",
       "      <td>...</td>\n",
       "      <td>...</td>\n",
       "      <td>...</td>\n",
       "      <td>...</td>\n",
       "      <td>...</td>\n",
       "      <td>...</td>\n",
       "      <td>...</td>\n",
       "    </tr>\n",
       "    <tr>\n",
       "      <th>81736</th>\n",
       "      <td>35228177</td>\n",
       "      <td>/m/0j7hxnt</td>\n",
       "      <td>Mermaids: The Body Found</td>\n",
       "      <td>2011-03-19</td>\n",
       "      <td>NaN</td>\n",
       "      <td>120.0</td>\n",
       "      <td>{\"/m/02h40lc\": \"English Language\"}</td>\n",
       "      <td>{\"/m/09c7w0\": \"United States of America\"}</td>\n",
       "      <td>{\"/m/07s9rl0\": \"Drama\"}</td>\n",
       "      <td>2011</td>\n",
       "    </tr>\n",
       "    <tr>\n",
       "      <th>81737</th>\n",
       "      <td>34980460</td>\n",
       "      <td>/m/0g4pl34</td>\n",
       "      <td>Knuckle</td>\n",
       "      <td>2011-01-21</td>\n",
       "      <td>NaN</td>\n",
       "      <td>96.0</td>\n",
       "      <td>{\"/m/02h40lc\": \"English Language\"}</td>\n",
       "      <td>{\"/m/03rt9\": \"Ireland\", \"/m/07ssc\": \"United Ki...</td>\n",
       "      <td>{\"/m/03bxz7\": \"Biographical film\", \"/m/07s9rl0...</td>\n",
       "      <td>2011</td>\n",
       "    </tr>\n",
       "    <tr>\n",
       "      <th>81738</th>\n",
       "      <td>9971909</td>\n",
       "      <td>/m/02pygw1</td>\n",
       "      <td>Another Nice Mess</td>\n",
       "      <td>1972-09-22</td>\n",
       "      <td>NaN</td>\n",
       "      <td>66.0</td>\n",
       "      <td>{\"/m/02h40lc\": \"English Language\"}</td>\n",
       "      <td>{\"/m/09c7w0\": \"United States of America\"}</td>\n",
       "      <td>{\"/m/06nbt\": \"Satire\", \"/m/01z4y\": \"Comedy\"}</td>\n",
       "      <td>1972</td>\n",
       "    </tr>\n",
       "    <tr>\n",
       "      <th>81739</th>\n",
       "      <td>913762</td>\n",
       "      <td>/m/03pcrp</td>\n",
       "      <td>The Super Dimension Fortress Macross II: Lover...</td>\n",
       "      <td>1992-05-21</td>\n",
       "      <td>NaN</td>\n",
       "      <td>150.0</td>\n",
       "      <td>{\"/m/03_9r\": \"Japanese Language\"}</td>\n",
       "      <td>{\"/m/03_3d\": \"Japan\"}</td>\n",
       "      <td>{\"/m/06n90\": \"Science Fiction\", \"/m/0gw5n2f\": ...</td>\n",
       "      <td>1992</td>\n",
       "    </tr>\n",
       "    <tr>\n",
       "      <th>81740</th>\n",
       "      <td>12476867</td>\n",
       "      <td>/m/02w7zz8</td>\n",
       "      <td>Spliced</td>\n",
       "      <td>2002</td>\n",
       "      <td>NaN</td>\n",
       "      <td>86.0</td>\n",
       "      <td>{\"/m/02h40lc\": \"English Language\"}</td>\n",
       "      <td>{\"/m/0d060g\": \"Canada\"}</td>\n",
       "      <td>{\"/m/01jfsb\": \"Thriller\", \"/m/03npn\": \"Horror\"...</td>\n",
       "      <td>2002</td>\n",
       "    </tr>\n",
       "  </tbody>\n",
       "</table>\n",
       "<p>81741 rows × 10 columns</p>\n",
       "</div>"
      ],
      "text/plain": [
       "       Wikipedia_ID Freebase_ID  \\\n",
       "0            975900   /m/03vyhn   \n",
       "1           3196793   /m/08yl5d   \n",
       "2          28463795  /m/0crgdbh   \n",
       "3           9363483  /m/0285_cd   \n",
       "4            261236   /m/01mrr1   \n",
       "...             ...         ...   \n",
       "81736      35228177  /m/0j7hxnt   \n",
       "81737      34980460  /m/0g4pl34   \n",
       "81738       9971909  /m/02pygw1   \n",
       "81739        913762   /m/03pcrp   \n",
       "81740      12476867  /m/02w7zz8   \n",
       "\n",
       "                                              Movie_name Release_date  \\\n",
       "0                                         Ghosts of Mars   2001-08-24   \n",
       "1      Getting Away with Murder: The JonBenét Ramsey ...   2000-02-16   \n",
       "2                                            Brun bitter         1988   \n",
       "3                                       White Of The Eye         1987   \n",
       "4                                      A Woman in Flames         1983   \n",
       "...                                                  ...          ...   \n",
       "81736                           Mermaids: The Body Found   2011-03-19   \n",
       "81737                                            Knuckle   2011-01-21   \n",
       "81738                                  Another Nice Mess   1972-09-22   \n",
       "81739  The Super Dimension Fortress Macross II: Lover...   1992-05-21   \n",
       "81740                                            Spliced         2002   \n",
       "\n",
       "       box_office_revenue  runtime                           languages  \\\n",
       "0              14010832.0     98.0  {\"/m/02h40lc\": \"English Language\"}   \n",
       "1                     NaN     95.0  {\"/m/02h40lc\": \"English Language\"}   \n",
       "2                     NaN     83.0  {\"/m/05f_3\": \"Norwegian Language\"}   \n",
       "3                     NaN    110.0  {\"/m/02h40lc\": \"English Language\"}   \n",
       "4                     NaN    106.0   {\"/m/04306rv\": \"German Language\"}   \n",
       "...                   ...      ...                                 ...   \n",
       "81736                 NaN    120.0  {\"/m/02h40lc\": \"English Language\"}   \n",
       "81737                 NaN     96.0  {\"/m/02h40lc\": \"English Language\"}   \n",
       "81738                 NaN     66.0  {\"/m/02h40lc\": \"English Language\"}   \n",
       "81739                 NaN    150.0   {\"/m/03_9r\": \"Japanese Language\"}   \n",
       "81740                 NaN     86.0  {\"/m/02h40lc\": \"English Language\"}   \n",
       "\n",
       "                                               countries  \\\n",
       "0              {\"/m/09c7w0\": \"United States of America\"}   \n",
       "1              {\"/m/09c7w0\": \"United States of America\"}   \n",
       "2                                 {\"/m/05b4w\": \"Norway\"}   \n",
       "3                         {\"/m/07ssc\": \"United Kingdom\"}   \n",
       "4                                {\"/m/0345h\": \"Germany\"}   \n",
       "...                                                  ...   \n",
       "81736          {\"/m/09c7w0\": \"United States of America\"}   \n",
       "81737  {\"/m/03rt9\": \"Ireland\", \"/m/07ssc\": \"United Ki...   \n",
       "81738          {\"/m/09c7w0\": \"United States of America\"}   \n",
       "81739                              {\"/m/03_3d\": \"Japan\"}   \n",
       "81740                            {\"/m/0d060g\": \"Canada\"}   \n",
       "\n",
       "                                                  genres  test  \n",
       "0      {\"/m/01jfsb\": \"Thriller\", \"/m/06n90\": \"Science...  2001  \n",
       "1      {\"/m/02n4kr\": \"Mystery\", \"/m/03bxz7\": \"Biograp...  2000  \n",
       "2      {\"/m/0lsxr\": \"Crime Fiction\", \"/m/07s9rl0\": \"D...  1988  \n",
       "3      {\"/m/01jfsb\": \"Thriller\", \"/m/0glj9q\": \"Erotic...  1987  \n",
       "4                                {\"/m/07s9rl0\": \"Drama\"}  1983  \n",
       "...                                                  ...   ...  \n",
       "81736                            {\"/m/07s9rl0\": \"Drama\"}  2011  \n",
       "81737  {\"/m/03bxz7\": \"Biographical film\", \"/m/07s9rl0...  2011  \n",
       "81738       {\"/m/06nbt\": \"Satire\", \"/m/01z4y\": \"Comedy\"}  1972  \n",
       "81739  {\"/m/06n90\": \"Science Fiction\", \"/m/0gw5n2f\": ...  1992  \n",
       "81740  {\"/m/01jfsb\": \"Thriller\", \"/m/03npn\": \"Horror\"...  2002  \n",
       "\n",
       "[81741 rows x 10 columns]"
      ]
     },
     "execution_count": 16,
     "metadata": {},
     "output_type": "execute_result"
    }
   ],
   "source": [
    "def only_year(date):\n",
    "    date = str(date)\n",
    "    if len(date) == 4:\n",
    "        return date\n",
    "    else:\n",
    "        return date[:4]\n",
    "    date=int(date)\n",
    "\n",
    "# Apply the function to standardize dates\n",
    "dfmetadata['test'] = dfmetadata['Release_date'].apply(only_year)\n",
    "\n",
    "dfmetadata"
   ]
  },
  {
   "cell_type": "code",
   "execution_count": 17,
   "id": "aa24f244-d6c9-48d8-b018-540486d065bf",
   "metadata": {
    "tags": []
   },
   "outputs": [
    {
     "data": {
      "text/plain": [
       "Text(0.5, 1.0, 'runtime of movies')"
      ]
     },
     "execution_count": 17,
     "metadata": {},
     "output_type": "execute_result"
    },
    {
     "data": {
      "image/png": "[encoded data removed]",
      "text/plain": [
       "<Figure size 640x480 with 1 Axes>"
      ]
     },
     "metadata": {},
     "output_type": "display_data"
    }
   ],
   "source": [
    "dfmetadata.boxplot(column= \"runtime\")\n",
    "plt.title(\"runtime of movies\")"
   ]
  },
  {
   "cell_type": "markdown",
   "id": "543f787d-f36e-4eb4-a5e5-ff145aaee060",
   "metadata": {},
   "source": [
    "There are some extreme values. A film 8000 minutes long must be quite boring. Let's look at those data."
   ]
  },
  {
   "cell_type": "code",
   "execution_count": 18,
   "id": "b88c23a5-ecb2-4f2f-ab49-829fdd4b7961",
   "metadata": {
    "tags": []
   },
   "outputs": [
    {
     "data": {
      "text/html": [
       "<div>\n",
       "<style scoped>\n",
       "    .dataframe tbody tr th:only-of-type {\n",
       "        vertical-align: middle;\n",
       "    }\n",
       "\n",
       "    .dataframe tbody tr th {\n",
       "        vertical-align: top;\n",
       "    }\n",
       "\n",
       "    .dataframe thead th {\n",
       "        text-align: right;\n",
       "    }\n",
       "</style>\n",
       "<table border=\"1\" class=\"dataframe\">\n",
       "  <thead>\n",
       "    <tr style=\"text-align: right;\">\n",
       "      <th></th>\n",
       "      <th>Wikipedia_ID</th>\n",
       "      <th>Freebase_ID</th>\n",
       "      <th>Movie_name</th>\n",
       "      <th>Release_date</th>\n",
       "      <th>box_office_revenue</th>\n",
       "      <th>runtime</th>\n",
       "      <th>languages</th>\n",
       "      <th>countries</th>\n",
       "      <th>genres</th>\n",
       "      <th>test</th>\n",
       "    </tr>\n",
       "  </thead>\n",
       "  <tbody>\n",
       "    <tr>\n",
       "      <th>12804</th>\n",
       "      <td>10815585</td>\n",
       "      <td>/m/02qqy23</td>\n",
       "      <td>Zero Tolerance</td>\n",
       "      <td>1995</td>\n",
       "      <td>NaN</td>\n",
       "      <td>1079281.0</td>\n",
       "      <td>{\"/m/02h40lc\": \"English Language\"}</td>\n",
       "      <td>{\"/m/09c7w0\": \"United States of America\"}</td>\n",
       "      <td>{\"/m/01jfsb\": \"Thriller\", \"/m/0lsxr\": \"Crime F...</td>\n",
       "      <td>1995</td>\n",
       "    </tr>\n",
       "    <tr>\n",
       "      <th>62962</th>\n",
       "      <td>32441022</td>\n",
       "      <td>/m/0gyr803</td>\n",
       "      <td>Modern Times Forever</td>\n",
       "      <td>NaN</td>\n",
       "      <td>NaN</td>\n",
       "      <td>14400.0</td>\n",
       "      <td>{}</td>\n",
       "      <td>{}</td>\n",
       "      <td>{\"/m/0jtdp\": \"Documentary\"}</td>\n",
       "      <td>nan</td>\n",
       "    </tr>\n",
       "    <tr>\n",
       "      <th>71100</th>\n",
       "      <td>25345684</td>\n",
       "      <td>/m/09gqhh3</td>\n",
       "      <td>Cinématon</td>\n",
       "      <td>2011</td>\n",
       "      <td>NaN</td>\n",
       "      <td>9360.0</td>\n",
       "      <td>{\"/m/064_8sq\": \"French Language\"}</td>\n",
       "      <td>{\"/m/0f8l9c\": \"France\"}</td>\n",
       "      <td>{\"/m/0424mc\": \"Experimental film\", \"/m/0jtdp\":...</td>\n",
       "      <td>2011</td>\n",
       "    </tr>\n",
       "  </tbody>\n",
       "</table>\n",
       "</div>"
      ],
      "text/plain": [
       "       Wikipedia_ID Freebase_ID            Movie_name Release_date  \\\n",
       "12804      10815585  /m/02qqy23        Zero Tolerance         1995   \n",
       "62962      32441022  /m/0gyr803  Modern Times Forever          NaN   \n",
       "71100      25345684  /m/09gqhh3             Cinématon         2011   \n",
       "\n",
       "       box_office_revenue    runtime                           languages  \\\n",
       "12804                 NaN  1079281.0  {\"/m/02h40lc\": \"English Language\"}   \n",
       "62962                 NaN    14400.0                                  {}   \n",
       "71100                 NaN     9360.0   {\"/m/064_8sq\": \"French Language\"}   \n",
       "\n",
       "                                       countries  \\\n",
       "12804  {\"/m/09c7w0\": \"United States of America\"}   \n",
       "62962                                         {}   \n",
       "71100                    {\"/m/0f8l9c\": \"France\"}   \n",
       "\n",
       "                                                  genres  test  \n",
       "12804  {\"/m/01jfsb\": \"Thriller\", \"/m/0lsxr\": \"Crime F...  1995  \n",
       "62962                        {\"/m/0jtdp\": \"Documentary\"}   nan  \n",
       "71100  {\"/m/0424mc\": \"Experimental film\", \"/m/0jtdp\":...  2011  "
      ]
     },
     "execution_count": 18,
     "metadata": {},
     "output_type": "execute_result"
    }
   ],
   "source": [
    "dfmetadata.loc[dfmetadata[\"runtime\"]>8000,:]"
   ]
  },
  {
   "cell_type": "markdown",
   "id": "55cd0e05-779e-4d2f-9451-d63e215e857e",
   "metadata": {},
   "source": [
    "After a quick look on internet (https://en.wikipedia.org/wiki/Zero_Tolerance_(1994_film)) we noticed that the runtime of the longer movie is actually of 94 minutes which is much shorter than the indicated runtime we thus replace the abberant value. For the other high values we just change them to Nan."
   ]
  },
  {
   "cell_type": "code",
   "execution_count": 19,
   "id": "dab90bfd-3095-499d-98ce-823ba17bc076",
   "metadata": {
    "tags": []
   },
   "outputs": [],
   "source": [
    "dfmetadata.loc[12804, [\"runtime\"]] =  94\n",
    "#We subjectively decide that a movie longer than 10 hours is to long and it's an error in the data\n",
    "dfmetadata.loc[dfmetadata[\"runtime\"]>600,:] = np.NaN"
   ]
  },
  {
   "cell_type": "code",
   "execution_count": 20,
   "id": "7b956cea-34d4-4f27-b773-0f7a7c48d19c",
   "metadata": {
    "tags": []
   },
   "outputs": [
    {
     "data": {
      "text/plain": [
       "Text(0, 0.5, 'Runtime in minutes')"
      ]
     },
     "execution_count": 20,
     "metadata": {},
     "output_type": "execute_result"
    },
    {
     "data": {
      "image/png": "[encoded data removed]",
      "text/plain": [
       "<Figure size 640x480 with 1 Axes>"
      ]
     },
     "metadata": {},
     "output_type": "display_data"
    }
   ],
   "source": [
    "dfmetadata.boxplot(column= \"runtime\")\n",
    "plt.title(\"Runtime of the movies\")\n",
    "plt.ylabel(\"Runtime in minutes\")"
   ]
  },
  {
   "cell_type": "markdown",
   "id": "bc7f1fc1-9802-430d-85c2-b10a862050f8",
   "metadata": {
    "tags": []
   },
   "source": [
    "## 3) Cleaning character data"
   ]
  },
  {
   "cell_type": "markdown",
   "id": "783b5392-a44f-486e-b4d3-126e213f1092",
   "metadata": {},
   "source": [
    "First let's have a quick look at the data."
   ]
  },
  {
   "cell_type": "code",
   "execution_count": 21,
   "id": "ea344861-d705-4cc0-8f8b-fc38d275814a",
   "metadata": {
    "tags": []
   },
   "outputs": [
    {
     "data": {
      "text/html": [
       "<div>\n",
       "<style scoped>\n",
       "    .dataframe tbody tr th:only-of-type {\n",
       "        vertical-align: middle;\n",
       "    }\n",
       "\n",
       "    .dataframe tbody tr th {\n",
       "        vertical-align: top;\n",
       "    }\n",
       "\n",
       "    .dataframe thead th {\n",
       "        text-align: right;\n",
       "    }\n",
       "</style>\n",
       "<table border=\"1\" class=\"dataframe\">\n",
       "  <thead>\n",
       "    <tr style=\"text-align: right;\">\n",
       "      <th></th>\n",
       "      <th>Wikipedia_ID</th>\n",
       "      <th>Freebase_ID</th>\n",
       "      <th>Release_date</th>\n",
       "      <th>Character_name</th>\n",
       "      <th>Actor_date_of_birth</th>\n",
       "      <th>Gender</th>\n",
       "      <th>Height</th>\n",
       "      <th>Ethnicity</th>\n",
       "      <th>Actor_name</th>\n",
       "      <th>Age</th>\n",
       "      <th>Freebase_character/actor_map_ID</th>\n",
       "      <th>Freebase_character_ID</th>\n",
       "      <th>Freebase_actor_ID</th>\n",
       "    </tr>\n",
       "  </thead>\n",
       "  <tbody>\n",
       "    <tr>\n",
       "      <th>0</th>\n",
       "      <td>975900</td>\n",
       "      <td>/m/03vyhn</td>\n",
       "      <td>2001-08-24</td>\n",
       "      <td>Akooshay</td>\n",
       "      <td>1958-08-26</td>\n",
       "      <td>F</td>\n",
       "      <td>1.620</td>\n",
       "      <td>NaN</td>\n",
       "      <td>Wanda De Jesus</td>\n",
       "      <td>42.0</td>\n",
       "      <td>/m/0bgchxw</td>\n",
       "      <td>/m/0bgcj3x</td>\n",
       "      <td>/m/03wcfv7</td>\n",
       "    </tr>\n",
       "    <tr>\n",
       "      <th>1</th>\n",
       "      <td>975900</td>\n",
       "      <td>/m/03vyhn</td>\n",
       "      <td>2001-08-24</td>\n",
       "      <td>Lieutenant Melanie Ballard</td>\n",
       "      <td>1974-08-15</td>\n",
       "      <td>F</td>\n",
       "      <td>1.780</td>\n",
       "      <td>/m/044038p</td>\n",
       "      <td>Natasha Henstridge</td>\n",
       "      <td>27.0</td>\n",
       "      <td>/m/0jys3m</td>\n",
       "      <td>/m/0bgchn4</td>\n",
       "      <td>/m/0346l4</td>\n",
       "    </tr>\n",
       "    <tr>\n",
       "      <th>2</th>\n",
       "      <td>975900</td>\n",
       "      <td>/m/03vyhn</td>\n",
       "      <td>2001-08-24</td>\n",
       "      <td>Desolation Williams</td>\n",
       "      <td>1969-06-15</td>\n",
       "      <td>M</td>\n",
       "      <td>1.727</td>\n",
       "      <td>/m/0x67</td>\n",
       "      <td>Ice Cube</td>\n",
       "      <td>32.0</td>\n",
       "      <td>/m/0jys3g</td>\n",
       "      <td>/m/0bgchn_</td>\n",
       "      <td>/m/01vw26l</td>\n",
       "    </tr>\n",
       "    <tr>\n",
       "      <th>3</th>\n",
       "      <td>975900</td>\n",
       "      <td>/m/03vyhn</td>\n",
       "      <td>2001-08-24</td>\n",
       "      <td>Sgt Jericho Butler</td>\n",
       "      <td>1967-09-12</td>\n",
       "      <td>M</td>\n",
       "      <td>1.750</td>\n",
       "      <td>NaN</td>\n",
       "      <td>Jason Statham</td>\n",
       "      <td>33.0</td>\n",
       "      <td>/m/02vchl6</td>\n",
       "      <td>/m/0bgchnq</td>\n",
       "      <td>/m/034hyc</td>\n",
       "    </tr>\n",
       "    <tr>\n",
       "      <th>4</th>\n",
       "      <td>975900</td>\n",
       "      <td>/m/03vyhn</td>\n",
       "      <td>2001-08-24</td>\n",
       "      <td>Bashira Kincaid</td>\n",
       "      <td>1977-09-25</td>\n",
       "      <td>F</td>\n",
       "      <td>1.650</td>\n",
       "      <td>NaN</td>\n",
       "      <td>Clea DuVall</td>\n",
       "      <td>23.0</td>\n",
       "      <td>/m/02vbb3r</td>\n",
       "      <td>/m/0bgchp9</td>\n",
       "      <td>/m/01y9xg</td>\n",
       "    </tr>\n",
       "    <tr>\n",
       "      <th>...</th>\n",
       "      <td>...</td>\n",
       "      <td>...</td>\n",
       "      <td>...</td>\n",
       "      <td>...</td>\n",
       "      <td>...</td>\n",
       "      <td>...</td>\n",
       "      <td>...</td>\n",
       "      <td>...</td>\n",
       "      <td>...</td>\n",
       "      <td>...</td>\n",
       "      <td>...</td>\n",
       "      <td>...</td>\n",
       "      <td>...</td>\n",
       "    </tr>\n",
       "    <tr>\n",
       "      <th>450664</th>\n",
       "      <td>913762</td>\n",
       "      <td>/m/03pcrp</td>\n",
       "      <td>1992-05-21</td>\n",
       "      <td>Elensh</td>\n",
       "      <td>1970-05</td>\n",
       "      <td>F</td>\n",
       "      <td>NaN</td>\n",
       "      <td>NaN</td>\n",
       "      <td>Dorothy Elias-Fahn</td>\n",
       "      <td>NaN</td>\n",
       "      <td>/m/0kr406c</td>\n",
       "      <td>/m/0kr406h</td>\n",
       "      <td>/m/0b_vcv</td>\n",
       "    </tr>\n",
       "    <tr>\n",
       "      <th>450665</th>\n",
       "      <td>913762</td>\n",
       "      <td>/m/03pcrp</td>\n",
       "      <td>1992-05-21</td>\n",
       "      <td>Hibiki</td>\n",
       "      <td>1965-04-12</td>\n",
       "      <td>M</td>\n",
       "      <td>NaN</td>\n",
       "      <td>NaN</td>\n",
       "      <td>Jonathan Fahn</td>\n",
       "      <td>27.0</td>\n",
       "      <td>/m/0kr405_</td>\n",
       "      <td>/m/0kr4090</td>\n",
       "      <td>/m/0bx7_j</td>\n",
       "    </tr>\n",
       "    <tr>\n",
       "      <th>450666</th>\n",
       "      <td>28308153</td>\n",
       "      <td>/m/0cp05t9</td>\n",
       "      <td>1957</td>\n",
       "      <td>NaN</td>\n",
       "      <td>1941-11-18</td>\n",
       "      <td>M</td>\n",
       "      <td>1.730</td>\n",
       "      <td>/m/02w7gg</td>\n",
       "      <td>David Hemmings</td>\n",
       "      <td>15.0</td>\n",
       "      <td>/m/0g8ngmc</td>\n",
       "      <td>NaN</td>\n",
       "      <td>/m/022g44</td>\n",
       "    </tr>\n",
       "    <tr>\n",
       "      <th>450667</th>\n",
       "      <td>28308153</td>\n",
       "      <td>/m/0cp05t9</td>\n",
       "      <td>1957</td>\n",
       "      <td>NaN</td>\n",
       "      <td>NaN</td>\n",
       "      <td>NaN</td>\n",
       "      <td>NaN</td>\n",
       "      <td>NaN</td>\n",
       "      <td>Roberta Paterson</td>\n",
       "      <td>NaN</td>\n",
       "      <td>/m/0g8ngmj</td>\n",
       "      <td>NaN</td>\n",
       "      <td>/m/0g8ngmm</td>\n",
       "    </tr>\n",
       "    <tr>\n",
       "      <th>450668</th>\n",
       "      <td>28308153</td>\n",
       "      <td>/m/0cp05t9</td>\n",
       "      <td>1957</td>\n",
       "      <td>NaN</td>\n",
       "      <td>NaN</td>\n",
       "      <td>NaN</td>\n",
       "      <td>NaN</td>\n",
       "      <td>NaN</td>\n",
       "      <td>John Rogers</td>\n",
       "      <td>NaN</td>\n",
       "      <td>/m/0g8ngmw</td>\n",
       "      <td>NaN</td>\n",
       "      <td>/m/0btz19d</td>\n",
       "    </tr>\n",
       "  </tbody>\n",
       "</table>\n",
       "<p>450669 rows × 13 columns</p>\n",
       "</div>"
      ],
      "text/plain": [
       "        Wikipedia_ID Freebase_ID Release_date              Character_name  \\\n",
       "0             975900   /m/03vyhn   2001-08-24                    Akooshay   \n",
       "1             975900   /m/03vyhn   2001-08-24  Lieutenant Melanie Ballard   \n",
       "2             975900   /m/03vyhn   2001-08-24         Desolation Williams   \n",
       "3             975900   /m/03vyhn   2001-08-24          Sgt Jericho Butler   \n",
       "4             975900   /m/03vyhn   2001-08-24             Bashira Kincaid   \n",
       "...              ...         ...          ...                         ...   \n",
       "450664        913762   /m/03pcrp   1992-05-21                      Elensh   \n",
       "450665        913762   /m/03pcrp   1992-05-21                      Hibiki   \n",
       "450666      28308153  /m/0cp05t9         1957                         NaN   \n",
       "450667      28308153  /m/0cp05t9         1957                         NaN   \n",
       "450668      28308153  /m/0cp05t9         1957                         NaN   \n",
       "\n",
       "       Actor_date_of_birth Gender  Height   Ethnicity          Actor_name  \\\n",
       "0               1958-08-26      F   1.620         NaN      Wanda De Jesus   \n",
       "1               1974-08-15      F   1.780  /m/044038p  Natasha Henstridge   \n",
       "2               1969-06-15      M   1.727     /m/0x67            Ice Cube   \n",
       "3               1967-09-12      M   1.750         NaN       Jason Statham   \n",
       "4               1977-09-25      F   1.650         NaN         Clea DuVall   \n",
       "...                    ...    ...     ...         ...                 ...   \n",
       "450664             1970-05      F     NaN         NaN  Dorothy Elias-Fahn   \n",
       "450665          1965-04-12      M     NaN         NaN       Jonathan Fahn   \n",
       "450666          1941-11-18      M   1.730   /m/02w7gg      David Hemmings   \n",
       "450667                 NaN    NaN     NaN         NaN    Roberta Paterson   \n",
       "450668                 NaN    NaN     NaN         NaN         John Rogers   \n",
       "\n",
       "         Age Freebase_character/actor_map_ID Freebase_character_ID  \\\n",
       "0       42.0                      /m/0bgchxw            /m/0bgcj3x   \n",
       "1       27.0                       /m/0jys3m            /m/0bgchn4   \n",
       "2       32.0                       /m/0jys3g            /m/0bgchn_   \n",
       "3       33.0                      /m/02vchl6            /m/0bgchnq   \n",
       "4       23.0                      /m/02vbb3r            /m/0bgchp9   \n",
       "...      ...                             ...                   ...   \n",
       "450664   NaN                      /m/0kr406c            /m/0kr406h   \n",
       "450665  27.0                      /m/0kr405_            /m/0kr4090   \n",
       "450666  15.0                      /m/0g8ngmc                   NaN   \n",
       "450667   NaN                      /m/0g8ngmj                   NaN   \n",
       "450668   NaN                      /m/0g8ngmw                   NaN   \n",
       "\n",
       "       Freebase_actor_ID  \n",
       "0             /m/03wcfv7  \n",
       "1              /m/0346l4  \n",
       "2             /m/01vw26l  \n",
       "3              /m/034hyc  \n",
       "4              /m/01y9xg  \n",
       "...                  ...  \n",
       "450664         /m/0b_vcv  \n",
       "450665         /m/0bx7_j  \n",
       "450666         /m/022g44  \n",
       "450667        /m/0g8ngmm  \n",
       "450668        /m/0btz19d  \n",
       "\n",
       "[450669 rows x 13 columns]"
      ]
     },
     "execution_count": 21,
     "metadata": {},
     "output_type": "execute_result"
    }
   ],
   "source": [
    "dfcharacter "
   ]
  },
  {
   "cell_type": "code",
   "execution_count": 22,
   "id": "b474cd0a-88e6-4803-978f-5aff87470761",
   "metadata": {
    "tags": []
   },
   "outputs": [
    {
     "data": {
      "text/html": [
       "<div>\n",
       "<style scoped>\n",
       "    .dataframe tbody tr th:only-of-type {\n",
       "        vertical-align: middle;\n",
       "    }\n",
       "\n",
       "    .dataframe tbody tr th {\n",
       "        vertical-align: top;\n",
       "    }\n",
       "\n",
       "    .dataframe thead th {\n",
       "        text-align: right;\n",
       "    }\n",
       "</style>\n",
       "<table border=\"1\" class=\"dataframe\">\n",
       "  <thead>\n",
       "    <tr style=\"text-align: right;\">\n",
       "      <th></th>\n",
       "      <th>Wikipedia_ID</th>\n",
       "      <th>Height</th>\n",
       "      <th>Age</th>\n",
       "    </tr>\n",
       "  </thead>\n",
       "  <tbody>\n",
       "    <tr>\n",
       "      <th>count</th>\n",
       "      <td>4.506690e+05</td>\n",
       "      <td>154824.000000</td>\n",
       "      <td>292556.000000</td>\n",
       "    </tr>\n",
       "    <tr>\n",
       "      <th>mean</th>\n",
       "      <td>1.396975e+07</td>\n",
       "      <td>1.788893</td>\n",
       "      <td>37.788523</td>\n",
       "    </tr>\n",
       "    <tr>\n",
       "      <th>std</th>\n",
       "      <td>1.079662e+07</td>\n",
       "      <td>4.379940</td>\n",
       "      <td>20.587870</td>\n",
       "    </tr>\n",
       "    <tr>\n",
       "      <th>min</th>\n",
       "      <td>3.300000e+02</td>\n",
       "      <td>0.610000</td>\n",
       "      <td>-7896.000000</td>\n",
       "    </tr>\n",
       "    <tr>\n",
       "      <th>25%</th>\n",
       "      <td>3.759292e+06</td>\n",
       "      <td>1.676400</td>\n",
       "      <td>28.000000</td>\n",
       "    </tr>\n",
       "    <tr>\n",
       "      <th>50%</th>\n",
       "      <td>1.189065e+07</td>\n",
       "      <td>1.750000</td>\n",
       "      <td>36.000000</td>\n",
       "    </tr>\n",
       "    <tr>\n",
       "      <th>75%</th>\n",
       "      <td>2.366501e+07</td>\n",
       "      <td>1.830000</td>\n",
       "      <td>47.000000</td>\n",
       "    </tr>\n",
       "    <tr>\n",
       "      <th>max</th>\n",
       "      <td>3.750192e+07</td>\n",
       "      <td>510.000000</td>\n",
       "      <td>103.000000</td>\n",
       "    </tr>\n",
       "  </tbody>\n",
       "</table>\n",
       "</div>"
      ],
      "text/plain": [
       "       Wikipedia_ID         Height            Age\n",
       "count  4.506690e+05  154824.000000  292556.000000\n",
       "mean   1.396975e+07       1.788893      37.788523\n",
       "std    1.079662e+07       4.379940      20.587870\n",
       "min    3.300000e+02       0.610000   -7896.000000\n",
       "25%    3.759292e+06       1.676400      28.000000\n",
       "50%    1.189065e+07       1.750000      36.000000\n",
       "75%    2.366501e+07       1.830000      47.000000\n",
       "max    3.750192e+07     510.000000     103.000000"
      ]
     },
     "execution_count": 22,
     "metadata": {},
     "output_type": "execute_result"
    }
   ],
   "source": [
    "dfcharacter.describe()"
   ]
  },
  {
   "cell_type": "markdown",
   "id": "b102041c-a1b7-4157-9a94-87a94b4b347e",
   "metadata": {},
   "source": [
    "#### Height\n",
    "We see that the maximum height is 510 which doesn't make sense. We look at the characters with a height above 2m75 as it is the height of the tallest person registered on the guinness world records."
   ]
  },
  {
   "cell_type": "code",
   "execution_count": 23,
   "id": "7546f5d9-99ff-4853-bc38-34dd3db81430",
   "metadata": {
    "tags": []
   },
   "outputs": [
    {
     "data": {
      "text/html": [
       "<div>\n",
       "<style scoped>\n",
       "    .dataframe tbody tr th:only-of-type {\n",
       "        vertical-align: middle;\n",
       "    }\n",
       "\n",
       "    .dataframe tbody tr th {\n",
       "        vertical-align: top;\n",
       "    }\n",
       "\n",
       "    .dataframe thead th {\n",
       "        text-align: right;\n",
       "    }\n",
       "</style>\n",
       "<table border=\"1\" class=\"dataframe\">\n",
       "  <thead>\n",
       "    <tr style=\"text-align: right;\">\n",
       "      <th></th>\n",
       "      <th>Wikipedia_ID</th>\n",
       "      <th>Freebase_ID</th>\n",
       "      <th>Release_date</th>\n",
       "      <th>Character_name</th>\n",
       "      <th>Actor_date_of_birth</th>\n",
       "      <th>Gender</th>\n",
       "      <th>Height</th>\n",
       "      <th>Ethnicity</th>\n",
       "      <th>Actor_name</th>\n",
       "      <th>Age</th>\n",
       "      <th>Freebase_character/actor_map_ID</th>\n",
       "      <th>Freebase_character_ID</th>\n",
       "      <th>Freebase_actor_ID</th>\n",
       "    </tr>\n",
       "  </thead>\n",
       "  <tbody>\n",
       "    <tr>\n",
       "      <th>21619</th>\n",
       "      <td>1291587</td>\n",
       "      <td>/m/04qk12</td>\n",
       "      <td>2004-09-01</td>\n",
       "      <td>young Georgie</td>\n",
       "      <td>1986-03-13</td>\n",
       "      <td>M</td>\n",
       "      <td>180.0</td>\n",
       "      <td>/m/0dc58y8</td>\n",
       "      <td>Zohren Weiss</td>\n",
       "      <td>18.0</td>\n",
       "      <td>/m/0k276dx</td>\n",
       "      <td>/m/0k276dz</td>\n",
       "      <td>/m/0bggwvl</td>\n",
       "    </tr>\n",
       "    <tr>\n",
       "      <th>49659</th>\n",
       "      <td>30865068</td>\n",
       "      <td>/m/02ml14</td>\n",
       "      <td>1998-10-15</td>\n",
       "      <td>NaN</td>\n",
       "      <td>1972-12-06</td>\n",
       "      <td>M</td>\n",
       "      <td>510.0</td>\n",
       "      <td>NaN</td>\n",
       "      <td>Vince Corazza</td>\n",
       "      <td>25.0</td>\n",
       "      <td>/m/0n9ld0y</td>\n",
       "      <td>NaN</td>\n",
       "      <td>/m/08hqh0</td>\n",
       "    </tr>\n",
       "    <tr>\n",
       "      <th>59719</th>\n",
       "      <td>12206655</td>\n",
       "      <td>/m/02vvw24</td>\n",
       "      <td>NaN</td>\n",
       "      <td>Dominic</td>\n",
       "      <td>1986-03-13</td>\n",
       "      <td>M</td>\n",
       "      <td>180.0</td>\n",
       "      <td>/m/0dc58y8</td>\n",
       "      <td>Zohren Weiss</td>\n",
       "      <td>NaN</td>\n",
       "      <td>/m/0k276dq</td>\n",
       "      <td>/m/0h8hcr1</td>\n",
       "      <td>/m/0bggwvl</td>\n",
       "    </tr>\n",
       "    <tr>\n",
       "      <th>104140</th>\n",
       "      <td>17999628</td>\n",
       "      <td>/m/047n_2q</td>\n",
       "      <td>1998</td>\n",
       "      <td>NaN</td>\n",
       "      <td>1972-12-06</td>\n",
       "      <td>M</td>\n",
       "      <td>510.0</td>\n",
       "      <td>NaN</td>\n",
       "      <td>Vince Corazza</td>\n",
       "      <td>25.0</td>\n",
       "      <td>/m/0cg31bd</td>\n",
       "      <td>NaN</td>\n",
       "      <td>/m/08hqh0</td>\n",
       "    </tr>\n",
       "    <tr>\n",
       "      <th>205679</th>\n",
       "      <td>1373475</td>\n",
       "      <td>/m/04xmx8</td>\n",
       "      <td>2003-08-15</td>\n",
       "      <td>Jackal Johnson</td>\n",
       "      <td>1972-12-06</td>\n",
       "      <td>M</td>\n",
       "      <td>510.0</td>\n",
       "      <td>NaN</td>\n",
       "      <td>Vince Corazza</td>\n",
       "      <td>30.0</td>\n",
       "      <td>/m/02vbm0k</td>\n",
       "      <td>/m/0h60xk7</td>\n",
       "      <td>/m/08hqh0</td>\n",
       "    </tr>\n",
       "    <tr>\n",
       "      <th>219383</th>\n",
       "      <td>179326</td>\n",
       "      <td>/m/018gq3</td>\n",
       "      <td>1996-11-18</td>\n",
       "      <td>Herbert</td>\n",
       "      <td>1986-03-13</td>\n",
       "      <td>M</td>\n",
       "      <td>180.0</td>\n",
       "      <td>/m/0dc58y8</td>\n",
       "      <td>Zohren Weiss</td>\n",
       "      <td>10.0</td>\n",
       "      <td>/m/0bggwv8</td>\n",
       "      <td>/m/0bggwvc</td>\n",
       "      <td>/m/0bggwvl</td>\n",
       "    </tr>\n",
       "    <tr>\n",
       "      <th>301653</th>\n",
       "      <td>4667507</td>\n",
       "      <td>/m/0cg9n6</td>\n",
       "      <td>2001-11-29</td>\n",
       "      <td>NaN</td>\n",
       "      <td>1972-12-06</td>\n",
       "      <td>M</td>\n",
       "      <td>510.0</td>\n",
       "      <td>NaN</td>\n",
       "      <td>Vince Corazza</td>\n",
       "      <td>28.0</td>\n",
       "      <td>/m/0cg0zwp</td>\n",
       "      <td>NaN</td>\n",
       "      <td>/m/08hqh0</td>\n",
       "    </tr>\n",
       "    <tr>\n",
       "      <th>316621</th>\n",
       "      <td>3915041</td>\n",
       "      <td>/m/0b6lyp</td>\n",
       "      <td>2002</td>\n",
       "      <td>NaN</td>\n",
       "      <td>1972-12-06</td>\n",
       "      <td>M</td>\n",
       "      <td>510.0</td>\n",
       "      <td>NaN</td>\n",
       "      <td>Vince Corazza</td>\n",
       "      <td>29.0</td>\n",
       "      <td>/m/02vc5p5</td>\n",
       "      <td>NaN</td>\n",
       "      <td>/m/08hqh0</td>\n",
       "    </tr>\n",
       "    <tr>\n",
       "      <th>341890</th>\n",
       "      <td>29290087</td>\n",
       "      <td>/m/0b3w9mr</td>\n",
       "      <td>1997-04-07</td>\n",
       "      <td>NaN</td>\n",
       "      <td>1972-12-06</td>\n",
       "      <td>M</td>\n",
       "      <td>510.0</td>\n",
       "      <td>NaN</td>\n",
       "      <td>Vince Corazza</td>\n",
       "      <td>24.0</td>\n",
       "      <td>/m/0gvwy8x</td>\n",
       "      <td>NaN</td>\n",
       "      <td>/m/08hqh0</td>\n",
       "    </tr>\n",
       "    <tr>\n",
       "      <th>360967</th>\n",
       "      <td>14413223</td>\n",
       "      <td>/m/03d2rnl</td>\n",
       "      <td>2012-04-20</td>\n",
       "      <td>Young Punk Guy</td>\n",
       "      <td>1986-03-13</td>\n",
       "      <td>M</td>\n",
       "      <td>180.0</td>\n",
       "      <td>/m/0dc58y8</td>\n",
       "      <td>Zohren Weiss</td>\n",
       "      <td>26.0</td>\n",
       "      <td>/m/0m4q87d</td>\n",
       "      <td>/m/0k9tfs8</td>\n",
       "      <td>/m/0bggwvl</td>\n",
       "    </tr>\n",
       "    <tr>\n",
       "      <th>369731</th>\n",
       "      <td>33945838</td>\n",
       "      <td>/m/0hn8wrq</td>\n",
       "      <td>2012-09-29</td>\n",
       "      <td>Max Loflin</td>\n",
       "      <td>NaN</td>\n",
       "      <td>M</td>\n",
       "      <td>510.0</td>\n",
       "      <td>NaN</td>\n",
       "      <td>Benedict Smith</td>\n",
       "      <td>NaN</td>\n",
       "      <td>/m/0n3kptl</td>\n",
       "      <td>/m/0n3kptp</td>\n",
       "      <td>/m/0n3kptx</td>\n",
       "    </tr>\n",
       "    <tr>\n",
       "      <th>380739</th>\n",
       "      <td>4738411</td>\n",
       "      <td>/m/0ckr7s</td>\n",
       "      <td>1993-12-05</td>\n",
       "      <td>Darien - Tuxedo Mask</td>\n",
       "      <td>1972-12-06</td>\n",
       "      <td>M</td>\n",
       "      <td>510.0</td>\n",
       "      <td>NaN</td>\n",
       "      <td>Vince Corazza</td>\n",
       "      <td>20.0</td>\n",
       "      <td>/m/0bmz820</td>\n",
       "      <td>/m/0lyzygr</td>\n",
       "      <td>/m/08hqh0</td>\n",
       "    </tr>\n",
       "    <tr>\n",
       "      <th>393292</th>\n",
       "      <td>1244822</td>\n",
       "      <td>/m/04lq2l</td>\n",
       "      <td>2003-01-23</td>\n",
       "      <td>NaN</td>\n",
       "      <td>1972-12-06</td>\n",
       "      <td>M</td>\n",
       "      <td>510.0</td>\n",
       "      <td>NaN</td>\n",
       "      <td>Vince Corazza</td>\n",
       "      <td>30.0</td>\n",
       "      <td>/m/0bfm1b6</td>\n",
       "      <td>NaN</td>\n",
       "      <td>/m/08hqh0</td>\n",
       "    </tr>\n",
       "    <tr>\n",
       "      <th>406151</th>\n",
       "      <td>4578386</td>\n",
       "      <td>/m/0c9sj8</td>\n",
       "      <td>2004-04-06</td>\n",
       "      <td>NaN</td>\n",
       "      <td>1972-12-06</td>\n",
       "      <td>M</td>\n",
       "      <td>510.0</td>\n",
       "      <td>NaN</td>\n",
       "      <td>Vince Corazza</td>\n",
       "      <td>31.0</td>\n",
       "      <td>/m/03lj_70</td>\n",
       "      <td>NaN</td>\n",
       "      <td>/m/08hqh0</td>\n",
       "    </tr>\n",
       "    <tr>\n",
       "      <th>427957</th>\n",
       "      <td>4738587</td>\n",
       "      <td>/m/0ckrgs</td>\n",
       "      <td>1994-12-04</td>\n",
       "      <td>Tuxedo Mask</td>\n",
       "      <td>1972-12-06</td>\n",
       "      <td>M</td>\n",
       "      <td>510.0</td>\n",
       "      <td>NaN</td>\n",
       "      <td>Vince Corazza</td>\n",
       "      <td>21.0</td>\n",
       "      <td>/m/0lyz8r1</td>\n",
       "      <td>/m/01_7kc</td>\n",
       "      <td>/m/08hqh0</td>\n",
       "    </tr>\n",
       "  </tbody>\n",
       "</table>\n",
       "</div>"
      ],
      "text/plain": [
       "        Wikipedia_ID Freebase_ID Release_date        Character_name  \\\n",
       "21619        1291587   /m/04qk12   2004-09-01         young Georgie   \n",
       "49659       30865068   /m/02ml14   1998-10-15                   NaN   \n",
       "59719       12206655  /m/02vvw24          NaN               Dominic   \n",
       "104140      17999628  /m/047n_2q         1998                   NaN   \n",
       "205679       1373475   /m/04xmx8   2003-08-15        Jackal Johnson   \n",
       "219383        179326   /m/018gq3   1996-11-18               Herbert   \n",
       "301653       4667507   /m/0cg9n6   2001-11-29                   NaN   \n",
       "316621       3915041   /m/0b6lyp         2002                   NaN   \n",
       "341890      29290087  /m/0b3w9mr   1997-04-07                   NaN   \n",
       "360967      14413223  /m/03d2rnl   2012-04-20        Young Punk Guy   \n",
       "369731      33945838  /m/0hn8wrq   2012-09-29            Max Loflin   \n",
       "380739       4738411   /m/0ckr7s   1993-12-05  Darien - Tuxedo Mask   \n",
       "393292       1244822   /m/04lq2l   2003-01-23                   NaN   \n",
       "406151       4578386   /m/0c9sj8   2004-04-06                   NaN   \n",
       "427957       4738587   /m/0ckrgs   1994-12-04           Tuxedo Mask   \n",
       "\n",
       "       Actor_date_of_birth Gender  Height   Ethnicity      Actor_name   Age  \\\n",
       "21619           1986-03-13      M   180.0  /m/0dc58y8    Zohren Weiss  18.0   \n",
       "49659           1972-12-06      M   510.0         NaN   Vince Corazza  25.0   \n",
       "59719           1986-03-13      M   180.0  /m/0dc58y8    Zohren Weiss   NaN   \n",
       "104140          1972-12-06      M   510.0         NaN   Vince Corazza  25.0   \n",
       "205679          1972-12-06      M   510.0         NaN   Vince Corazza  30.0   \n",
       "219383          1986-03-13      M   180.0  /m/0dc58y8    Zohren Weiss  10.0   \n",
       "301653          1972-12-06      M   510.0         NaN   Vince Corazza  28.0   \n",
       "316621          1972-12-06      M   510.0         NaN   Vince Corazza  29.0   \n",
       "341890          1972-12-06      M   510.0         NaN   Vince Corazza  24.0   \n",
       "360967          1986-03-13      M   180.0  /m/0dc58y8    Zohren Weiss  26.0   \n",
       "369731                 NaN      M   510.0         NaN  Benedict Smith   NaN   \n",
       "380739          1972-12-06      M   510.0         NaN   Vince Corazza  20.0   \n",
       "393292          1972-12-06      M   510.0         NaN   Vince Corazza  30.0   \n",
       "406151          1972-12-06      M   510.0         NaN   Vince Corazza  31.0   \n",
       "427957          1972-12-06      M   510.0         NaN   Vince Corazza  21.0   \n",
       "\n",
       "       Freebase_character/actor_map_ID Freebase_character_ID Freebase_actor_ID  \n",
       "21619                       /m/0k276dx            /m/0k276dz        /m/0bggwvl  \n",
       "49659                       /m/0n9ld0y                   NaN         /m/08hqh0  \n",
       "59719                       /m/0k276dq            /m/0h8hcr1        /m/0bggwvl  \n",
       "104140                      /m/0cg31bd                   NaN         /m/08hqh0  \n",
       "205679                      /m/02vbm0k            /m/0h60xk7         /m/08hqh0  \n",
       "219383                      /m/0bggwv8            /m/0bggwvc        /m/0bggwvl  \n",
       "301653                      /m/0cg0zwp                   NaN         /m/08hqh0  \n",
       "316621                      /m/02vc5p5                   NaN         /m/08hqh0  \n",
       "341890                      /m/0gvwy8x                   NaN         /m/08hqh0  \n",
       "360967                      /m/0m4q87d            /m/0k9tfs8        /m/0bggwvl  \n",
       "369731                      /m/0n3kptl            /m/0n3kptp        /m/0n3kptx  \n",
       "380739                      /m/0bmz820            /m/0lyzygr         /m/08hqh0  \n",
       "393292                      /m/0bfm1b6                   NaN         /m/08hqh0  \n",
       "406151                      /m/03lj_70                   NaN         /m/08hqh0  \n",
       "427957                      /m/0lyz8r1             /m/01_7kc         /m/08hqh0  "
      ]
     },
     "metadata": {},
     "output_type": "display_data"
    }
   ],
   "source": [
    "display(dfcharacter[dfcharacter.Height>2.75])"
   ]
  },
  {
   "cell_type": "markdown",
   "id": "fed7a265-6ed1-45c3-960d-7c986cd6bcb8",
   "metadata": {},
   "source": [
    "We notice that most values for height are in meters and somes are in centimeters and some are of 510. However there are only 15 outliers above 2.75 which are mostly the same actors. We considered changing Zohren Weiss height to 1m80 but as we don't find on internet there true height to check if it was this we are just going to remove it. Moreover we probably won't use Height so we just change the values to Nan."
   ]
  },
  {
   "cell_type": "code",
   "execution_count": 24,
   "id": "ab491f1f-2ec3-486c-913e-0b7396338a5e",
   "metadata": {
    "tags": []
   },
   "outputs": [
    {
     "data": {
      "text/plain": [
       "count    154809.000000\n",
       "mean          1.748177\n",
       "std           0.106249\n",
       "min           0.610000\n",
       "25%           1.676400\n",
       "50%           1.750000\n",
       "75%           1.830000\n",
       "max           2.356000\n",
       "Name: Height, dtype: float64"
      ]
     },
     "execution_count": 24,
     "metadata": {},
     "output_type": "execute_result"
    }
   ],
   "source": [
    "dfcharacter.loc[:,[\"Height\"]] = dfcharacter.loc[:,[\"Height\"]].mask(dfcharacter[\"Height\"] >2.75)\n",
    "dfcharacter.Height.describe()"
   ]
  },
  {
   "cell_type": "markdown",
   "id": "63d2d60d-4b1a-4311-9d90-01acc8adef70",
   "metadata": {},
   "source": [
    "#### Age "
   ]
  },
  {
   "cell_type": "markdown",
   "id": "0930ac9e-8943-4a84-9217-813fdeebcae6",
   "metadata": {},
   "source": [
    "We notice negative age which doesn't make sense. When we check on the imbd it correspond to error in the birth date entry thus we transform the age and the birth date to Nan when negative values are found."
   ]
  },
  {
   "cell_type": "code",
   "execution_count": 25,
   "id": "296a9d9f-c1d1-49d2-a55a-115f46375b87",
   "metadata": {
    "tags": []
   },
   "outputs": [
    {
     "data": {
      "text/plain": [
       "count    292175.000000\n",
       "mean         37.890901\n",
       "std          14.085909\n",
       "min           0.000000\n",
       "25%          28.000000\n",
       "50%          36.000000\n",
       "75%          47.000000\n",
       "max         103.000000\n",
       "Name: Age, dtype: float64"
      ]
     },
     "execution_count": 25,
     "metadata": {},
     "output_type": "execute_result"
    }
   ],
   "source": [
    "dfcharacter.loc[:,[\"Age\",\"Actor_date_of_birth\"]] = dfcharacter.loc[:,[\"Age\",\"Actor_date_of_birth\"]].mask(dfcharacter[\"Age\"] <0)\n",
    "dfcharacter.Age.describe()"
   ]
  },
  {
   "cell_type": "markdown",
   "id": "9aef2a0d-4f81-49af-8812-84eb5b869f71",
   "metadata": {},
   "source": [
    "The minimum age is now at 0 which corresponds to baby born this year so we are happy. Let's now groupby gender to check whether there are differences between the genders in the data that can be cofounders in our analysis."
   ]
  },
  {
   "cell_type": "markdown",
   "id": "9c7d8cd6-89de-4a6a-a049-326ea74b6bf0",
   "metadata": {},
   "source": [
    "#### Difference between genders"
   ]
  },
  {
   "cell_type": "code",
   "execution_count": 26,
   "id": "d3228f34-28d9-4f69-89cc-87315143a241",
   "metadata": {
    "tags": []
   },
   "outputs": [
    {
     "data": {
      "text/html": [
       "<div>\n",
       "<style scoped>\n",
       "    .dataframe tbody tr th:only-of-type {\n",
       "        vertical-align: middle;\n",
       "    }\n",
       "\n",
       "    .dataframe tbody tr th {\n",
       "        vertical-align: top;\n",
       "    }\n",
       "\n",
       "    .dataframe thead th {\n",
       "        text-align: right;\n",
       "    }\n",
       "</style>\n",
       "<table border=\"1\" class=\"dataframe\">\n",
       "  <thead>\n",
       "    <tr style=\"text-align: right;\">\n",
       "      <th></th>\n",
       "      <th>count</th>\n",
       "      <th>mean</th>\n",
       "      <th>std</th>\n",
       "      <th>min</th>\n",
       "      <th>25%</th>\n",
       "      <th>50%</th>\n",
       "      <th>75%</th>\n",
       "      <th>max</th>\n",
       "    </tr>\n",
       "    <tr>\n",
       "      <th>Gender</th>\n",
       "      <th></th>\n",
       "      <th></th>\n",
       "      <th></th>\n",
       "      <th></th>\n",
       "      <th></th>\n",
       "      <th></th>\n",
       "      <th></th>\n",
       "      <th></th>\n",
       "    </tr>\n",
       "  </thead>\n",
       "  <tbody>\n",
       "    <tr>\n",
       "      <th>F</th>\n",
       "      <td>99124.0</td>\n",
       "      <td>32.956055</td>\n",
       "      <td>13.376106</td>\n",
       "      <td>0.0</td>\n",
       "      <td>24.0</td>\n",
       "      <td>30.0</td>\n",
       "      <td>40.0</td>\n",
       "      <td>99.0</td>\n",
       "    </tr>\n",
       "    <tr>\n",
       "      <th>M</th>\n",
       "      <td>191277.0</td>\n",
       "      <td>40.469717</td>\n",
       "      <td>13.749781</td>\n",
       "      <td>0.0</td>\n",
       "      <td>31.0</td>\n",
       "      <td>39.0</td>\n",
       "      <td>49.0</td>\n",
       "      <td>103.0</td>\n",
       "    </tr>\n",
       "  </tbody>\n",
       "</table>\n",
       "</div>"
      ],
      "text/plain": [
       "           count       mean        std  min   25%   50%   75%    max\n",
       "Gender                                                              \n",
       "F        99124.0  32.956055  13.376106  0.0  24.0  30.0  40.0   99.0\n",
       "M       191277.0  40.469717  13.749781  0.0  31.0  39.0  49.0  103.0"
      ]
     },
     "execution_count": 26,
     "metadata": {},
     "output_type": "execute_result"
    }
   ],
   "source": [
    "Grouped_gender = dfcharacter.groupby(\"Gender\")\n",
    "Grouped_gender.Age.describe()"
   ]
  },
  {
   "cell_type": "code",
   "execution_count": 27,
   "id": "91b3ed57-1de3-42fe-8c37-d07085291c7d",
   "metadata": {
    "tags": []
   },
   "outputs": [
    {
     "data": {
      "text/plain": [
       "Text(0, 0.5, 'Age in years')"
      ]
     },
     "execution_count": 27,
     "metadata": {},
     "output_type": "execute_result"
    },
    {
     "data": {
      "image/png": "[encoded data removed]",
      "text/plain": [
       "<Figure size 640x480 with 1 Axes>"
      ]
     },
     "metadata": {},
     "output_type": "display_data"
    }
   ],
   "source": [
    "sns.boxplot(data =dfcharacter, x = \"Gender\", y = \"Age\" )\n",
    "plt.title(\"Actors age\")\n",
    "plt.ylabel(\"Age in years\")"
   ]
  },
  {
   "cell_type": "markdown",
   "id": "7195717d-42e5-4766-b23e-e66f8d139ae0",
   "metadata": {},
   "source": [
    "We observe a difference between male and female age let's see if it's statistically significant."
   ]
  },
  {
   "cell_type": "code",
   "execution_count": 28,
   "id": "27075ffd-c16b-40e8-a5a9-6b709bd0d5bc",
   "metadata": {
    "tags": []
   },
   "outputs": [
    {
     "data": {
      "text/plain": [
       "TtestResult(statistic=140.92509242040052, pvalue=0.0, df=290399.0)"
      ]
     },
     "execution_count": 28,
     "metadata": {},
     "output_type": "execute_result"
    }
   ],
   "source": [
    "ttest_ind( dfcharacter.loc[dfcharacter['Gender'] == \"M\", 'Age'].dropna(),dfcharacter.loc[dfcharacter['Gender'] == \"F\", 'Age'].dropna())"
   ]
  },
  {
   "cell_type": "markdown",
   "id": "4a8d3238-cb58-4e3e-8c8e-c96802c4a7b8",
   "metadata": {},
   "source": [
    "The p-value is lower than 0.05 thus we can reject the null hypothesis that the two distributions have the same mean. The statistics is positive thus we can say than in average man actors are older than women. This is a well known fact but it is always interesting to observe that women actress are in average younger than man actors. Moreover we need to keep this information in mind when we analyze the adjectives as women are younger than men in average because younger people can be described with different adjectives than older people."
   ]
  },
  {
   "cell_type": "markdown",
   "id": "df2e1819-bc0f-4722-8b5f-fb6e16cc6181",
   "metadata": {
    "tags": []
   },
   "source": [
    "## 4) Describing Summaries and Movie Metadata"
   ]
  },
  {
   "cell_type": "code",
   "execution_count": 29,
   "id": "d6a0e96d-bd7f-4c51-9f0b-de2b69847281",
   "metadata": {
    "tags": []
   },
   "outputs": [],
   "source": [
    "movie_merged = dfmetadata.merge(dfsummaries,how ='outer')\n",
    "movie_merged[\"summary_presence\"] = (~movie_merged[\"Summary\"].isna()).astype(int)"
   ]
  },
  {
   "cell_type": "markdown",
   "id": "e6bac11f-b715-420a-adee-49d1fdd41ce1",
   "metadata": {},
   "source": [
    "Let's see if the dataset with summaries is representative of the actual movie dataset."
   ]
  },
  {
   "cell_type": "code",
   "execution_count": 30,
   "id": "660bd9ae-f5c1-435a-b1ec-6211e04594df",
   "metadata": {
    "tags": []
   },
   "outputs": [
    {
     "data": {
      "text/plain": [
       "Text(0.5, 0, 'Presence of summary')"
      ]
     },
     "execution_count": 30,
     "metadata": {},
     "output_type": "execute_result"
    },
    {
     "data": {
      "image/png": "[encoded data removed]",
      "text/plain": [
       "<Figure size 640x480 with 1 Axes>"
      ]
     },
     "metadata": {},
     "output_type": "display_data"
    }
   ],
   "source": [
    "sns.boxplot(data =movie_merged, x = \"summary_presence\", y = \"runtime\" )\n",
    "plt.title(\"Runtime of movies\")\n",
    "plt.ylabel(\"Runtime in minutes\")\n",
    "plt.xlabel(\"Presence of summary\")"
   ]
  },
  {
   "cell_type": "markdown",
   "id": "f1b19d9d-cd72-4976-b4cc-1c8374a85800",
   "metadata": {},
   "source": [
    "We notice that there are very short movies. Let's see if the runtime of a movie as an influence on the summary length to be sure the model doesn't train to much short movies that aren't necessarely representative of the watched movies by the public."
   ]
  },
  {
   "cell_type": "code",
   "execution_count": 31,
   "id": "b89ed9ff-48c9-431f-a3ea-2c67581e202e",
   "metadata": {
    "tags": []
   },
   "outputs": [
    {
     "data": {
      "text/plain": [
       "35563"
      ]
     },
     "execution_count": 31,
     "metadata": {},
     "output_type": "execute_result"
    }
   ],
   "source": [
    "runtime_and_summary_length = movie_merged[(~movie_merged['Summary_Length'].isna()) & (~movie_merged['runtime'].isna())]\n",
    "len(runtime_and_summary_length)"
   ]
  },
  {
   "cell_type": "code",
   "execution_count": 32,
   "id": "aff8047d-b063-494b-be33-26b70b707f80",
   "metadata": {
    "tags": []
   },
   "outputs": [
    {
     "name": "stderr",
     "output_type": "stream",
     "text": [
      "D:\\Anaconda3\\envs\\ada\\lib\\site-packages\\seaborn\\axisgrid.py:118: UserWarning: The figure layout has changed to tight\n",
      "  self._figure.tight_layout(*args, **kwargs)\n"
     ]
    },
    {
     "data": {
      "text/plain": [
       "Text(0.5, 1.0, 'Runtime in function of summary length')"
      ]
     },
     "execution_count": 32,
     "metadata": {},
     "output_type": "execute_result"
    },
    {
     "data": {
      "image/png": "[encoded data removed]",
      "text/plain": [
       "<Figure size 500x500 with 1 Axes>"
      ]
     },
     "metadata": {},
     "output_type": "display_data"
    }
   ],
   "source": [
    "sns.lmplot(data = runtime_and_summary_length, x= \"Summary_Length\", y = \"runtime\")\n",
    "plt.title(\"Runtime in function of summary length\")"
   ]
  },
  {
   "cell_type": "code",
   "execution_count": 33,
   "id": "8638d632-4f6e-4115-a247-8a724cf606da",
   "metadata": {
    "tags": []
   },
   "outputs": [
    {
     "name": "stderr",
     "output_type": "stream",
     "text": [
      "D:\\Anaconda3\\envs\\ada\\lib\\site-packages\\seaborn\\axisgrid.py:118: UserWarning: The figure layout has changed to tight\n",
      "  self._figure.tight_layout(*args, **kwargs)\n"
     ]
    },
    {
     "data": {
      "text/plain": [
       "Text(0.5, 1.0, 'Runtime in function of summary length')"
      ]
     },
     "execution_count": 33,
     "metadata": {},
     "output_type": "execute_result"
    },
    {
     "data": {
      "image/png": "[encoded data removed]",
      "text/plain": [
       "<Figure size 500x500 with 1 Axes>"
      ]
     },
     "metadata": {},
     "output_type": "display_data"
    }
   ],
   "source": [
    "sns.lmplot(data = runtime_and_summary_length, x= \"Summary_Length\", y = \"runtime\")\n",
    "plt.yscale(\"log\") \n",
    "plt.ylabel(\"Runtime in minutes (log scale)\")\n",
    "plt.title(\"Runtime in function of summary length\")"
   ]
  },
  {
   "cell_type": "code",
   "execution_count": 34,
   "id": "1f19e054-55e6-4c1b-8c53-e613783af697",
   "metadata": {
    "tags": []
   },
   "outputs": [
    {
     "name": "stdout",
     "output_type": "stream",
     "text": [
      "PearsonRResult(statistic=0.16021729056699072, pvalue=4.101751708932357e-203)\n"
     ]
    }
   ],
   "source": [
    "print(stats.pearsonr(runtime_and_summary_length['Summary_Length'],runtime_and_summary_length['runtime']))"
   ]
  },
  {
   "cell_type": "markdown",
   "id": "b092df88-2296-49fa-b59f-2f6833459753",
   "metadata": {},
   "source": [
    " When we look at the pearson correlation we observe a small positive correlation which is what was expected. The runtime actually has an effect on the summary length.The longest movies have longer summaries and thus bigger impact on our model which is normal.\n",
    "The runtime anyway is not statiscally different between movies containing a summary and movies that don't thus the dataset with summaries is representative of the total dataset in runtime period. "
   ]
  },
  {
   "cell_type": "code",
   "execution_count": 35,
   "id": "2da33a9f-7122-4751-8120-26422ddc947e",
   "metadata": {
    "tags": []
   },
   "outputs": [
    {
     "data": {
      "text/plain": [
       "TtestResult(statistic=38.6787260170193, pvalue=0.0, df=61256.0)"
      ]
     },
     "execution_count": 35,
     "metadata": {},
     "output_type": "execute_result"
    }
   ],
   "source": [
    "ttest_ind(movie_merged.loc[movie_merged['summary_presence'] == 1, 'runtime'].dropna(),movie_merged.loc[movie_merged['summary_presence'] == 0, 'runtime'].dropna())\n"
   ]
  },
  {
   "cell_type": "markdown",
   "id": "ccb35ba4-9a60-45ac-9021-5ed9f188df51",
   "metadata": {},
   "source": [
    "The p-value is lower than 0.5 thus we can exclude the null hypothesis that the movie with a summary and the movies without follow the same distribution for runtime. The statistic is positive meaning the movies which contains a summary have a longer runtime which is expected. However the dataset with summaries is thus not representative of the general dataset for runtime. As we consider longer film to be more watched we won't try to adapt the data but must keep this in mind. "
   ]
  },
  {
   "cell_type": "markdown",
   "id": "496fb6a2-4d12-4652-9777-f97b3738d871",
   "metadata": {
    "tags": []
   },
   "source": [
    "#### Box office revenue analysis"
   ]
  },
  {
   "cell_type": "markdown",
   "id": "b89c0dd4-ab51-47ba-87c5-d180e6fb0425",
   "metadata": {},
   "source": [
    "Let's look if the movies with summary are representative of the movies the most watched. By looking at the box office revenue.\n",
    "The longer the summary the more the training will be done on it. Thus we want to check if longers summaries are more watched."
   ]
  },
  {
   "cell_type": "code",
   "execution_count": 37,
   "id": "b15d6792-422b-4a9c-b65d-9373a4e818af",
   "metadata": {
    "tags": []
   },
   "outputs": [
    {
     "data": {
      "text/plain": [
       "Text(0.5, 0, 'Presence of summary')"
      ]
     },
     "execution_count": 37,
     "metadata": {},
     "output_type": "execute_result"
    },
    {
     "data": {
      "image/png": "[encoded data removed]",
      "text/plain": [
       "<Figure size 640x480 with 1 Axes>"
      ]
     },
     "metadata": {},
     "output_type": "display_data"
    }
   ],
   "source": [
    "sns.boxplot(data =movie_merged, x = \"summary_presence\", y = \"box_office_revenue\" )\n",
    "plt.title(\"Box office revenue in function of summary presence\")\n",
    "plt.ylabel(\"Box office revenue\")\n",
    "plt.xlabel(\"Presence of summary\")"
   ]
  },
  {
   "cell_type": "markdown",
   "id": "31b66c3d-c5e0-47ee-a74a-40996aa8e5cd",
   "metadata": {},
   "source": [
    "We notice that there are much more movies when summaries are in the dataset. Furthermore the the box office revenue is mainly higher for movies with a summary. Let's see if it's statistically significant."
   ]
  },
  {
   "cell_type": "code",
   "execution_count": 38,
   "id": "0de49fea-ef65-4099-9cbc-b3b81ccaf638",
   "metadata": {
    "tags": []
   },
   "outputs": [
    {
     "data": {
      "text/plain": [
       "TtestResult(statistic=9.444435849095447, pvalue=4.544470664944394e-21, df=8398.0)"
      ]
     },
     "execution_count": 38,
     "metadata": {},
     "output_type": "execute_result"
    }
   ],
   "source": [
    "ttest_ind(movie_merged.loc[movie_merged['summary_presence'] == 1, 'box_office_revenue'].dropna(),movie_merged.loc[movie_merged['summary_presence'] == 0, 'box_office_revenue'].dropna())"
   ]
  },
  {
   "cell_type": "markdown",
   "id": "0111f7e0-0936-4471-ae8d-1a1397b882fc",
   "metadata": {},
   "source": [
    "The p-value is lower than 0.5 thus we can exclude the null hypothesis that the movie with a summary and the movies without follow the same distribution for box-office revenue. The movie with a summary have in average bigger box-office which is great news because it means they are more watched"
   ]
  },
  {
   "cell_type": "code",
   "execution_count": 39,
   "id": "0def877f-920e-4162-98fe-ae5d22671ea1",
   "metadata": {
    "tags": []
   },
   "outputs": [
    {
     "name": "stdout",
     "output_type": "stream",
     "text": [
      "There are 7586 movies which contain values for the summary and the box office revenue\n"
     ]
    }
   ],
   "source": [
    "box_office_and_summary_length = movie_merged[(~movie_merged['Summary_Length'].isna()) & (~movie_merged['box_office_revenue'].isna())]\n",
    "print(f'There are {len(box_office_and_summary_length)} movies which contain values for the summary and the box office revenue')\n",
    "                    "
   ]
  },
  {
   "cell_type": "code",
   "execution_count": 40,
   "id": "55fe4a25-72f6-4295-9e19-38b2027306ca",
   "metadata": {
    "tags": []
   },
   "outputs": [
    {
     "name": "stderr",
     "output_type": "stream",
     "text": [
      "D:\\Anaconda3\\envs\\ada\\lib\\site-packages\\seaborn\\axisgrid.py:118: UserWarning: The figure layout has changed to tight\n",
      "  self._figure.tight_layout(*args, **kwargs)\n"
     ]
    },
    {
     "data": {
      "text/plain": [
       "Text(0.5, 29.140624999999986, 'Summary length in characters')"
      ]
     },
     "execution_count": 40,
     "metadata": {},
     "output_type": "execute_result"
    },
    {
     "data": {
      "image/png": "[encoded data removed]",
      "text/plain": [
       "<Figure size 500x500 with 1 Axes>"
      ]
     },
     "metadata": {},
     "output_type": "display_data"
    }
   ],
   "source": [
    "sns.lmplot(data = box_office_and_summary_length, x= \"Summary_Length\", y = \"box_office_revenue\")\n",
    "plt.title(\"Box office revenue in function of summary length\")\n",
    "plt.ylabel(\"Box office revenue\")\n",
    "plt.xlabel(\"Summary length in characters\")"
   ]
  },
  {
   "cell_type": "markdown",
   "id": "6f90de49-12e0-41c2-877a-f36b624d54fb",
   "metadata": {},
   "source": [
    "There are some very big values for box office we can use log scale to have a better visualisation of the data for smaller box office."
   ]
  },
  {
   "cell_type": "code",
   "execution_count": 41,
   "id": "bd880e6d-8e9b-47fb-8cc5-f5315c863efe",
   "metadata": {
    "tags": []
   },
   "outputs": [
    {
     "name": "stderr",
     "output_type": "stream",
     "text": [
      "D:\\Anaconda3\\envs\\ada\\lib\\site-packages\\seaborn\\axisgrid.py:118: UserWarning: The figure layout has changed to tight\n",
      "  self._figure.tight_layout(*args, **kwargs)\n"
     ]
    },
    {
     "data": {
      "text/plain": [
       "Text(0.5, 29.140624999999986, 'Summary length in characters')"
      ]
     },
     "execution_count": 41,
     "metadata": {},
     "output_type": "execute_result"
    },
    {
     "data": {
      "image/png": "[encoded data removed]",
      "text/plain": [
       "<Figure size 500x500 with 1 Axes>"
      ]
     },
     "metadata": {},
     "output_type": "display_data"
    }
   ],
   "source": [
    "sns.lmplot(data = box_office_and_summary_length, x= \"Summary_Length\", y = \"box_office_revenue\")\n",
    "plt.yscale(\"log\") \n",
    "plt.title(\"Box office revenue in function of summary length\")\n",
    "plt.ylabel(\"Box office revenue (log scale)\")\n",
    "plt.xlabel(\"Summary length in characters\")"
   ]
  },
  {
   "cell_type": "code",
   "execution_count": 42,
   "id": "fd112437-ee71-46ca-9db6-4855ce82f699",
   "metadata": {
    "tags": []
   },
   "outputs": [
    {
     "name": "stdout",
     "output_type": "stream",
     "text": [
      "PearsonRResult(statistic=0.25136571070242975, pvalue=1.1821237120673286e-109)\n"
     ]
    }
   ],
   "source": [
    "print(stats.pearsonr(box_office_and_summary_length['Summary_Length'],box_office_and_summary_length['box_office_revenue']))"
   ]
  },
  {
   "cell_type": "markdown",
   "id": "0b27c992-9519-4f2a-a484-3287bff7abe5",
   "metadata": {},
   "source": [
    "There is a small positive correlation between box office revenue and the summary length. Which is good news because the longer the summary the more our algorithm will train on it. However there are huge differences between the length of our summaries which might be lead to bias in the learning. To resolve this we can do a weighted learning and give less weigth to the movies with big summaries but this has not yet been implemented. Box office revenues are a good indication of how much a movie is watched thus of how influent it is on the general public. "
   ]
  },
  {
   "cell_type": "code",
   "execution_count": 43,
   "id": "39911a0e-2c1e-4489-8814-08cda7f9d385",
   "metadata": {
    "tags": []
   },
   "outputs": [],
   "source": [
    "summary_and_movie = dfmetadata.merge(dfsummaries,how ='right')"
   ]
  },
  {
   "cell_type": "markdown",
   "id": "8aed1d95-c65d-4901-9850-9ad1b49914ad",
   "metadata": {
    "tags": []
   },
   "source": [
    "## 5) Summary and character cleaning"
   ]
  },
  {
   "cell_type": "markdown",
   "id": "be75aa7c-63f0-4962-9303-6f8f1715063d",
   "metadata": {},
   "source": [
    "We want to look if the movies with summaries are the ones which also have characters"
   ]
  },
  {
   "cell_type": "code",
   "execution_count": 44,
   "id": "c9255c30-26eb-452b-8bc7-3ca75fe36191",
   "metadata": {
    "tags": []
   },
   "outputs": [
    {
     "name": "stdout",
     "output_type": "stream",
     "text": [
      "There are 42295 movies that have summary data\n",
      "There are 37763 movies which contain data for characters and summary\n"
     ]
    }
   ],
   "source": [
    "print(f'There are {len(summary_and_movie)} movies that have summary data')\n",
    "nb_sumarry_and_character = len(summary_and_movie[summary_and_movie[\"Freebase_ID\"].isin(dfcharacter[\"Freebase_ID\"])])\n",
    "print(f'There are {nb_sumarry_and_character} movies which contain data for characters and summary' )"
   ]
  },
  {
   "cell_type": "markdown",
   "id": "78e5c6a4-7f7a-4df8-8025-d57025244816",
   "metadata": {},
   "source": [
    "However when we look at it in detail some of the character data don't have character_name in it as we will need this data it might be an issue if we don't have enough data and we might need to rethink our strategy for detecting the gender of characters. To replace it by he or she."
   ]
  },
  {
   "cell_type": "code",
   "execution_count": 45,
   "id": "10cbb4af-f560-4884-95e2-9a4aff485414",
   "metadata": {
    "tags": []
   },
   "outputs": [
    {
     "name": "stdout",
     "output_type": "stream",
     "text": [
      "There are 308367 characters in movies that also have a summary\n",
      "There are 142353 characters with a name in movies that also have a summary\n",
      "There is 0.31587040599641864 percent of characters of which we can use the names\n"
     ]
    }
   ],
   "source": [
    "dfcharacter_in_summary = dfcharacter[dfcharacter[\"Freebase_ID\"].isin(summary_and_movie[\"Freebase_ID\"])]\n",
    "print(f'There are {len(dfcharacter_in_summary)} characters in movies that also have a summary')\n",
    "character_with_name = dfcharacter_in_summary[~dfcharacter_in_summary[\"Character_name\"].isna()]\n",
    "print(f'There are {len(character_with_name)} characters with a name in movies that also have a summary')\n",
    "print(f'There is {len(character_with_name)/len(dfcharacter)} percent of characters of which we can use the names')"
   ]
  },
  {
   "cell_type": "code",
   "execution_count": 46,
   "id": "d59513e2-9c66-48c6-a762-a4558fdd7757",
   "metadata": {
    "tags": []
   },
   "outputs": [
    {
     "name": "stdout",
     "output_type": "stream",
     "text": [
      "23059 movies have data for character name\n",
      "0.2820983349848913 percent of the movie have data about the character names\n"
     ]
    }
   ],
   "source": [
    "movie_with_char_names = len(summary_and_movie[summary_and_movie[\"Freebase_ID\"].isin(character_with_name[\"Freebase_ID\"])])\n",
    "print(f'{movie_with_char_names} movies have data for character name')\n",
    "print(f'{movie_with_char_names/len(dfmetadata)} percent of the movie have data about the character names')"
   ]
  },
  {
   "cell_type": "markdown",
   "id": "58980e84-da89-4cda-bdbb-17ff60fa8dec",
   "metadata": {},
   "source": [
    "This is not a lot of movies but we will anyway proceed with the analysis on this data. We decided it should be enough to work on. If however we realize later in the project that we are too short on data for the learning to be significant we will try to extract it on imbd."
   ]
  },
  {
   "cell_type": "markdown",
   "id": "10a7634a-0603-4f9b-92ae-0ed4294811b4",
   "metadata": {
    "tags": []
   },
   "source": [
    "## 6) Cleaning cluster data"
   ]
  },
  {
   "cell_type": "markdown",
   "id": "95b40d27-e7de-49bf-a1bd-2949cc31b5ce",
   "metadata": {},
   "source": [
    "In this step, we want to begin the initial investigations for the research question which character types women usually play. "
   ]
  },
  {
   "cell_type": "code",
   "execution_count": 47,
   "id": "78bd56a3-6fa5-4847-98e7-e58250cbdc97",
   "metadata": {
    "tags": []
   },
   "outputs": [
    {
     "data": {
      "text/html": [
       "<div>\n",
       "<style scoped>\n",
       "    .dataframe tbody tr th:only-of-type {\n",
       "        vertical-align: middle;\n",
       "    }\n",
       "\n",
       "    .dataframe tbody tr th {\n",
       "        vertical-align: top;\n",
       "    }\n",
       "\n",
       "    .dataframe thead th {\n",
       "        text-align: right;\n",
       "    }\n",
       "</style>\n",
       "<table border=\"1\" class=\"dataframe\">\n",
       "  <thead>\n",
       "    <tr style=\"text-align: right;\">\n",
       "      <th></th>\n",
       "      <th>0</th>\n",
       "      <th>1</th>\n",
       "    </tr>\n",
       "  </thead>\n",
       "  <tbody>\n",
       "    <tr>\n",
       "      <th>0</th>\n",
       "      <td>absent_minded_professor</td>\n",
       "      <td>{\"char\": \"Professor Philip Brainard\", \"movie\":...</td>\n",
       "    </tr>\n",
       "    <tr>\n",
       "      <th>1</th>\n",
       "      <td>absent_minded_professor</td>\n",
       "      <td>{\"char\": \"Professor Keenbean\", \"movie\": \"Richi...</td>\n",
       "    </tr>\n",
       "    <tr>\n",
       "      <th>2</th>\n",
       "      <td>absent_minded_professor</td>\n",
       "      <td>{\"char\": \"Dr. Reinhardt Lane\", \"movie\": \"The S...</td>\n",
       "    </tr>\n",
       "    <tr>\n",
       "      <th>3</th>\n",
       "      <td>absent_minded_professor</td>\n",
       "      <td>{\"char\": \"Dr. Harold Medford\", \"movie\": \"Them!...</td>\n",
       "    </tr>\n",
       "    <tr>\n",
       "      <th>4</th>\n",
       "      <td>absent_minded_professor</td>\n",
       "      <td>{\"char\": \"Daniel Jackson\", \"movie\": \"Stargate\"...</td>\n",
       "    </tr>\n",
       "    <tr>\n",
       "      <th>...</th>\n",
       "      <td>...</td>\n",
       "      <td>...</td>\n",
       "    </tr>\n",
       "    <tr>\n",
       "      <th>496</th>\n",
       "      <td>young_gun</td>\n",
       "      <td>{\"char\": \"Morgan Earp\", \"movie\": \"Tombstone\", ...</td>\n",
       "    </tr>\n",
       "    <tr>\n",
       "      <th>497</th>\n",
       "      <td>young_gun</td>\n",
       "      <td>{\"char\": \"Colorado Ryan\", \"movie\": \"Rio Bravo\"...</td>\n",
       "    </tr>\n",
       "    <tr>\n",
       "      <th>498</th>\n",
       "      <td>young_gun</td>\n",
       "      <td>{\"char\": \"Tom Sawyer\", \"movie\": \"The League of...</td>\n",
       "    </tr>\n",
       "    <tr>\n",
       "      <th>499</th>\n",
       "      <td>young_gun</td>\n",
       "      <td>{\"char\": \"William H. 'Billy the Kid' Bonney\", ...</td>\n",
       "    </tr>\n",
       "    <tr>\n",
       "      <th>500</th>\n",
       "      <td>young_gun</td>\n",
       "      <td>{\"char\": \"Jake\", \"movie\": \"Silverado\", \"id\": \"...</td>\n",
       "    </tr>\n",
       "  </tbody>\n",
       "</table>\n",
       "<p>501 rows × 2 columns</p>\n",
       "</div>"
      ],
      "text/plain": [
       "                           0  \\\n",
       "0    absent_minded_professor   \n",
       "1    absent_minded_professor   \n",
       "2    absent_minded_professor   \n",
       "3    absent_minded_professor   \n",
       "4    absent_minded_professor   \n",
       "..                       ...   \n",
       "496                young_gun   \n",
       "497                young_gun   \n",
       "498                young_gun   \n",
       "499                young_gun   \n",
       "500                young_gun   \n",
       "\n",
       "                                                     1  \n",
       "0    {\"char\": \"Professor Philip Brainard\", \"movie\":...  \n",
       "1    {\"char\": \"Professor Keenbean\", \"movie\": \"Richi...  \n",
       "2    {\"char\": \"Dr. Reinhardt Lane\", \"movie\": \"The S...  \n",
       "3    {\"char\": \"Dr. Harold Medford\", \"movie\": \"Them!...  \n",
       "4    {\"char\": \"Daniel Jackson\", \"movie\": \"Stargate\"...  \n",
       "..                                                 ...  \n",
       "496  {\"char\": \"Morgan Earp\", \"movie\": \"Tombstone\", ...  \n",
       "497  {\"char\": \"Colorado Ryan\", \"movie\": \"Rio Bravo\"...  \n",
       "498  {\"char\": \"Tom Sawyer\", \"movie\": \"The League of...  \n",
       "499  {\"char\": \"William H. 'Billy the Kid' Bonney\", ...  \n",
       "500  {\"char\": \"Jake\", \"movie\": \"Silverado\", \"id\": \"...  \n",
       "\n",
       "[501 rows x 2 columns]"
      ]
     },
     "execution_count": 47,
     "metadata": {},
     "output_type": "execute_result"
    }
   ],
   "source": [
    "#We can see that the infos about character, movie, id and actor are all in one column.\n",
    "df_clusters_initial=pd.read_table('data/tvtropes.clusters.txt',header=None)\n",
    "df_clusters_initial"
   ]
  },
  {
   "cell_type": "code",
   "execution_count": 48,
   "id": "bf51a0eb-c9b2-4d36-852a-a24a1ff57f0b",
   "metadata": {
    "tags": []
   },
   "outputs": [
    {
     "name": "stdout",
     "output_type": "stream",
     "text": [
      "<class 'str'>\n"
     ]
    }
   ],
   "source": [
    "#The infos are stored in string representations of dictionaries\n",
    "example_entry = df_clusters_initial[1][1]\n",
    "print(type(example_entry))"
   ]
  },
  {
   "cell_type": "code",
   "execution_count": 49,
   "id": "3b12ac13-db1f-449b-b2a7-1ea211c83411",
   "metadata": {
    "tags": []
   },
   "outputs": [],
   "source": [
    "#We need to turn the string representations of dictionaries into actual dictionaries\n",
    "#(The if statement is just so the cell can be run without having run the previous cells, to avoid confusion)\n",
    "import ast\n",
    "if type(example_entry)==str: \n",
    "    df_clusters_initial[1]=df_clusters_initial[1].apply(lambda x: ast.literal_eval(x))"
   ]
  },
  {
   "cell_type": "code",
   "execution_count": 50,
   "id": "b1fa1ecc-5ce8-4c59-a47e-da68482b8973",
   "metadata": {
    "tags": []
   },
   "outputs": [],
   "source": [
    "#Now, we can separate the values in the dictionaries to different columns\n",
    "df_dict = pd.json_normalize(df_clusters_initial[1])"
   ]
  },
  {
   "cell_type": "code",
   "execution_count": 51,
   "id": "7054fc01-3802-4fc0-ae5b-065eadfa4dcf",
   "metadata": {
    "tags": []
   },
   "outputs": [],
   "source": [
    "#Adding the separated dictionary values to the initial df\n",
    "dfclusters = pd.concat([df_clusters_initial.drop(1,axis=1), df_dict], axis=1)"
   ]
  },
  {
   "cell_type": "code",
   "execution_count": 52,
   "id": "44bf1940-6e46-4550-8819-aeb1e7df6158",
   "metadata": {
    "tags": []
   },
   "outputs": [
    {
     "data": {
      "text/html": [
       "<div>\n",
       "<style scoped>\n",
       "    .dataframe tbody tr th:only-of-type {\n",
       "        vertical-align: middle;\n",
       "    }\n",
       "\n",
       "    .dataframe tbody tr th {\n",
       "        vertical-align: top;\n",
       "    }\n",
       "\n",
       "    .dataframe thead th {\n",
       "        text-align: right;\n",
       "    }\n",
       "</style>\n",
       "<table border=\"1\" class=\"dataframe\">\n",
       "  <thead>\n",
       "    <tr style=\"text-align: right;\">\n",
       "      <th></th>\n",
       "      <th>type</th>\n",
       "      <th>char</th>\n",
       "      <th>movie</th>\n",
       "      <th>Freebase_character/actor_map_ID</th>\n",
       "      <th>Actor_name</th>\n",
       "    </tr>\n",
       "  </thead>\n",
       "  <tbody>\n",
       "    <tr>\n",
       "      <th>0</th>\n",
       "      <td>absent_minded_professor</td>\n",
       "      <td>Professor Philip Brainard</td>\n",
       "      <td>Flubber</td>\n",
       "      <td>/m/0jy9q0</td>\n",
       "      <td>Robin Williams</td>\n",
       "    </tr>\n",
       "    <tr>\n",
       "      <th>1</th>\n",
       "      <td>absent_minded_professor</td>\n",
       "      <td>Professor Keenbean</td>\n",
       "      <td>Richie Rich</td>\n",
       "      <td>/m/02vchl3</td>\n",
       "      <td>Michael McShane</td>\n",
       "    </tr>\n",
       "    <tr>\n",
       "      <th>2</th>\n",
       "      <td>absent_minded_professor</td>\n",
       "      <td>Dr. Reinhardt Lane</td>\n",
       "      <td>The Shadow</td>\n",
       "      <td>/m/0k6fkc</td>\n",
       "      <td>Ian McKellen</td>\n",
       "    </tr>\n",
       "    <tr>\n",
       "      <th>3</th>\n",
       "      <td>absent_minded_professor</td>\n",
       "      <td>Dr. Harold Medford</td>\n",
       "      <td>Them!</td>\n",
       "      <td>/m/0k6_br</td>\n",
       "      <td>Edmund Gwenn</td>\n",
       "    </tr>\n",
       "    <tr>\n",
       "      <th>4</th>\n",
       "      <td>absent_minded_professor</td>\n",
       "      <td>Daniel Jackson</td>\n",
       "      <td>Stargate</td>\n",
       "      <td>/m/0k3rhh</td>\n",
       "      <td>James Spader</td>\n",
       "    </tr>\n",
       "    <tr>\n",
       "      <th>...</th>\n",
       "      <td>...</td>\n",
       "      <td>...</td>\n",
       "      <td>...</td>\n",
       "      <td>...</td>\n",
       "      <td>...</td>\n",
       "    </tr>\n",
       "    <tr>\n",
       "      <th>496</th>\n",
       "      <td>young_gun</td>\n",
       "      <td>Morgan Earp</td>\n",
       "      <td>Tombstone</td>\n",
       "      <td>/m/0k776f</td>\n",
       "      <td>Bill Paxton</td>\n",
       "    </tr>\n",
       "    <tr>\n",
       "      <th>497</th>\n",
       "      <td>young_gun</td>\n",
       "      <td>Colorado Ryan</td>\n",
       "      <td>Rio Bravo</td>\n",
       "      <td>/m/0k2kqg</td>\n",
       "      <td>Ricky Nelson</td>\n",
       "    </tr>\n",
       "    <tr>\n",
       "      <th>498</th>\n",
       "      <td>young_gun</td>\n",
       "      <td>Tom Sawyer</td>\n",
       "      <td>The League of Extraordinary Gentlemen</td>\n",
       "      <td>/m/0k5nsh</td>\n",
       "      <td>Shane West</td>\n",
       "    </tr>\n",
       "    <tr>\n",
       "      <th>499</th>\n",
       "      <td>young_gun</td>\n",
       "      <td>William H. 'Billy the Kid' Bonney</td>\n",
       "      <td>Young Guns II</td>\n",
       "      <td>/m/03lrjk0</td>\n",
       "      <td>Emilio Estevez</td>\n",
       "    </tr>\n",
       "    <tr>\n",
       "      <th>500</th>\n",
       "      <td>young_gun</td>\n",
       "      <td>Jake</td>\n",
       "      <td>Silverado</td>\n",
       "      <td>/m/0k39jj</td>\n",
       "      <td>Kevin Costner</td>\n",
       "    </tr>\n",
       "  </tbody>\n",
       "</table>\n",
       "<p>501 rows × 5 columns</p>\n",
       "</div>"
      ],
      "text/plain": [
       "                        type                               char  \\\n",
       "0    absent_minded_professor          Professor Philip Brainard   \n",
       "1    absent_minded_professor                 Professor Keenbean   \n",
       "2    absent_minded_professor                 Dr. Reinhardt Lane   \n",
       "3    absent_minded_professor                 Dr. Harold Medford   \n",
       "4    absent_minded_professor                     Daniel Jackson   \n",
       "..                       ...                                ...   \n",
       "496                young_gun                        Morgan Earp   \n",
       "497                young_gun                      Colorado Ryan   \n",
       "498                young_gun                         Tom Sawyer   \n",
       "499                young_gun  William H. 'Billy the Kid' Bonney   \n",
       "500                young_gun                               Jake   \n",
       "\n",
       "                                     movie Freebase_character/actor_map_ID  \\\n",
       "0                                  Flubber                       /m/0jy9q0   \n",
       "1                              Richie Rich                      /m/02vchl3   \n",
       "2                               The Shadow                       /m/0k6fkc   \n",
       "3                                    Them!                       /m/0k6_br   \n",
       "4                                 Stargate                       /m/0k3rhh   \n",
       "..                                     ...                             ...   \n",
       "496                              Tombstone                       /m/0k776f   \n",
       "497                              Rio Bravo                       /m/0k2kqg   \n",
       "498  The League of Extraordinary Gentlemen                       /m/0k5nsh   \n",
       "499                          Young Guns II                      /m/03lrjk0   \n",
       "500                              Silverado                       /m/0k39jj   \n",
       "\n",
       "          Actor_name  \n",
       "0     Robin Williams  \n",
       "1    Michael McShane  \n",
       "2       Ian McKellen  \n",
       "3       Edmund Gwenn  \n",
       "4       James Spader  \n",
       "..               ...  \n",
       "496      Bill Paxton  \n",
       "497     Ricky Nelson  \n",
       "498       Shane West  \n",
       "499   Emilio Estevez  \n",
       "500    Kevin Costner  \n",
       "\n",
       "[501 rows x 5 columns]"
      ]
     },
     "execution_count": 52,
     "metadata": {},
     "output_type": "execute_result"
    }
   ],
   "source": [
    "dfclusters=dfclusters.rename(columns={0:\"type\",'actor':'Actor_name','id':'Freebase_character/actor_map_ID'})\n",
    "dfclusters"
   ]
  },
  {
   "cell_type": "code",
   "execution_count": 53,
   "id": "69b81869-268a-49ef-bff8-d3119348989e",
   "metadata": {
    "tags": []
   },
   "outputs": [
    {
     "name": "stdout",
     "output_type": "stream",
     "text": [
      "False\n",
      "False\n",
      "False\n",
      "False\n",
      "False\n"
     ]
    }
   ],
   "source": [
    "#Checking if there are NaN values:\n",
    "print(dfclusters['type'].hasnans)\n",
    "print(dfclusters['char'].hasnans)\n",
    "print(dfclusters['movie'].hasnans)\n",
    "print(dfclusters['Freebase_character/actor_map_ID'].hasnans)\n",
    "print(dfclusters['Actor_name'].hasnans)"
   ]
  },
  {
   "cell_type": "markdown",
   "id": "38471828-54ea-4bac-b6b5-eb836e2a2640",
   "metadata": {},
   "source": [
    "In order to see which character types are more commonly females and which males we have to merge this with the character metadata dataframe"
   ]
  },
  {
   "cell_type": "code",
   "execution_count": 54,
   "id": "b59abee2-4b8a-4d7b-80a4-24ebe9570b4d",
   "metadata": {
    "tags": []
   },
   "outputs": [
    {
     "data": {
      "text/html": [
       "<div>\n",
       "<style scoped>\n",
       "    .dataframe tbody tr th:only-of-type {\n",
       "        vertical-align: middle;\n",
       "    }\n",
       "\n",
       "    .dataframe tbody tr th {\n",
       "        vertical-align: top;\n",
       "    }\n",
       "\n",
       "    .dataframe thead th {\n",
       "        text-align: right;\n",
       "    }\n",
       "</style>\n",
       "<table border=\"1\" class=\"dataframe\">\n",
       "  <thead>\n",
       "    <tr style=\"text-align: right;\">\n",
       "      <th></th>\n",
       "      <th>type</th>\n",
       "      <th>char</th>\n",
       "      <th>movie</th>\n",
       "      <th>Freebase_character/actor_map_ID</th>\n",
       "      <th>Actor_name</th>\n",
       "      <th>Gender</th>\n",
       "    </tr>\n",
       "  </thead>\n",
       "  <tbody>\n",
       "    <tr>\n",
       "      <th>0</th>\n",
       "      <td>absent_minded_professor</td>\n",
       "      <td>Professor Philip Brainard</td>\n",
       "      <td>Flubber</td>\n",
       "      <td>/m/0jy9q0</td>\n",
       "      <td>Robin Williams</td>\n",
       "      <td>M</td>\n",
       "    </tr>\n",
       "    <tr>\n",
       "      <th>1</th>\n",
       "      <td>absent_minded_professor</td>\n",
       "      <td>Professor Keenbean</td>\n",
       "      <td>Richie Rich</td>\n",
       "      <td>/m/02vchl3</td>\n",
       "      <td>Michael McShane</td>\n",
       "      <td>M</td>\n",
       "    </tr>\n",
       "    <tr>\n",
       "      <th>2</th>\n",
       "      <td>absent_minded_professor</td>\n",
       "      <td>Dr. Reinhardt Lane</td>\n",
       "      <td>The Shadow</td>\n",
       "      <td>/m/0k6fkc</td>\n",
       "      <td>Ian McKellen</td>\n",
       "      <td>M</td>\n",
       "    </tr>\n",
       "    <tr>\n",
       "      <th>3</th>\n",
       "      <td>absent_minded_professor</td>\n",
       "      <td>Dr. Harold Medford</td>\n",
       "      <td>Them!</td>\n",
       "      <td>/m/0k6_br</td>\n",
       "      <td>Edmund Gwenn</td>\n",
       "      <td>M</td>\n",
       "    </tr>\n",
       "    <tr>\n",
       "      <th>4</th>\n",
       "      <td>absent_minded_professor</td>\n",
       "      <td>Daniel Jackson</td>\n",
       "      <td>Stargate</td>\n",
       "      <td>/m/0k3rhh</td>\n",
       "      <td>James Spader</td>\n",
       "      <td>M</td>\n",
       "    </tr>\n",
       "    <tr>\n",
       "      <th>...</th>\n",
       "      <td>...</td>\n",
       "      <td>...</td>\n",
       "      <td>...</td>\n",
       "      <td>...</td>\n",
       "      <td>...</td>\n",
       "      <td>...</td>\n",
       "    </tr>\n",
       "    <tr>\n",
       "      <th>496</th>\n",
       "      <td>young_gun</td>\n",
       "      <td>Morgan Earp</td>\n",
       "      <td>Tombstone</td>\n",
       "      <td>/m/0k776f</td>\n",
       "      <td>Bill Paxton</td>\n",
       "      <td>M</td>\n",
       "    </tr>\n",
       "    <tr>\n",
       "      <th>497</th>\n",
       "      <td>young_gun</td>\n",
       "      <td>Colorado Ryan</td>\n",
       "      <td>Rio Bravo</td>\n",
       "      <td>/m/0k2kqg</td>\n",
       "      <td>Ricky Nelson</td>\n",
       "      <td>M</td>\n",
       "    </tr>\n",
       "    <tr>\n",
       "      <th>498</th>\n",
       "      <td>young_gun</td>\n",
       "      <td>Tom Sawyer</td>\n",
       "      <td>The League of Extraordinary Gentlemen</td>\n",
       "      <td>/m/0k5nsh</td>\n",
       "      <td>Shane West</td>\n",
       "      <td>M</td>\n",
       "    </tr>\n",
       "    <tr>\n",
       "      <th>499</th>\n",
       "      <td>young_gun</td>\n",
       "      <td>William H. 'Billy the Kid' Bonney</td>\n",
       "      <td>Young Guns II</td>\n",
       "      <td>/m/03lrjk0</td>\n",
       "      <td>Emilio Estevez</td>\n",
       "      <td>M</td>\n",
       "    </tr>\n",
       "    <tr>\n",
       "      <th>500</th>\n",
       "      <td>young_gun</td>\n",
       "      <td>Jake</td>\n",
       "      <td>Silverado</td>\n",
       "      <td>/m/0k39jj</td>\n",
       "      <td>Kevin Costner</td>\n",
       "      <td>M</td>\n",
       "    </tr>\n",
       "  </tbody>\n",
       "</table>\n",
       "<p>501 rows × 6 columns</p>\n",
       "</div>"
      ],
      "text/plain": [
       "                        type                               char  \\\n",
       "0    absent_minded_professor          Professor Philip Brainard   \n",
       "1    absent_minded_professor                 Professor Keenbean   \n",
       "2    absent_minded_professor                 Dr. Reinhardt Lane   \n",
       "3    absent_minded_professor                 Dr. Harold Medford   \n",
       "4    absent_minded_professor                     Daniel Jackson   \n",
       "..                       ...                                ...   \n",
       "496                young_gun                        Morgan Earp   \n",
       "497                young_gun                      Colorado Ryan   \n",
       "498                young_gun                         Tom Sawyer   \n",
       "499                young_gun  William H. 'Billy the Kid' Bonney   \n",
       "500                young_gun                               Jake   \n",
       "\n",
       "                                     movie Freebase_character/actor_map_ID  \\\n",
       "0                                  Flubber                       /m/0jy9q0   \n",
       "1                              Richie Rich                      /m/02vchl3   \n",
       "2                               The Shadow                       /m/0k6fkc   \n",
       "3                                    Them!                       /m/0k6_br   \n",
       "4                                 Stargate                       /m/0k3rhh   \n",
       "..                                     ...                             ...   \n",
       "496                              Tombstone                       /m/0k776f   \n",
       "497                              Rio Bravo                       /m/0k2kqg   \n",
       "498  The League of Extraordinary Gentlemen                       /m/0k5nsh   \n",
       "499                          Young Guns II                      /m/03lrjk0   \n",
       "500                              Silverado                       /m/0k39jj   \n",
       "\n",
       "          Actor_name Gender  \n",
       "0     Robin Williams      M  \n",
       "1    Michael McShane      M  \n",
       "2       Ian McKellen      M  \n",
       "3       Edmund Gwenn      M  \n",
       "4       James Spader      M  \n",
       "..               ...    ...  \n",
       "496      Bill Paxton      M  \n",
       "497     Ricky Nelson      M  \n",
       "498       Shane West      M  \n",
       "499   Emilio Estevez      M  \n",
       "500    Kevin Costner      M  \n",
       "\n",
       "[501 rows x 6 columns]"
      ]
     },
     "execution_count": 54,
     "metadata": {},
     "output_type": "execute_result"
    }
   ],
   "source": [
    "#We only need the info on genders from the character df so I do this to avoid having to drop many columns later\n",
    "clusters_merged = dfclusters.merge(dfcharacter[['Freebase_character/actor_map_ID', 'Gender']],on=\"Freebase_character/actor_map_ID\")\n",
    "clusters_merged"
   ]
  },
  {
   "cell_type": "code",
   "execution_count": 55,
   "id": "51be846e-59da-46d1-87b2-f424c6f175b3",
   "metadata": {
    "tags": []
   },
   "outputs": [],
   "source": [
    "#grouping by type and gender\n",
    "types = clusters_merged.groupby(['type', 'Gender']).size().unstack(fill_value=0)\n",
    "\n",
    "#adding a column for total M+F to see which types are most comon\n",
    "types['total_count'] = types['F'] + types['M']\n",
    "\n",
    "#adding a column for the percentage of women\n",
    "types['F_percentage'] = (types['F'] / (types['F'] + types['M']))*100\n",
    "\n",
    "# Resetting index to make 'type' a column\n",
    "types.reset_index(inplace=True)"
   ]
  },
  {
   "cell_type": "code",
   "execution_count": 56,
   "id": "51f01dc4-f673-4938-86b3-0442aae27069",
   "metadata": {
    "tags": []
   },
   "outputs": [
    {
     "data": {
      "text/html": [
       "<div>\n",
       "<style scoped>\n",
       "    .dataframe tbody tr th:only-of-type {\n",
       "        vertical-align: middle;\n",
       "    }\n",
       "\n",
       "    .dataframe tbody tr th {\n",
       "        vertical-align: top;\n",
       "    }\n",
       "\n",
       "    .dataframe thead th {\n",
       "        text-align: right;\n",
       "    }\n",
       "</style>\n",
       "<table border=\"1\" class=\"dataframe\">\n",
       "  <thead>\n",
       "    <tr style=\"text-align: right;\">\n",
       "      <th>Gender</th>\n",
       "      <th>type</th>\n",
       "      <th>F</th>\n",
       "      <th>M</th>\n",
       "      <th>total_count</th>\n",
       "      <th>F_percentage</th>\n",
       "    </tr>\n",
       "  </thead>\n",
       "  <tbody>\n",
       "    <tr>\n",
       "      <th>44</th>\n",
       "      <td>junkie_prophet</td>\n",
       "      <td>2</td>\n",
       "      <td>0</td>\n",
       "      <td>2</td>\n",
       "      <td>100.000000</td>\n",
       "    </tr>\n",
       "    <tr>\n",
       "      <th>12</th>\n",
       "      <td>chanteuse</td>\n",
       "      <td>6</td>\n",
       "      <td>0</td>\n",
       "      <td>6</td>\n",
       "      <td>100.000000</td>\n",
       "    </tr>\n",
       "    <tr>\n",
       "      <th>51</th>\n",
       "      <td>ophelia</td>\n",
       "      <td>5</td>\n",
       "      <td>0</td>\n",
       "      <td>5</td>\n",
       "      <td>100.000000</td>\n",
       "    </tr>\n",
       "    <tr>\n",
       "      <th>34</th>\n",
       "      <td>final_girl</td>\n",
       "      <td>6</td>\n",
       "      <td>0</td>\n",
       "      <td>6</td>\n",
       "      <td>100.000000</td>\n",
       "    </tr>\n",
       "    <tr>\n",
       "      <th>15</th>\n",
       "      <td>classy_cat_burglar</td>\n",
       "      <td>1</td>\n",
       "      <td>0</td>\n",
       "      <td>1</td>\n",
       "      <td>100.000000</td>\n",
       "    </tr>\n",
       "    <tr>\n",
       "      <th>53</th>\n",
       "      <td>prima_donna</td>\n",
       "      <td>6</td>\n",
       "      <td>0</td>\n",
       "      <td>6</td>\n",
       "      <td>100.000000</td>\n",
       "    </tr>\n",
       "    <tr>\n",
       "      <th>69</th>\n",
       "      <td>valley_girl</td>\n",
       "      <td>6</td>\n",
       "      <td>0</td>\n",
       "      <td>6</td>\n",
       "      <td>100.000000</td>\n",
       "    </tr>\n",
       "    <tr>\n",
       "      <th>27</th>\n",
       "      <td>dumb_blonde</td>\n",
       "      <td>10</td>\n",
       "      <td>1</td>\n",
       "      <td>11</td>\n",
       "      <td>90.909091</td>\n",
       "    </tr>\n",
       "    <tr>\n",
       "      <th>6</th>\n",
       "      <td>broken_bird</td>\n",
       "      <td>4</td>\n",
       "      <td>1</td>\n",
       "      <td>5</td>\n",
       "      <td>80.000000</td>\n",
       "    </tr>\n",
       "    <tr>\n",
       "      <th>5</th>\n",
       "      <td>brainless_beauty</td>\n",
       "      <td>7</td>\n",
       "      <td>5</td>\n",
       "      <td>12</td>\n",
       "      <td>58.333333</td>\n",
       "    </tr>\n",
       "    <tr>\n",
       "      <th>37</th>\n",
       "      <td>granola_person</td>\n",
       "      <td>4</td>\n",
       "      <td>4</td>\n",
       "      <td>8</td>\n",
       "      <td>50.000000</td>\n",
       "    </tr>\n",
       "    <tr>\n",
       "      <th>45</th>\n",
       "      <td>klutz</td>\n",
       "      <td>1</td>\n",
       "      <td>1</td>\n",
       "      <td>2</td>\n",
       "      <td>50.000000</td>\n",
       "    </tr>\n",
       "    <tr>\n",
       "      <th>29</th>\n",
       "      <td>eccentric_mentor</td>\n",
       "      <td>2</td>\n",
       "      <td>3</td>\n",
       "      <td>5</td>\n",
       "      <td>40.000000</td>\n",
       "    </tr>\n",
       "    <tr>\n",
       "      <th>9</th>\n",
       "      <td>bully</td>\n",
       "      <td>1</td>\n",
       "      <td>2</td>\n",
       "      <td>3</td>\n",
       "      <td>33.333333</td>\n",
       "    </tr>\n",
       "    <tr>\n",
       "      <th>25</th>\n",
       "      <td>doormat</td>\n",
       "      <td>1</td>\n",
       "      <td>3</td>\n",
       "      <td>4</td>\n",
       "      <td>25.000000</td>\n",
       "    </tr>\n",
       "  </tbody>\n",
       "</table>\n",
       "</div>"
      ],
      "text/plain": [
       "Gender                type   F  M  total_count  F_percentage\n",
       "44          junkie_prophet   2  0            2    100.000000\n",
       "12               chanteuse   6  0            6    100.000000\n",
       "51                 ophelia   5  0            5    100.000000\n",
       "34              final_girl   6  0            6    100.000000\n",
       "15      classy_cat_burglar   1  0            1    100.000000\n",
       "53             prima_donna   6  0            6    100.000000\n",
       "69             valley_girl   6  0            6    100.000000\n",
       "27             dumb_blonde  10  1           11     90.909091\n",
       "6              broken_bird   4  1            5     80.000000\n",
       "5         brainless_beauty   7  5           12     58.333333\n",
       "37          granola_person   4  4            8     50.000000\n",
       "45                   klutz   1  1            2     50.000000\n",
       "29        eccentric_mentor   2  3            5     40.000000\n",
       "9                    bully   1  2            3     33.333333\n",
       "25                 doormat   1  3            4     25.000000"
      ]
     },
     "execution_count": 56,
     "metadata": {},
     "output_type": "execute_result"
    }
   ],
   "source": [
    "types.sort_values(by='F_percentage',ascending=False).head(15)"
   ]
  },
  {
   "cell_type": "code",
   "execution_count": 57,
   "id": "300f8f59-b581-4abb-b97d-a8d3ec3aa3cc",
   "metadata": {
    "tags": []
   },
   "outputs": [
    {
     "data": {
      "image/png": "[encoded data removed]",
      "text/plain": [
       "<Figure size 1200x600 with 1 Axes>"
      ]
     },
     "metadata": {},
     "output_type": "display_data"
    }
   ],
   "source": [
    "import seaborn as sns\n",
    "import matplotlib.pyplot as plt\n",
    "plt.figure(figsize=(12, 6)) \n",
    "ax = sns.barplot(x='type',y=\"F_percentage\", data=types.sort_values(ascending=False,by='F_percentage').head(20))\n",
    "ax = plt.title(\"Percentage of women represented playing different character types\")\n",
    "ax = plt.ylabel(\"Percentage of women\")\n",
    "ax = plt.xticks(rotation=90) "
   ]
  },
  {
   "cell_type": "markdown",
   "id": "cf0abe19-9e46-4ee8-b5dd-bc1dacf52c0f",
   "metadata": {},
   "source": [
    "We can see that women are most represented in character types such as \"valley girl\" or \"prima donna\", and less in types such as \"adventurer archaeologist\". However, it is important to note that the clusters data is very short, so this is not very meaningful. Nevertheless, we thought it was interesting to see. Maybe in future analyses we can expand on the different character types or create our own."
   ]
  },
  {
   "cell_type": "markdown",
   "id": "86d33ed5-2399-4653-902a-62dfb629ba03",
   "metadata": {
    "tags": []
   },
   "source": [
    "## 7) Women in different movie genres"
   ]
  },
  {
   "cell_type": "markdown",
   "id": "eddeccea-b638-48d6-815d-95ecfb819950",
   "metadata": {},
   "source": [
    "Analoug to the previous step, where we started to investigate which character types female actrices usually play, in this step, we start the analysis for the research question how female characters are represented in different movie genres. "
   ]
  },
  {
   "cell_type": "code",
   "execution_count": 58,
   "id": "0441528c-ea3f-4d77-a963-de3fe276ff44",
   "metadata": {
    "tags": []
   },
   "outputs": [],
   "source": [
    "#In order to investigate women in different genres, we need to merge the metadata and character data.\n",
    "meta_char_merged=dfcharacter[['Freebase_ID','Actor_name','Gender']].merge(dfmetadata[['Freebase_ID','Movie_name','genres']],on=\"Freebase_ID\")"
   ]
  },
  {
   "cell_type": "markdown",
   "id": "487c0fc6-b8aa-41c4-b65a-9ab232da4530",
   "metadata": {},
   "source": [
    "#Like with the character types in the cluster data, the can see that the genres in the movie metadata are stored string representing a dictionary. We therefore need to change the string representation to dictionary and then create different columns for the genres."
   ]
  },
  {
   "cell_type": "code",
   "execution_count": 59,
   "id": "e65b864e-c08f-4aa6-8714-890b7df6103e",
   "metadata": {
    "tags": []
   },
   "outputs": [
    {
     "name": "stdout",
     "output_type": "stream",
     "text": [
      "<class 'str'>\n",
      "{\"/m/01jfsb\": \"Thriller\", \"/m/06n90\": \"Science Fiction\", \"/m/03npn\": \"Horror\", \"/m/03k9fj\": \"Adventure\", \"/m/0fdjb\": \"Supernatural\", \"/m/02kdv5l\": \"Action\", \"/m/09zvmj\": \"Space western\"}\n"
     ]
    }
   ],
   "source": [
    "example_entry1 = meta_char_merged.genres[1]\n",
    "print(type(example_entry1))\n",
    "print(example_entry1)"
   ]
  },
  {
   "cell_type": "code",
   "execution_count": 60,
   "id": "ee53532e-abfe-4ac6-9a72-9f38e0658d4b",
   "metadata": {
    "tags": []
   },
   "outputs": [],
   "source": [
    "#First, we need to change the type from a string representation to a dictionary\n",
    "if type(example_entry1)==str: \n",
    "    meta_char_merged.genres=meta_char_merged.genres.apply(lambda x: ast.literal_eval(x))\n",
    "\n",
    "#Now, we can create a df where the genres are all in different columns\n",
    "df_dict1 = pd.json_normalize(meta_char_merged.genres)"
   ]
  },
  {
   "cell_type": "code",
   "execution_count": 61,
   "id": "e3a4654d-221a-4570-8e56-1c55db0dd3fb",
   "metadata": {
    "tags": []
   },
   "outputs": [
    {
     "data": {
      "text/html": [
       "<div>\n",
       "<style scoped>\n",
       "    .dataframe tbody tr th:only-of-type {\n",
       "        vertical-align: middle;\n",
       "    }\n",
       "\n",
       "    .dataframe tbody tr th {\n",
       "        vertical-align: top;\n",
       "    }\n",
       "\n",
       "    .dataframe thead th {\n",
       "        text-align: right;\n",
       "    }\n",
       "</style>\n",
       "<table border=\"1\" class=\"dataframe\">\n",
       "  <thead>\n",
       "    <tr style=\"text-align: right;\">\n",
       "      <th></th>\n",
       "      <th>/m/01jfsb</th>\n",
       "      <th>/m/06n90</th>\n",
       "      <th>/m/03npn</th>\n",
       "      <th>/m/03k9fj</th>\n",
       "      <th>/m/0fdjb</th>\n",
       "      <th>/m/02kdv5l</th>\n",
       "      <th>/m/09zvmj</th>\n",
       "      <th>/m/02n4kr</th>\n",
       "      <th>/m/03bxz7</th>\n",
       "      <th>/m/07s9rl0</th>\n",
       "      <th>...</th>\n",
       "      <th>/m/0bbctgg</th>\n",
       "      <th>/m/0hj3myj</th>\n",
       "      <th>/m/06ymb</th>\n",
       "      <th>/m/017g5</th>\n",
       "      <th>/m/05b8xy</th>\n",
       "      <th>/m/018sjn</th>\n",
       "      <th>/m/0g9yrf1</th>\n",
       "      <th>/m/02crcx</th>\n",
       "      <th>/m/0jmw6g2</th>\n",
       "      <th>/m/05453r</th>\n",
       "    </tr>\n",
       "  </thead>\n",
       "  <tbody>\n",
       "    <tr>\n",
       "      <th>0</th>\n",
       "      <td>Thriller</td>\n",
       "      <td>Science Fiction</td>\n",
       "      <td>Horror</td>\n",
       "      <td>Adventure</td>\n",
       "      <td>Supernatural</td>\n",
       "      <td>Action</td>\n",
       "      <td>Space western</td>\n",
       "      <td>NaN</td>\n",
       "      <td>NaN</td>\n",
       "      <td>NaN</td>\n",
       "      <td>...</td>\n",
       "      <td>NaN</td>\n",
       "      <td>NaN</td>\n",
       "      <td>NaN</td>\n",
       "      <td>NaN</td>\n",
       "      <td>NaN</td>\n",
       "      <td>NaN</td>\n",
       "      <td>NaN</td>\n",
       "      <td>NaN</td>\n",
       "      <td>NaN</td>\n",
       "      <td>NaN</td>\n",
       "    </tr>\n",
       "    <tr>\n",
       "      <th>1</th>\n",
       "      <td>Thriller</td>\n",
       "      <td>Science Fiction</td>\n",
       "      <td>Horror</td>\n",
       "      <td>Adventure</td>\n",
       "      <td>Supernatural</td>\n",
       "      <td>Action</td>\n",
       "      <td>Space western</td>\n",
       "      <td>NaN</td>\n",
       "      <td>NaN</td>\n",
       "      <td>NaN</td>\n",
       "      <td>...</td>\n",
       "      <td>NaN</td>\n",
       "      <td>NaN</td>\n",
       "      <td>NaN</td>\n",
       "      <td>NaN</td>\n",
       "      <td>NaN</td>\n",
       "      <td>NaN</td>\n",
       "      <td>NaN</td>\n",
       "      <td>NaN</td>\n",
       "      <td>NaN</td>\n",
       "      <td>NaN</td>\n",
       "    </tr>\n",
       "    <tr>\n",
       "      <th>2</th>\n",
       "      <td>Thriller</td>\n",
       "      <td>Science Fiction</td>\n",
       "      <td>Horror</td>\n",
       "      <td>Adventure</td>\n",
       "      <td>Supernatural</td>\n",
       "      <td>Action</td>\n",
       "      <td>Space western</td>\n",
       "      <td>NaN</td>\n",
       "      <td>NaN</td>\n",
       "      <td>NaN</td>\n",
       "      <td>...</td>\n",
       "      <td>NaN</td>\n",
       "      <td>NaN</td>\n",
       "      <td>NaN</td>\n",
       "      <td>NaN</td>\n",
       "      <td>NaN</td>\n",
       "      <td>NaN</td>\n",
       "      <td>NaN</td>\n",
       "      <td>NaN</td>\n",
       "      <td>NaN</td>\n",
       "      <td>NaN</td>\n",
       "    </tr>\n",
       "    <tr>\n",
       "      <th>3</th>\n",
       "      <td>Thriller</td>\n",
       "      <td>Science Fiction</td>\n",
       "      <td>Horror</td>\n",
       "      <td>Adventure</td>\n",
       "      <td>Supernatural</td>\n",
       "      <td>Action</td>\n",
       "      <td>Space western</td>\n",
       "      <td>NaN</td>\n",
       "      <td>NaN</td>\n",
       "      <td>NaN</td>\n",
       "      <td>...</td>\n",
       "      <td>NaN</td>\n",
       "      <td>NaN</td>\n",
       "      <td>NaN</td>\n",
       "      <td>NaN</td>\n",
       "      <td>NaN</td>\n",
       "      <td>NaN</td>\n",
       "      <td>NaN</td>\n",
       "      <td>NaN</td>\n",
       "      <td>NaN</td>\n",
       "      <td>NaN</td>\n",
       "    </tr>\n",
       "    <tr>\n",
       "      <th>4</th>\n",
       "      <td>Thriller</td>\n",
       "      <td>Science Fiction</td>\n",
       "      <td>Horror</td>\n",
       "      <td>Adventure</td>\n",
       "      <td>Supernatural</td>\n",
       "      <td>Action</td>\n",
       "      <td>Space western</td>\n",
       "      <td>NaN</td>\n",
       "      <td>NaN</td>\n",
       "      <td>NaN</td>\n",
       "      <td>...</td>\n",
       "      <td>NaN</td>\n",
       "      <td>NaN</td>\n",
       "      <td>NaN</td>\n",
       "      <td>NaN</td>\n",
       "      <td>NaN</td>\n",
       "      <td>NaN</td>\n",
       "      <td>NaN</td>\n",
       "      <td>NaN</td>\n",
       "      <td>NaN</td>\n",
       "      <td>NaN</td>\n",
       "    </tr>\n",
       "  </tbody>\n",
       "</table>\n",
       "<p>5 rows × 361 columns</p>\n",
       "</div>"
      ],
      "text/plain": [
       "  /m/01jfsb         /m/06n90 /m/03npn  /m/03k9fj      /m/0fdjb /m/02kdv5l  \\\n",
       "0  Thriller  Science Fiction   Horror  Adventure  Supernatural     Action   \n",
       "1  Thriller  Science Fiction   Horror  Adventure  Supernatural     Action   \n",
       "2  Thriller  Science Fiction   Horror  Adventure  Supernatural     Action   \n",
       "3  Thriller  Science Fiction   Horror  Adventure  Supernatural     Action   \n",
       "4  Thriller  Science Fiction   Horror  Adventure  Supernatural     Action   \n",
       "\n",
       "       /m/09zvmj /m/02n4kr /m/03bxz7 /m/07s9rl0  ... /m/0bbctgg /m/0hj3myj  \\\n",
       "0  Space western       NaN       NaN        NaN  ...        NaN        NaN   \n",
       "1  Space western       NaN       NaN        NaN  ...        NaN        NaN   \n",
       "2  Space western       NaN       NaN        NaN  ...        NaN        NaN   \n",
       "3  Space western       NaN       NaN        NaN  ...        NaN        NaN   \n",
       "4  Space western       NaN       NaN        NaN  ...        NaN        NaN   \n",
       "\n",
       "  /m/06ymb /m/017g5 /m/05b8xy /m/018sjn /m/0g9yrf1 /m/02crcx /m/0jmw6g2  \\\n",
       "0      NaN      NaN       NaN       NaN        NaN       NaN        NaN   \n",
       "1      NaN      NaN       NaN       NaN        NaN       NaN        NaN   \n",
       "2      NaN      NaN       NaN       NaN        NaN       NaN        NaN   \n",
       "3      NaN      NaN       NaN       NaN        NaN       NaN        NaN   \n",
       "4      NaN      NaN       NaN       NaN        NaN       NaN        NaN   \n",
       "\n",
       "  /m/05453r  \n",
       "0       NaN  \n",
       "1       NaN  \n",
       "2       NaN  \n",
       "3       NaN  \n",
       "4       NaN  \n",
       "\n",
       "[5 rows x 361 columns]"
      ]
     },
     "execution_count": 61,
     "metadata": {},
     "output_type": "execute_result"
    }
   ],
   "source": [
    "df_dict1.head()"
   ]
  },
  {
   "cell_type": "code",
   "execution_count": 62,
   "id": "6a011e48-5951-4b6f-b21d-d852a6e4dea9",
   "metadata": {
    "tags": []
   },
   "outputs": [],
   "source": [
    "#We can see that the headers for genres are IDs, so let's change them to more intuitive headers.\n",
    "new_column_names = []\n",
    "\n",
    "#We will take the first most frequent not NaN mode to be the name of the column because this is also the name of the genre\n",
    "for column in df_dict1.columns:\n",
    "    name = df_dict1[column].mode()[0]\n",
    "    new_column_names.append(name)\n",
    "    \n",
    "df_dict1.columns=new_column_names"
   ]
  },
  {
   "cell_type": "code",
   "execution_count": 63,
   "id": "b1062536-6973-41bd-957b-1515ccce9069",
   "metadata": {
    "tags": []
   },
   "outputs": [],
   "source": [
    "#Now, we can merge the df with the genre infos to our original dataframe with the rest of the information (movie name, gender etc)\n",
    "meta_char_merged2 = pd.concat([meta_char_merged.drop('genres',axis=1), df_dict1], axis=1)"
   ]
  },
  {
   "cell_type": "code",
   "execution_count": 64,
   "id": "b184ad53-a1a8-42cf-aa05-1c0936a5585b",
   "metadata": {
    "tags": []
   },
   "outputs": [
    {
     "data": {
      "text/html": [
       "<div>\n",
       "<style scoped>\n",
       "    .dataframe tbody tr th:only-of-type {\n",
       "        vertical-align: middle;\n",
       "    }\n",
       "\n",
       "    .dataframe tbody tr th {\n",
       "        vertical-align: top;\n",
       "    }\n",
       "\n",
       "    .dataframe thead th {\n",
       "        text-align: right;\n",
       "    }\n",
       "</style>\n",
       "<table border=\"1\" class=\"dataframe\">\n",
       "  <thead>\n",
       "    <tr style=\"text-align: right;\">\n",
       "      <th></th>\n",
       "      <th>Thriller</th>\n",
       "      <th>Science Fiction</th>\n",
       "      <th>Horror</th>\n",
       "      <th>Adventure</th>\n",
       "      <th>Supernatural</th>\n",
       "      <th>Action</th>\n",
       "      <th>Space western</th>\n",
       "      <th>Mystery</th>\n",
       "      <th>Biographical film</th>\n",
       "      <th>Drama</th>\n",
       "      <th>...</th>\n",
       "      <th>Comdedy</th>\n",
       "      <th>Children's Issues</th>\n",
       "      <th>Statutory rape</th>\n",
       "      <th>Breakdance</th>\n",
       "      <th>War effort</th>\n",
       "      <th>Revenge</th>\n",
       "      <th>Romantic thriller</th>\n",
       "      <th>Chick flick</th>\n",
       "      <th>Buddy Picture</th>\n",
       "      <th>Homoeroticism</th>\n",
       "    </tr>\n",
       "    <tr>\n",
       "      <th>Gender</th>\n",
       "      <th></th>\n",
       "      <th></th>\n",
       "      <th></th>\n",
       "      <th></th>\n",
       "      <th></th>\n",
       "      <th></th>\n",
       "      <th></th>\n",
       "      <th></th>\n",
       "      <th></th>\n",
       "      <th></th>\n",
       "      <th></th>\n",
       "      <th></th>\n",
       "      <th></th>\n",
       "      <th></th>\n",
       "      <th></th>\n",
       "      <th></th>\n",
       "      <th></th>\n",
       "      <th></th>\n",
       "      <th></th>\n",
       "      <th></th>\n",
       "      <th></th>\n",
       "    </tr>\n",
       "  </thead>\n",
       "  <tbody>\n",
       "    <tr>\n",
       "      <th>F</th>\n",
       "      <td>21266</td>\n",
       "      <td>6626</td>\n",
       "      <td>11659</td>\n",
       "      <td>9715</td>\n",
       "      <td>1951</td>\n",
       "      <td>16198</td>\n",
       "      <td>36</td>\n",
       "      <td>8040</td>\n",
       "      <td>2578</td>\n",
       "      <td>71751</td>\n",
       "      <td>...</td>\n",
       "      <td>2</td>\n",
       "      <td>1</td>\n",
       "      <td>3</td>\n",
       "      <td>5</td>\n",
       "      <td>2</td>\n",
       "      <td>2</td>\n",
       "      <td>1</td>\n",
       "      <td>8</td>\n",
       "      <td>7</td>\n",
       "      <td>0</td>\n",
       "    </tr>\n",
       "    <tr>\n",
       "      <th>M</th>\n",
       "      <td>48150</td>\n",
       "      <td>16349</td>\n",
       "      <td>21127</td>\n",
       "      <td>27064</td>\n",
       "      <td>3299</td>\n",
       "      <td>49162</td>\n",
       "      <td>118</td>\n",
       "      <td>16022</td>\n",
       "      <td>5526</td>\n",
       "      <td>133704</td>\n",
       "      <td>...</td>\n",
       "      <td>7</td>\n",
       "      <td>2</td>\n",
       "      <td>5</td>\n",
       "      <td>5</td>\n",
       "      <td>1</td>\n",
       "      <td>6</td>\n",
       "      <td>0</td>\n",
       "      <td>10</td>\n",
       "      <td>29</td>\n",
       "      <td>7</td>\n",
       "    </tr>\n",
       "  </tbody>\n",
       "</table>\n",
       "<p>2 rows × 361 columns</p>\n",
       "</div>"
      ],
      "text/plain": [
       "        Thriller  Science Fiction  Horror  Adventure  Supernatural  Action  \\\n",
       "Gender                                                                       \n",
       "F          21266             6626   11659       9715          1951   16198   \n",
       "M          48150            16349   21127      27064          3299   49162   \n",
       "\n",
       "        Space western  Mystery  Biographical film   Drama  ...  Comdedy  \\\n",
       "Gender                                                     ...            \n",
       "F                  36     8040               2578   71751  ...        2   \n",
       "M                 118    16022               5526  133704  ...        7   \n",
       "\n",
       "        Children's Issues  Statutory rape  Breakdance  War effort  Revenge  \\\n",
       "Gender                                                                       \n",
       "F                       1               3           5           2        2   \n",
       "M                       2               5           5           1        6   \n",
       "\n",
       "        Romantic thriller  Chick flick  Buddy Picture  Homoeroticism  \n",
       "Gender                                                                \n",
       "F                       1            8              7              0  \n",
       "M                       0           10             29              7  \n",
       "\n",
       "[2 rows x 361 columns]"
      ]
     },
     "execution_count": 64,
     "metadata": {},
     "output_type": "execute_result"
    }
   ],
   "source": [
    "#Next, we are interested in how gender representation varies in different genres\n",
    "#for this we will count the values in the genre columns\n",
    "gender_counts_init = meta_char_merged2.drop(['Freebase_ID','Actor_name','Movie_name'],axis=1).groupby('Gender').count()\n",
    "gender_counts_init"
   ]
  },
  {
   "cell_type": "code",
   "execution_count": 65,
   "id": "07c178c5-15ed-484b-9839-c20fca953c01",
   "metadata": {
    "tags": []
   },
   "outputs": [],
   "source": [
    "#We want this to be in a regular dataframe format so we transpose it\n",
    "gender_counts=gender_counts_init.transpose()"
   ]
  },
  {
   "cell_type": "code",
   "execution_count": 66,
   "id": "ce204ae8-1800-4e8f-b1ff-5feafb18b2d1",
   "metadata": {
    "tags": []
   },
   "outputs": [
    {
     "data": {
      "text/html": [
       "<div>\n",
       "<style scoped>\n",
       "    .dataframe tbody tr th:only-of-type {\n",
       "        vertical-align: middle;\n",
       "    }\n",
       "\n",
       "    .dataframe tbody tr th {\n",
       "        vertical-align: top;\n",
       "    }\n",
       "\n",
       "    .dataframe thead th {\n",
       "        text-align: right;\n",
       "    }\n",
       "</style>\n",
       "<table border=\"1\" class=\"dataframe\">\n",
       "  <thead>\n",
       "    <tr style=\"text-align: right;\">\n",
       "      <th>Gender</th>\n",
       "      <th>Genre</th>\n",
       "      <th>F</th>\n",
       "      <th>M</th>\n",
       "      <th>total_count</th>\n",
       "      <th>F_percentage</th>\n",
       "    </tr>\n",
       "  </thead>\n",
       "  <tbody>\n",
       "    <tr>\n",
       "      <th>0</th>\n",
       "      <td>Thriller</td>\n",
       "      <td>21266</td>\n",
       "      <td>48150</td>\n",
       "      <td>69416</td>\n",
       "      <td>30.635588</td>\n",
       "    </tr>\n",
       "    <tr>\n",
       "      <th>1</th>\n",
       "      <td>Science Fiction</td>\n",
       "      <td>6626</td>\n",
       "      <td>16349</td>\n",
       "      <td>22975</td>\n",
       "      <td>28.840044</td>\n",
       "    </tr>\n",
       "    <tr>\n",
       "      <th>2</th>\n",
       "      <td>Horror</td>\n",
       "      <td>11659</td>\n",
       "      <td>21127</td>\n",
       "      <td>32786</td>\n",
       "      <td>35.560910</td>\n",
       "    </tr>\n",
       "    <tr>\n",
       "      <th>3</th>\n",
       "      <td>Adventure</td>\n",
       "      <td>9715</td>\n",
       "      <td>27064</td>\n",
       "      <td>36779</td>\n",
       "      <td>26.414530</td>\n",
       "    </tr>\n",
       "    <tr>\n",
       "      <th>4</th>\n",
       "      <td>Supernatural</td>\n",
       "      <td>1951</td>\n",
       "      <td>3299</td>\n",
       "      <td>5250</td>\n",
       "      <td>37.161905</td>\n",
       "    </tr>\n",
       "    <tr>\n",
       "      <th>...</th>\n",
       "      <td>...</td>\n",
       "      <td>...</td>\n",
       "      <td>...</td>\n",
       "      <td>...</td>\n",
       "      <td>...</td>\n",
       "    </tr>\n",
       "    <tr>\n",
       "      <th>356</th>\n",
       "      <td>Revenge</td>\n",
       "      <td>2</td>\n",
       "      <td>6</td>\n",
       "      <td>8</td>\n",
       "      <td>25.000000</td>\n",
       "    </tr>\n",
       "    <tr>\n",
       "      <th>357</th>\n",
       "      <td>Romantic thriller</td>\n",
       "      <td>1</td>\n",
       "      <td>0</td>\n",
       "      <td>1</td>\n",
       "      <td>100.000000</td>\n",
       "    </tr>\n",
       "    <tr>\n",
       "      <th>358</th>\n",
       "      <td>Chick flick</td>\n",
       "      <td>8</td>\n",
       "      <td>10</td>\n",
       "      <td>18</td>\n",
       "      <td>44.444444</td>\n",
       "    </tr>\n",
       "    <tr>\n",
       "      <th>359</th>\n",
       "      <td>Buddy Picture</td>\n",
       "      <td>7</td>\n",
       "      <td>29</td>\n",
       "      <td>36</td>\n",
       "      <td>19.444444</td>\n",
       "    </tr>\n",
       "    <tr>\n",
       "      <th>360</th>\n",
       "      <td>Homoeroticism</td>\n",
       "      <td>0</td>\n",
       "      <td>7</td>\n",
       "      <td>7</td>\n",
       "      <td>0.000000</td>\n",
       "    </tr>\n",
       "  </tbody>\n",
       "</table>\n",
       "<p>361 rows × 5 columns</p>\n",
       "</div>"
      ],
      "text/plain": [
       "Gender              Genre      F      M  total_count  F_percentage\n",
       "0                Thriller  21266  48150        69416     30.635588\n",
       "1         Science Fiction   6626  16349        22975     28.840044\n",
       "2                  Horror  11659  21127        32786     35.560910\n",
       "3               Adventure   9715  27064        36779     26.414530\n",
       "4            Supernatural   1951   3299         5250     37.161905\n",
       "..                    ...    ...    ...          ...           ...\n",
       "356               Revenge      2      6            8     25.000000\n",
       "357     Romantic thriller      1      0            1    100.000000\n",
       "358           Chick flick      8     10           18     44.444444\n",
       "359         Buddy Picture      7     29           36     19.444444\n",
       "360         Homoeroticism      0      7            7      0.000000\n",
       "\n",
       "[361 rows x 5 columns]"
      ]
     },
     "execution_count": 66,
     "metadata": {},
     "output_type": "execute_result"
    }
   ],
   "source": [
    "#Let's add some more interesting columns!\n",
    "#First, i want one for the total counts to later look at the most common genres\n",
    "gender_counts['total_count']=gender_counts.F+gender_counts.M\n",
    "#Next, we are also also interested in the percentage of women\n",
    "gender_counts['F_percentage']=(gender_counts.F/(gender_counts.F+gender_counts.M))*100\n",
    "\n",
    "#Finally, we want reset the index so that genre is a normal column:\n",
    "gender_counts_2=gender_counts.reset_index()\n",
    "gender_counts_2=gender_counts_2.rename(columns={'index':'Genre'})\n",
    "\n",
    "gender_counts_2"
   ]
  },
  {
   "cell_type": "code",
   "execution_count": 67,
   "id": "65d3879d-4620-46b9-a6bb-cab819cf0fca",
   "metadata": {
    "tags": []
   },
   "outputs": [],
   "source": [
    "#Finally, we plot the Female Percentage for the 10 most common Genres:\n",
    "\n",
    "#Create a df for the 10 most common genres\n",
    "mostcommon=gender_counts_2.sort_values(by='total_count',ascending=False).head(20)\n",
    "#sort it by female percentage\n",
    "mostcommon=mostcommon.sort_values(by='F_percentage',ascending=False)"
   ]
  },
  {
   "cell_type": "code",
   "execution_count": 68,
   "id": "dbf03066-356c-4fbe-af77-9c5b3c5a7b49",
   "metadata": {
    "tags": []
   },
   "outputs": [
    {
     "data": {
      "image/png": "[encoded data removed]",
      "text/plain": [
       "<Figure size 1200x600 with 1 Axes>"
      ]
     },
     "metadata": {},
     "output_type": "display_data"
    }
   ],
   "source": [
    "#Making plot\n",
    "plt.figure(figsize=(12, 6)) \n",
    "ax = sns.barplot(x='Genre',y=\"F_percentage\", data=mostcommon)\n",
    "ax = plt.title(\"Percentage of women in most common genres\")\n",
    "ax = plt.ylabel(\"percentage of women\")\n",
    "ax = plt.xticks(rotation=90) "
   ]
  },
  {
   "cell_type": "markdown",
   "id": "3ae8d4ec-6f9b-4494-ba53-5347061743c7",
   "metadata": {
    "tags": []
   },
   "source": [
    "##  8) Female Character Identities in Synopses"
   ]
  },
  {
   "cell_type": "markdown",
   "id": "4a9df22e-2ac8-42ac-a629-e5ac3bc24e31",
   "metadata": {},
   "source": [
    "Now that we have a better grasp of our data and that it's cleaned let's start to try to answer question 1. The first aspect of this question is do movie summaries use different adjectives for women and men?  What personality traits are typically attributed to them? What implicit meanings are conveyed through adjectives used for women?\n",
    "For now let's focus on asking ourselves do movie summaries use different adjectives for men and women ?"
   ]
  },
  {
   "cell_type": "markdown",
   "id": "f2d06b1b-6834-4a22-b8b1-b1c228a0d307",
   "metadata": {
    "tags": []
   },
   "source": [
    "###  Data preprocessing"
   ]
  },
  {
   "cell_type": "markdown",
   "id": "c16da396-4c34-40d0-b4cf-bc6d604451a1",
   "metadata": {},
   "source": [
    "The first step we are going to follow is to extract the character names to then be able to change them to the gender of the character. For now we just take the whole character dataset and replace it in the summaries. However this can lead to error for example in the summary used as example the word different  is counted as a male character and is replaced by he while in this context it's not a male character."
   ]
  },
  {
   "cell_type": "code",
   "execution_count": 69,
   "id": "f16558aa-ee7a-4e54-af6f-57d6e055ed9a",
   "metadata": {
    "tags": []
   },
   "outputs": [],
   "source": [
    "# character name\n",
    "# use the data of character name & gender\n",
    "name_list = dfcharacter.iloc[:, [3]].dropna()\n",
    "df_name_gender = dfcharacter.iloc[:, [3, 5]].dropna()\n",
    "df_name_gender.columns = ['Name','Gender']\n",
    "df_female_name = df_name_gender[df_name_gender['Gender']=='F']['Name']\n",
    "df_male_name = df_name_gender[df_name_gender['Gender']=='M']['Name']\n",
    "name_list=name_list.squeeze().tolist()\n",
    "name_dict = set()\n",
    "\n",
    "# build a name dict\n",
    "for item in list(name_list):\n",
    "    names = item.split()\n",
    "    for name in names:\n",
    "        # remove the names like 'Alice's father' that can have a negative impact on the result\n",
    "            name_dict.add(name.lower())\n",
    "\n",
    "cleaned_list = [re.sub('[^a-zA-Z]', '', s) for s in name_dict]\n",
    "with open('data/names from movies.txt', 'w', encoding='utf-8') as file:\n",
    "    for item in cleaned_list:\n",
    "        file.write(item + '\\n')"
   ]
  },
  {
   "cell_type": "code",
   "execution_count": 70,
   "id": "e35aeaee-733d-4f87-a4cd-0d3a2c730ecf",
   "metadata": {},
   "outputs": [
    {
     "name": "stdout",
     "output_type": "stream",
     "text": [
      "length of female name dict before:26452\n",
      "length of female name dict after:15520\n"
     ]
    }
   ],
   "source": [
    "# create a set to collect the names of female and male characters\n",
    "female_name_dict = set()\n",
    "male_name_dict = set()\n",
    "\n",
    "# build a name dict\n",
    "for item in df_female_name:\n",
    "    names = item.split()\n",
    "    for name in names:\n",
    "        # remove the names like 'Alice's father' that can have a negative impact on the result\n",
    "        if not name.lower().endswith(\"'s\"):\n",
    "            female_name_dict.add(name.lower())\n",
    "for item in df_male_name:\n",
    "    names = item.split()\n",
    "    for name in names:\n",
    "        if not name.lower().endswith(\"'s\"):\n",
    "            male_name_dict.add(name.lower())\n",
    "\n",
    "#some characters have the same family name but different gender\n",
    "print(f'length of female name dict before:{len(female_name_dict)}')\n",
    "intersection_set = female_name_dict & male_name_dict \n",
    "female_name_dict = female_name_dict - intersection_set\n",
    "male_name_dict = male_name_dict - intersection_set\n",
    "print(f'length of female name dict after:{len(female_name_dict)}')"
   ]
  },
  {
   "cell_type": "markdown",
   "id": "c445f1c7-b6fd-4dcc-bfed-7f04ef076407",
   "metadata": {
    "tags": []
   },
   "source": [
    "### Extraction of the adjectives"
   ]
  },
  {
   "cell_type": "code",
   "execution_count": 71,
   "id": "065d7706-4a8d-47aa-a9ff-0d2ada319e75",
   "metadata": {
    "tags": []
   },
   "outputs": [],
   "source": [
    "# data preprocessing, very time-consuming\n",
    "# Set the stopwords\n",
    "stop_words = set(stopwords.words('english'))\n",
    "\n",
    "# Define a list of words representing females/males\n",
    "#from https://www.merriam-webster.com/thesaurus/\n",
    "female_words = set(['woman', 'girl', 'lady', 'female', 'daughter', 'mother', 'sister','girlfriend','maid','virgin','damsel','madame','senorita','princess','queen','her'])\n",
    "female_names_words = female_words | female_name_dict\n",
    "male_words = set(['man', 'boy', 'gentleman', 'male', 'son', 'father', 'brother','boyfriend','beau','husband','dude','lad','prince','king','him'])\n",
    "male_names_words = male_words | male_name_dict\n",
    "remove_dict=(stop_words | female_names_words | male_names_words)\n",
    "\n",
    "\n",
    "def extract_adjectives(text):\n",
    "    # tokenize the words\n",
    "    text_token = word_tokenize(text)\n",
    "    tagged = pos_tag(text_token)\n",
    "    # detect adjectives\n",
    "    adjectives = [word for word, pos in tagged if (pos.startswith('JJ'))]\n",
    "    text = [word.lower() for word in adjectives if word.isalpha()]\n",
    "    \n",
    "    return [word for word in text if word not in remove_dict ]\n",
    "\n",
    "\n",
    "documents=[]\n",
    "\n",
    "# load summaries\n",
    "with open('data/plot_summaries.txt', 'r', encoding='utf-8') as file:\n",
    "    for line in file:\n",
    "        text = line\n",
    "        documents.append(extract_adjectives(text))\n",
    "        \n",
    "documents = [word for sublist in documents for word in sublist]"
   ]
  },
  {
   "cell_type": "code",
   "execution_count": 72,
   "id": "a9845a6d-6493-4243-903e-ed2d87105a97",
   "metadata": {},
   "outputs": [
    {
     "name": "stdout",
     "output_type": "stream",
     "text": [
      "482505\n",
      "15736\n"
     ]
    }
   ],
   "source": [
    "# remove repetitive words\n",
    "print(len(documents))\n",
    "documents=list(set(documents))\n",
    "print(len(documents))"
   ]
  },
  {
   "cell_type": "code",
   "execution_count": 73,
   "id": "4d5db8c8-b592-4225-ab96-35393ae33be6",
   "metadata": {},
   "outputs": [
    {
     "name": "stdout",
     "output_type": "stream",
     "text": [
      "13317\n"
     ]
    }
   ],
   "source": [
    "# remove some words in case of incorrect classification\n",
    "lines = []\n",
    "\n",
    "# file from https://www.cs.cmu.edu/afs/cs/project/ai-repository/ai/areas/nlp/corpora/names/\n",
    "with open('data/female name.txt', 'r', encoding='utf-8') as file:\n",
    "    for line in file:\n",
    "        line=line.lower()\n",
    "        lines.append(line.strip())\n",
    "documents = set(documents)-(set(lines) & set(documents))\n",
    "\n",
    "lines = []\n",
    "with open('data/male name.txt', 'r', encoding='utf-8') as file:\n",
    "    for line in file:\n",
    "        line=line.lower()\n",
    "        lines.append(line.strip())\n",
    "documents = set(documents)-(set(lines) & set(documents))\n",
    "\n",
    "lines = []\n",
    "with open('data/names from movies.txt', 'r', encoding='utf-8') as file:\n",
    "    for line in file:\n",
    "        line=line.lower()\n",
    "        lines.append(line.strip())\n",
    "documents = set(documents)-(set(lines) & set(documents))\n",
    "print(len(documents))\n",
    "other_common_words = set(['child', 'orphan', 'baby', 'girls', 'lover', 'mute','child', 'orphan', 'bride', \n",
    "                          'baby', 'girls', 'lover', 'mute', 'housekeeper', 'cousin', 'neighbour', 'parent', \n",
    "                          'sibling', 'pregnant', 'housewife', 'relative', 'servant', 'waif', 'grandson', \n",
    "                          'stranger', 'courtesan', 'servant','cousin', 'neighbour', 'parent', 'sibling', \n",
    "                          'housewife','nurse', 'stepsister', 'housekeeper','grandson','servant','grandchildren',\n",
    "                          'relatives', 'uncles', 'orphans', 'childbirth', 'scoundrel', 'foreigner', 'stepfamily', \n",
    "                          'tuberculosis', 'mallaya', 'triplet', 'grandchildren', 'outcast', 'neighbours', 'huanhuan', \n",
    "                          'lakshmiammal', 'jaipal', 'himal', 'pasarian', 'leukemia'])\n",
    "documents = set(documents)-(set(documents) & set(other_common_words))"
   ]
  },
  {
   "cell_type": "code",
   "execution_count": 74,
   "id": "294df50a-8572-4fe9-b214-508a39871d7d",
   "metadata": {
    "tags": []
   },
   "outputs": [],
   "source": [
    "# save data\n",
    "with open('data/adjectives.txt', 'w', encoding='utf-8') as file:\n",
    "    for item in documents:\n",
    "        file.write(item + '\\n')"
   ]
  },
  {
   "cell_type": "markdown",
   "id": "9c8b832e-d381-4334-9bec-4bb2df1155c4",
   "metadata": {
    "tags": []
   },
   "source": [
    "### Building word embeddings"
   ]
  },
  {
   "cell_type": "code",
   "execution_count": 75,
   "id": "a2965a96-dd9c-488e-857a-a21add35bde3",
   "metadata": {},
   "outputs": [
    {
     "name": "stdout",
     "output_type": "stream",
     "text": [
      "Shlykov, a hard-working taxi driver and Lyosha, a saxophonist, develop a bizarre love-hate relationship, and despite their prejudices, realize they aren't so different after all.\n",
      "\n"
     ]
    }
   ],
   "source": [
    "# change the character names to he and she \n",
    "def names_to_pronons(text):\n",
    "    # lower the words and remove punctuation\n",
    "    text = text.lower()\n",
    "    text = re.sub(r'[^\\w\\s]', '', text)\n",
    "    # tokenize, replace words representing females with 'she' and males with 'he', and remove stopwords.\n",
    "    return ['she' if word in female_names_words else 'he' if word in male_names_words else word for word in text.split() if word not in stop_words]\n",
    "\n",
    "documents = []\n",
    "\n",
    "\n",
    "with open('data/plot_summaries.txt', 'r', encoding='utf-8') as file:\n",
    "    for line_number,line in enumerate(file):\n",
    "        _, text = line.split('\\t', 1)\n",
    "        processed_text = names_to_pronons(text)\n",
    "        documents.append(processed_text)\n",
    "        if line_number< 1:\n",
    "            print(text)"
   ]
  },
  {
   "cell_type": "code",
   "execution_count": 76,
   "id": "f7970ede-88b0-4b75-995f-b8c462f65741",
   "metadata": {},
   "outputs": [
    {
     "data": {
      "text/plain": [
       "['shlykov',\n",
       " 'hardworking',\n",
       " 'taxi',\n",
       " 'driver',\n",
       " 'lyosha',\n",
       " 'saxophonist',\n",
       " 'develop',\n",
       " 'he',\n",
       " 'lovehate',\n",
       " 'relationship',\n",
       " 'despite',\n",
       " 'prejudices',\n",
       " 'realize',\n",
       " 'arent',\n",
       " 'he']"
      ]
     },
     "execution_count": 76,
     "metadata": {},
     "output_type": "execute_result"
    }
   ],
   "source": [
    "documents[0]"
   ]
  },
  {
   "cell_type": "markdown",
   "id": "a614437c-0d2d-4c19-a313-585df5b3cd8f",
   "metadata": {},
   "source": [
    "We realize that some character names shlykov and lyosha aren't detected as names and transformed into he or she. Moreover bizarre and prejudice are detected as male names characters and transformed as he while in this context they aren't character names. To avoid this problem we will only change the character names to he or she if it's the characters linked to this movie."
   ]
  },
  {
   "cell_type": "code",
   "execution_count": 77,
   "id": "60709058-67ca-44d4-b04f-0f94bf6cc49b",
   "metadata": {},
   "outputs": [],
   "source": [
    "# load the data adjectives.txt (extracted from the text previously)\n",
    "adjectives = []\n",
    "\n",
    "with open('data/adjectives.txt', 'r', encoding='utf-8') as file:\n",
    "    for line in file:\n",
    "        adjectives.append(line.strip())"
   ]
  },
  {
   "cell_type": "code",
   "execution_count": 78,
   "id": "f803a38e-511f-47b5-8fa6-0b4fbfdf02ba",
   "metadata": {},
   "outputs": [],
   "source": [
    "# train the word2vec model using the skip-gram architecture\n",
    "model = Word2Vec(documents, vector_size=100, window=5, min_count=1, workers=4)\n",
    "\n",
    "# save the model\n",
    "model.save(\"data/word2vec.model\")"
   ]
  },
  {
   "cell_type": "code",
   "execution_count": 79,
   "id": "88912a2e-1d6f-403f-8182-9f4aff7eac9c",
   "metadata": {},
   "outputs": [],
   "source": [
    "# word to vector\n",
    "model = Word2Vec.load(\"data/word2vec.model\")\n",
    "adjectives = [word for word in adjectives if word in model.wv.key_to_index]\n",
    "adj_vectors = [model.wv[word] for word in adjectives]\n",
    "vector_she = model.wv['she']\n",
    "vector_he = model.wv['he']"
   ]
  },
  {
   "cell_type": "markdown",
   "id": "f4b94506-1c46-4a12-ab9e-816aa2c4f180",
   "metadata": {},
   "source": [
    "### Calculating cosine distances"
   ]
  },
  {
   "cell_type": "code",
   "execution_count": 80,
   "id": "f3ea4f7d-1a93-4bfa-9da5-e1b3a2994ca9",
   "metadata": {},
   "outputs": [],
   "source": [
    "female_reference_vector = vector_she.reshape(1, -1)\n",
    "female_similarities = [cosine_similarity(female_reference_vector, vec.reshape(1, -1))[0][0] for vec in adj_vectors]"
   ]
  },
  {
   "cell_type": "code",
   "execution_count": 81,
   "id": "9cb13009-0df0-4935-ab48-5da4a9a38c79",
   "metadata": {},
   "outputs": [],
   "source": [
    "male_reference_vector = vector_he.reshape(1, -1)\n",
    "male_similarities = [cosine_similarity(male_reference_vector, vec.reshape(1, -1))[0][0] for vec in adj_vectors]"
   ]
  },
  {
   "cell_type": "code",
   "execution_count": 82,
   "id": "aa111332-c3d2-4358-ad98-cd8bfc730650",
   "metadata": {},
   "outputs": [
    {
     "name": "stdout",
     "output_type": "stream",
     "text": [
      "                 Female      Male\n",
      "colorless      0.067864  0.098943\n",
      "graphical     -0.006887 -0.027614\n",
      "primitive      0.073040  0.097781\n",
      "kryptonian    -0.041850  0.076150\n",
      "funnest        0.057705  0.111941\n",
      "...                 ...       ...\n",
      "whirling      -0.006544  0.120243\n",
      "stagger        0.235285  0.245914\n",
      "vagina         0.140388  0.162685\n",
      "hemispherical  0.021789  0.007644\n",
      "wider          0.127263  0.202414\n",
      "\n",
      "[13253 rows x 2 columns]\n"
     ]
    }
   ],
   "source": [
    "similaritie = pd.DataFrame({'Female':female_similarities,'Male':male_similarities})\n",
    "similaritie.index=adjectives\n",
    "print(similaritie)"
   ]
  },
  {
   "cell_type": "code",
   "execution_count": 83,
   "id": "00e9b988-7563-48ab-ae70-c8e6ccab7a7f",
   "metadata": {},
   "outputs": [
    {
     "name": "stdout",
     "output_type": "stream",
     "text": [
      "Index(['longer', 'sorry', 'somebody', 'overjoyed', 'meantime', 'surprise',\n",
      "       'broke', 'confused', 'anymore', 'distressed', 'thrilled', 'none',\n",
      "       'pretending', 'worried', 'suitable', 'stunned', 'decent', 'changed',\n",
      "       'unready', 'reconnect', 'imtehal', 'tired', 'gidget', 'apologizes',\n",
      "       'nevertheless', 'slept', 'sadly', 'depressed', 'uncomfortable',\n",
      "       'already', 'manipulable', 'thinks', 'suddenly', 'aleya', 'mistake',\n",
      "       'somehow', 'relieved', 'ashamed', 'bother', 'embarrassed',\n",
      "       'misunderstanding', 'loved', 'amends', 'pleased', 'though', 'sees',\n",
      "       'nowhere', 'ecstatic', 'forgotten', 'leave', 'delighted', 'embrace',\n",
      "       'desperately', 'clearly', 'excited', 'forgive', 'unwell', 'someday',\n",
      "       'healthy', 'shed', 'sake', 'calm', 'reconcile', 'sober', 'touch',\n",
      "       'okay', 'wont', 'want', 'happen', 'horrified', 'neither', 'coming',\n",
      "       'otherwise', 'genuinely', 'disturbed', 'missed', 'properly', 'fun',\n",
      "       'nicer', 'despondent', 'ruined', 'élizabeth', 'devastated', 'pretend',\n",
      "       'neglected', 'cant', 'unhappy', 'unexpectedly', 'knowing', 'betrayed',\n",
      "       'expecting', 'whole', 'happily', 'readily', 'happier', 'unsure',\n",
      "       'dissociated', 'hug', 'unfortunately', 'sincerely'],\n",
      "      dtype='object')\n",
      "Index(['unfortunately', 'fixed', 'longer', 'wont', 'somehow', 'pretending',\n",
      "       'none', 'broke', 'anymore', 'whole', 'coming', 'suddenly', 'somebody',\n",
      "       'betrayed', 'promptly', 'whoever', 'let', 'meantime', 'latter',\n",
      "       'mistake', 'stopped', 'leave', 'knowing', 'safe', 'krrish', 'stops',\n",
      "       'sees', 'barely', 'surprise', 'finish', 'relieved', 'safer', 'anywhere',\n",
      "       'tricked', 'matter', 'turns', 'bother', 'cant', 'hiding', 'straighten',\n",
      "       'siddhappa', 'realizes', 'thinks', 'meanwhile', 'desperate', 'though',\n",
      "       'sorry', 'mistakenly', 'want', 'shed', 'already', 'warn', 'save',\n",
      "       'stunned', 'therefore', 'badly', 'tamawos', 'otherwise', 'forgot',\n",
      "       'amends', 'properly', 'overjoyed', 'intent', 'deciding', 'bring',\n",
      "       'almost', 'whatever', 'gidget', 'planned', 'dud', 'presumably',\n",
      "       'screwy', 'telling', 'readily', 'untie', 'missed', 'sadly', 'okay',\n",
      "       'decent', 'desperately', 'effortless', 'afterwards', 'every',\n",
      "       'apologizes', 'find', 'nowhere', 'saving', 'impossible', 'foolishly',\n",
      "       'throw', 'touch', 'entire', 'happen', 'someplace', 'gani', 'wishing',\n",
      "       'ruined', 'needs', 'redferne', 'someday'],\n",
      "      dtype='object')\n"
     ]
    }
   ],
   "source": [
    "top_20_female_adj = similaritie['Female'].sort_values(ascending=False).head(100).index\n",
    "top_20_male_adj = similaritie['Male'].sort_values(ascending=False).head(100).index\n",
    "print(top_20_female_adj)\n",
    "print(top_20_male_adj)"
   ]
  },
  {
   "cell_type": "markdown",
   "id": "e18f18a6-e0ad-4d28-8ea0-1786902f09d1",
   "metadata": {},
   "source": [
    "Next step will be statistical analysis but for now it hasn't been started :). Before this we will need to fine tune the adjective exraction as lots of words aren't adjectives in it. "
   ]
  }
 ],
 "metadata": {
  "kernelspec": {
   "display_name": "Python 3 (ipykernel)",
   "language": "python",
   "name": "python3"
  },
  "language_info": {
   "codemirror_mode": {
    "name": "ipython",
    "version": 3
   },
   "file_extension": ".py",
   "mimetype": "text/x-python",
   "name": "python",
   "nbconvert_exporter": "python",
   "pygments_lexer": "ipython3",
   "version": "3.9.18"
  }
 },
 "nbformat": 4,
 "nbformat_minor": 5
}
